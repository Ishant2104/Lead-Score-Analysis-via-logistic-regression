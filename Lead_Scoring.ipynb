{
 "cells": [
  {
   "cell_type": "markdown",
   "id": "7b7dcb8094043356",
   "metadata": {},
   "source": [
    "# ***PROBLEM STATEMENT***\n",
    "X Education sells online courses to industry professionals. The company markets its courses on several websites and search engines like Google. Once these people land on the website, they might browse the courses or fill up a form for the course or watch some videos. When these people fill up a form providing their email address or phone number, they are classified to be a lead. Moreover, the company also gets leads through past referrals. Once these leads are acquired, employees from the sales team start making calls, writing emails, etc. Through this process, some of the leads get converted while most do not. The typical lead conversion rate at X education is around 30%.\n",
    "\n",
    "# ***Business Goal***\n",
    "X Education needs help in selecting the most promising leads, i.e. the leads that are most likely to convert into paying customers. The company needs a model wherein you a lead score is assigned to each of the leads such that the customers with higher lead score have a higher conversion chance and the customers with lower lead score have a lower conversion chance. The CEO, in particular, has given a ballpark of the target lead conversion rate to be around 80%.\n",
    "\n",
    "# ***GOAL:***\n",
    "Build a logistic regression model to assign a lead score between 0 and 100 to each of the leads, which can be used by the company to target potential leads. A higher score would mean that the lead is hot, i.e., most likely to convert, whereas a lower score would mean that the lead is cold and will mostly not get converted.\n",
    "\n",
    "# Steps Included:\n",
    "1. Data Understanding and Analysis\n",
    "2. Data Cleaning and Preparation\n",
    "3. Model Building\n",
    "4. Model Assessment\n",
    "5. Model Evaluation"
   ]
  },
  {
   "cell_type": "code",
   "execution_count": 521,
   "id": "8984a81c7acc3d3",
   "metadata": {
    "ExecuteTime": {
     "end_time": "2025-08-16T15:53:18.527451Z",
     "start_time": "2025-08-16T15:53:18.520859Z"
    }
   },
   "outputs": [],
   "source": [
    "# Required Libraries\n",
    "import numpy as np\n",
    "import pandas as pd\n",
    "import matplotlib.pyplot as plt\n",
    "import seaborn as sns\n",
    "\n",
    "from sklearn.model_selection import train_test_split\n",
    "from sklearn.preprocessing import MinMaxScaler\n",
    "from sklearn.feature_selection import RFE\n",
    "from sklearn.linear_model import LogisticRegression\n",
    "from sklearn import metrics\n",
    "from sklearn.metrics import precision_recall_curve\n",
    "\n",
    "import statsmodels.api as sm\n",
    "from statsmodels.stats.outliers_influence import variance_inflation_factor\n",
    "\n",
    "import warnings\n",
    "warnings.filterwarnings('ignore')"
   ]
  },
  {
   "cell_type": "code",
   "execution_count": 522,
   "id": "7b2a8c2e2904f9ab",
   "metadata": {
    "ExecuteTime": {
     "end_time": "2025-08-16T15:53:18.648719Z",
     "start_time": "2025-08-16T15:53:18.592886Z"
    }
   },
   "outputs": [
    {
     "data": {
      "text/html": [
       "<div>\n",
       "<style scoped>\n",
       "    .dataframe tbody tr th:only-of-type {\n",
       "        vertical-align: middle;\n",
       "    }\n",
       "\n",
       "    .dataframe tbody tr th {\n",
       "        vertical-align: top;\n",
       "    }\n",
       "\n",
       "    .dataframe thead th {\n",
       "        text-align: right;\n",
       "    }\n",
       "</style>\n",
       "<table border=\"1\" class=\"dataframe\">\n",
       "  <thead>\n",
       "    <tr style=\"text-align: right;\">\n",
       "      <th></th>\n",
       "      <th>Prospect ID</th>\n",
       "      <th>Lead Number</th>\n",
       "      <th>Lead Origin</th>\n",
       "      <th>Lead Source</th>\n",
       "      <th>Do Not Email</th>\n",
       "      <th>Do Not Call</th>\n",
       "      <th>Converted</th>\n",
       "      <th>TotalVisits</th>\n",
       "      <th>Total Time Spent on Website</th>\n",
       "      <th>Page Views Per Visit</th>\n",
       "      <th>...</th>\n",
       "      <th>Get updates on DM Content</th>\n",
       "      <th>Lead Profile</th>\n",
       "      <th>City</th>\n",
       "      <th>Asymmetrique Activity Index</th>\n",
       "      <th>Asymmetrique Profile Index</th>\n",
       "      <th>Asymmetrique Activity Score</th>\n",
       "      <th>Asymmetrique Profile Score</th>\n",
       "      <th>I agree to pay the amount through cheque</th>\n",
       "      <th>A free copy of Mastering The Interview</th>\n",
       "      <th>Last Notable Activity</th>\n",
       "    </tr>\n",
       "  </thead>\n",
       "  <tbody>\n",
       "    <tr>\n",
       "      <th>0</th>\n",
       "      <td>7927b2df-8bba-4d29-b9a2-b6e0beafe620</td>\n",
       "      <td>660737</td>\n",
       "      <td>API</td>\n",
       "      <td>Olark Chat</td>\n",
       "      <td>No</td>\n",
       "      <td>No</td>\n",
       "      <td>0</td>\n",
       "      <td>0.0</td>\n",
       "      <td>0</td>\n",
       "      <td>0.0</td>\n",
       "      <td>...</td>\n",
       "      <td>No</td>\n",
       "      <td>Select</td>\n",
       "      <td>Select</td>\n",
       "      <td>02.Medium</td>\n",
       "      <td>02.Medium</td>\n",
       "      <td>15.0</td>\n",
       "      <td>15.0</td>\n",
       "      <td>No</td>\n",
       "      <td>No</td>\n",
       "      <td>Modified</td>\n",
       "    </tr>\n",
       "    <tr>\n",
       "      <th>1</th>\n",
       "      <td>2a272436-5132-4136-86fa-dcc88c88f482</td>\n",
       "      <td>660728</td>\n",
       "      <td>API</td>\n",
       "      <td>Organic Search</td>\n",
       "      <td>No</td>\n",
       "      <td>No</td>\n",
       "      <td>0</td>\n",
       "      <td>5.0</td>\n",
       "      <td>674</td>\n",
       "      <td>2.5</td>\n",
       "      <td>...</td>\n",
       "      <td>No</td>\n",
       "      <td>Select</td>\n",
       "      <td>Select</td>\n",
       "      <td>02.Medium</td>\n",
       "      <td>02.Medium</td>\n",
       "      <td>15.0</td>\n",
       "      <td>15.0</td>\n",
       "      <td>No</td>\n",
       "      <td>No</td>\n",
       "      <td>Email Opened</td>\n",
       "    </tr>\n",
       "    <tr>\n",
       "      <th>2</th>\n",
       "      <td>8cc8c611-a219-4f35-ad23-fdfd2656bd8a</td>\n",
       "      <td>660727</td>\n",
       "      <td>Landing Page Submission</td>\n",
       "      <td>Direct Traffic</td>\n",
       "      <td>No</td>\n",
       "      <td>No</td>\n",
       "      <td>1</td>\n",
       "      <td>2.0</td>\n",
       "      <td>1532</td>\n",
       "      <td>2.0</td>\n",
       "      <td>...</td>\n",
       "      <td>No</td>\n",
       "      <td>Potential Lead</td>\n",
       "      <td>Mumbai</td>\n",
       "      <td>02.Medium</td>\n",
       "      <td>01.High</td>\n",
       "      <td>14.0</td>\n",
       "      <td>20.0</td>\n",
       "      <td>No</td>\n",
       "      <td>Yes</td>\n",
       "      <td>Email Opened</td>\n",
       "    </tr>\n",
       "    <tr>\n",
       "      <th>3</th>\n",
       "      <td>0cc2df48-7cf4-4e39-9de9-19797f9b38cc</td>\n",
       "      <td>660719</td>\n",
       "      <td>Landing Page Submission</td>\n",
       "      <td>Direct Traffic</td>\n",
       "      <td>No</td>\n",
       "      <td>No</td>\n",
       "      <td>0</td>\n",
       "      <td>1.0</td>\n",
       "      <td>305</td>\n",
       "      <td>1.0</td>\n",
       "      <td>...</td>\n",
       "      <td>No</td>\n",
       "      <td>Select</td>\n",
       "      <td>Mumbai</td>\n",
       "      <td>02.Medium</td>\n",
       "      <td>01.High</td>\n",
       "      <td>13.0</td>\n",
       "      <td>17.0</td>\n",
       "      <td>No</td>\n",
       "      <td>No</td>\n",
       "      <td>Modified</td>\n",
       "    </tr>\n",
       "    <tr>\n",
       "      <th>4</th>\n",
       "      <td>3256f628-e534-4826-9d63-4a8b88782852</td>\n",
       "      <td>660681</td>\n",
       "      <td>Landing Page Submission</td>\n",
       "      <td>Google</td>\n",
       "      <td>No</td>\n",
       "      <td>No</td>\n",
       "      <td>1</td>\n",
       "      <td>2.0</td>\n",
       "      <td>1428</td>\n",
       "      <td>1.0</td>\n",
       "      <td>...</td>\n",
       "      <td>No</td>\n",
       "      <td>Select</td>\n",
       "      <td>Mumbai</td>\n",
       "      <td>02.Medium</td>\n",
       "      <td>01.High</td>\n",
       "      <td>15.0</td>\n",
       "      <td>18.0</td>\n",
       "      <td>No</td>\n",
       "      <td>No</td>\n",
       "      <td>Modified</td>\n",
       "    </tr>\n",
       "  </tbody>\n",
       "</table>\n",
       "<p>5 rows × 37 columns</p>\n",
       "</div>"
      ],
      "text/plain": [
       "                            Prospect ID  Lead Number              Lead Origin  \\\n",
       "0  7927b2df-8bba-4d29-b9a2-b6e0beafe620       660737                      API   \n",
       "1  2a272436-5132-4136-86fa-dcc88c88f482       660728                      API   \n",
       "2  8cc8c611-a219-4f35-ad23-fdfd2656bd8a       660727  Landing Page Submission   \n",
       "3  0cc2df48-7cf4-4e39-9de9-19797f9b38cc       660719  Landing Page Submission   \n",
       "4  3256f628-e534-4826-9d63-4a8b88782852       660681  Landing Page Submission   \n",
       "\n",
       "      Lead Source Do Not Email Do Not Call  Converted  TotalVisits  \\\n",
       "0      Olark Chat           No          No          0          0.0   \n",
       "1  Organic Search           No          No          0          5.0   \n",
       "2  Direct Traffic           No          No          1          2.0   \n",
       "3  Direct Traffic           No          No          0          1.0   \n",
       "4          Google           No          No          1          2.0   \n",
       "\n",
       "   Total Time Spent on Website  Page Views Per Visit  ...  \\\n",
       "0                            0                   0.0  ...   \n",
       "1                          674                   2.5  ...   \n",
       "2                         1532                   2.0  ...   \n",
       "3                          305                   1.0  ...   \n",
       "4                         1428                   1.0  ...   \n",
       "\n",
       "  Get updates on DM Content    Lead Profile    City  \\\n",
       "0                        No          Select  Select   \n",
       "1                        No          Select  Select   \n",
       "2                        No  Potential Lead  Mumbai   \n",
       "3                        No          Select  Mumbai   \n",
       "4                        No          Select  Mumbai   \n",
       "\n",
       "  Asymmetrique Activity Index Asymmetrique Profile Index  \\\n",
       "0                   02.Medium                  02.Medium   \n",
       "1                   02.Medium                  02.Medium   \n",
       "2                   02.Medium                    01.High   \n",
       "3                   02.Medium                    01.High   \n",
       "4                   02.Medium                    01.High   \n",
       "\n",
       "  Asymmetrique Activity Score Asymmetrique Profile Score  \\\n",
       "0                        15.0                       15.0   \n",
       "1                        15.0                       15.0   \n",
       "2                        14.0                       20.0   \n",
       "3                        13.0                       17.0   \n",
       "4                        15.0                       18.0   \n",
       "\n",
       "  I agree to pay the amount through cheque  \\\n",
       "0                                       No   \n",
       "1                                       No   \n",
       "2                                       No   \n",
       "3                                       No   \n",
       "4                                       No   \n",
       "\n",
       "  A free copy of Mastering The Interview Last Notable Activity  \n",
       "0                                     No              Modified  \n",
       "1                                     No          Email Opened  \n",
       "2                                    Yes          Email Opened  \n",
       "3                                     No              Modified  \n",
       "4                                     No              Modified  \n",
       "\n",
       "[5 rows x 37 columns]"
      ]
     },
     "execution_count": 522,
     "metadata": {},
     "output_type": "execute_result"
    }
   ],
   "source": [
    "# Reading Data\n",
    "lead_data = pd.read_csv('Leads.csv')\n",
    "lead_data.head()"
   ]
  },
  {
   "cell_type": "markdown",
   "id": "8e1272c87f696901",
   "metadata": {},
   "source": [
    "## Data Understanding"
   ]
  },
  {
   "cell_type": "code",
   "execution_count": 523,
   "id": "f95dfe4fa877b33e",
   "metadata": {
    "ExecuteTime": {
     "end_time": "2025-08-16T15:53:18.699845Z",
     "start_time": "2025-08-16T15:53:18.694829Z"
    }
   },
   "outputs": [
    {
     "data": {
      "text/plain": [
       "(9240, 37)"
      ]
     },
     "execution_count": 523,
     "metadata": {},
     "output_type": "execute_result"
    }
   ],
   "source": [
    "# Checking shape\n",
    "lead_data.shape"
   ]
  },
  {
   "cell_type": "markdown",
   "id": "588b05b53d1f5ed1",
   "metadata": {},
   "source": [
    "There are total **37 columns** and **9240 rows** in our dataset"
   ]
  },
  {
   "cell_type": "code",
   "execution_count": 524,
   "id": "23d1467c138906e7",
   "metadata": {
    "ExecuteTime": {
     "end_time": "2025-08-16T15:53:18.757165Z",
     "start_time": "2025-08-16T15:53:18.741813Z"
    }
   },
   "outputs": [
    {
     "name": "stdout",
     "output_type": "stream",
     "text": [
      "<class 'pandas.core.frame.DataFrame'>\n",
      "RangeIndex: 9240 entries, 0 to 9239\n",
      "Data columns (total 37 columns):\n",
      " #   Column                                         Non-Null Count  Dtype  \n",
      "---  ------                                         --------------  -----  \n",
      " 0   Prospect ID                                    9240 non-null   object \n",
      " 1   Lead Number                                    9240 non-null   int64  \n",
      " 2   Lead Origin                                    9240 non-null   object \n",
      " 3   Lead Source                                    9204 non-null   object \n",
      " 4   Do Not Email                                   9240 non-null   object \n",
      " 5   Do Not Call                                    9240 non-null   object \n",
      " 6   Converted                                      9240 non-null   int64  \n",
      " 7   TotalVisits                                    9103 non-null   float64\n",
      " 8   Total Time Spent on Website                    9240 non-null   int64  \n",
      " 9   Page Views Per Visit                           9103 non-null   float64\n",
      " 10  Last Activity                                  9137 non-null   object \n",
      " 11  Country                                        6779 non-null   object \n",
      " 12  Specialization                                 7802 non-null   object \n",
      " 13  How did you hear about X Education             7033 non-null   object \n",
      " 14  What is your current occupation                6550 non-null   object \n",
      " 15  What matters most to you in choosing a course  6531 non-null   object \n",
      " 16  Search                                         9240 non-null   object \n",
      " 17  Magazine                                       9240 non-null   object \n",
      " 18  Newspaper Article                              9240 non-null   object \n",
      " 19  X Education Forums                             9240 non-null   object \n",
      " 20  Newspaper                                      9240 non-null   object \n",
      " 21  Digital Advertisement                          9240 non-null   object \n",
      " 22  Through Recommendations                        9240 non-null   object \n",
      " 23  Receive More Updates About Our Courses         9240 non-null   object \n",
      " 24  Tags                                           5887 non-null   object \n",
      " 25  Lead Quality                                   4473 non-null   object \n",
      " 26  Update me on Supply Chain Content              9240 non-null   object \n",
      " 27  Get updates on DM Content                      9240 non-null   object \n",
      " 28  Lead Profile                                   6531 non-null   object \n",
      " 29  City                                           7820 non-null   object \n",
      " 30  Asymmetrique Activity Index                    5022 non-null   object \n",
      " 31  Asymmetrique Profile Index                     5022 non-null   object \n",
      " 32  Asymmetrique Activity Score                    5022 non-null   float64\n",
      " 33  Asymmetrique Profile Score                     5022 non-null   float64\n",
      " 34  I agree to pay the amount through cheque       9240 non-null   object \n",
      " 35  A free copy of Mastering The Interview         9240 non-null   object \n",
      " 36  Last Notable Activity                          9240 non-null   object \n",
      "dtypes: float64(4), int64(3), object(30)\n",
      "memory usage: 2.6+ MB\n"
     ]
    }
   ],
   "source": [
    "# Checking info\n",
    "lead_data.info()"
   ]
  },
  {
   "cell_type": "code",
   "execution_count": 525,
   "id": "2166f0b7264a66ab",
   "metadata": {
    "ExecuteTime": {
     "end_time": "2025-08-16T15:53:18.888288Z",
     "start_time": "2025-08-16T15:53:18.867970Z"
    }
   },
   "outputs": [
    {
     "data": {
      "text/html": [
       "<div>\n",
       "<style scoped>\n",
       "    .dataframe tbody tr th:only-of-type {\n",
       "        vertical-align: middle;\n",
       "    }\n",
       "\n",
       "    .dataframe tbody tr th {\n",
       "        vertical-align: top;\n",
       "    }\n",
       "\n",
       "    .dataframe thead th {\n",
       "        text-align: right;\n",
       "    }\n",
       "</style>\n",
       "<table border=\"1\" class=\"dataframe\">\n",
       "  <thead>\n",
       "    <tr style=\"text-align: right;\">\n",
       "      <th></th>\n",
       "      <th>Lead Number</th>\n",
       "      <th>Converted</th>\n",
       "      <th>TotalVisits</th>\n",
       "      <th>Total Time Spent on Website</th>\n",
       "      <th>Page Views Per Visit</th>\n",
       "      <th>Asymmetrique Activity Score</th>\n",
       "      <th>Asymmetrique Profile Score</th>\n",
       "    </tr>\n",
       "  </thead>\n",
       "  <tbody>\n",
       "    <tr>\n",
       "      <th>count</th>\n",
       "      <td>9240.000000</td>\n",
       "      <td>9240.000000</td>\n",
       "      <td>9103.000000</td>\n",
       "      <td>9240.000000</td>\n",
       "      <td>9103.000000</td>\n",
       "      <td>5022.000000</td>\n",
       "      <td>5022.000000</td>\n",
       "    </tr>\n",
       "    <tr>\n",
       "      <th>mean</th>\n",
       "      <td>617188.435606</td>\n",
       "      <td>0.385390</td>\n",
       "      <td>3.445238</td>\n",
       "      <td>487.698268</td>\n",
       "      <td>2.362820</td>\n",
       "      <td>14.306252</td>\n",
       "      <td>16.344883</td>\n",
       "    </tr>\n",
       "    <tr>\n",
       "      <th>std</th>\n",
       "      <td>23405.995698</td>\n",
       "      <td>0.486714</td>\n",
       "      <td>4.854853</td>\n",
       "      <td>548.021466</td>\n",
       "      <td>2.161418</td>\n",
       "      <td>1.386694</td>\n",
       "      <td>1.811395</td>\n",
       "    </tr>\n",
       "    <tr>\n",
       "      <th>min</th>\n",
       "      <td>579533.000000</td>\n",
       "      <td>0.000000</td>\n",
       "      <td>0.000000</td>\n",
       "      <td>0.000000</td>\n",
       "      <td>0.000000</td>\n",
       "      <td>7.000000</td>\n",
       "      <td>11.000000</td>\n",
       "    </tr>\n",
       "    <tr>\n",
       "      <th>25%</th>\n",
       "      <td>596484.500000</td>\n",
       "      <td>0.000000</td>\n",
       "      <td>1.000000</td>\n",
       "      <td>12.000000</td>\n",
       "      <td>1.000000</td>\n",
       "      <td>14.000000</td>\n",
       "      <td>15.000000</td>\n",
       "    </tr>\n",
       "    <tr>\n",
       "      <th>50%</th>\n",
       "      <td>615479.000000</td>\n",
       "      <td>0.000000</td>\n",
       "      <td>3.000000</td>\n",
       "      <td>248.000000</td>\n",
       "      <td>2.000000</td>\n",
       "      <td>14.000000</td>\n",
       "      <td>16.000000</td>\n",
       "    </tr>\n",
       "    <tr>\n",
       "      <th>75%</th>\n",
       "      <td>637387.250000</td>\n",
       "      <td>1.000000</td>\n",
       "      <td>5.000000</td>\n",
       "      <td>936.000000</td>\n",
       "      <td>3.000000</td>\n",
       "      <td>15.000000</td>\n",
       "      <td>18.000000</td>\n",
       "    </tr>\n",
       "    <tr>\n",
       "      <th>max</th>\n",
       "      <td>660737.000000</td>\n",
       "      <td>1.000000</td>\n",
       "      <td>251.000000</td>\n",
       "      <td>2272.000000</td>\n",
       "      <td>55.000000</td>\n",
       "      <td>18.000000</td>\n",
       "      <td>20.000000</td>\n",
       "    </tr>\n",
       "  </tbody>\n",
       "</table>\n",
       "</div>"
      ],
      "text/plain": [
       "         Lead Number    Converted  TotalVisits  Total Time Spent on Website  \\\n",
       "count    9240.000000  9240.000000  9103.000000                  9240.000000   \n",
       "mean   617188.435606     0.385390     3.445238                   487.698268   \n",
       "std     23405.995698     0.486714     4.854853                   548.021466   \n",
       "min    579533.000000     0.000000     0.000000                     0.000000   \n",
       "25%    596484.500000     0.000000     1.000000                    12.000000   \n",
       "50%    615479.000000     0.000000     3.000000                   248.000000   \n",
       "75%    637387.250000     1.000000     5.000000                   936.000000   \n",
       "max    660737.000000     1.000000   251.000000                  2272.000000   \n",
       "\n",
       "       Page Views Per Visit  Asymmetrique Activity Score  \\\n",
       "count           9103.000000                  5022.000000   \n",
       "mean               2.362820                    14.306252   \n",
       "std                2.161418                     1.386694   \n",
       "min                0.000000                     7.000000   \n",
       "25%                1.000000                    14.000000   \n",
       "50%                2.000000                    14.000000   \n",
       "75%                3.000000                    15.000000   \n",
       "max               55.000000                    18.000000   \n",
       "\n",
       "       Asymmetrique Profile Score  \n",
       "count                 5022.000000  \n",
       "mean                    16.344883  \n",
       "std                      1.811395  \n",
       "min                     11.000000  \n",
       "25%                     15.000000  \n",
       "50%                     16.000000  \n",
       "75%                     18.000000  \n",
       "max                     20.000000  "
      ]
     },
     "execution_count": 525,
     "metadata": {},
     "output_type": "execute_result"
    }
   ],
   "source": [
    "# Checking statistical summary of numerical columns\n",
    "lead_data.describe()"
   ]
  },
  {
   "cell_type": "markdown",
   "id": "8821423f",
   "metadata": {},
   "source": [
    "#### Checking coversion rate in dataset"
   ]
  },
  {
   "cell_type": "code",
   "execution_count": 526,
   "id": "61e3d644",
   "metadata": {},
   "outputs": [
    {
     "data": {
      "text/plain": [
       "39.0"
      ]
     },
     "execution_count": 526,
     "metadata": {},
     "output_type": "execute_result"
    }
   ],
   "source": [
    "round(lead_data['Converted'].sum()/len(lead_data),2)*100"
   ]
  },
  {
   "cell_type": "markdown",
   "id": "768bbf1a",
   "metadata": {},
   "source": [
    "Conversion rate is 39%."
   ]
  },
  {
   "cell_type": "markdown",
   "id": "cff50aa7f56e67d",
   "metadata": {},
   "source": [
    "# Cleaning Dataset"
   ]
  },
  {
   "cell_type": "code",
   "execution_count": 527,
   "id": "62525eb898bf733b",
   "metadata": {
    "ExecuteTime": {
     "end_time": "2025-08-16T15:53:18.996551Z",
     "start_time": "2025-08-16T15:53:18.977491Z"
    }
   },
   "outputs": [
    {
     "data": {
      "text/plain": [
       "0"
      ]
     },
     "execution_count": 527,
     "metadata": {},
     "output_type": "execute_result"
    }
   ],
   "source": [
    "# Checking for duplicate values\n",
    "lead_data.duplicated().sum()"
   ]
  },
  {
   "cell_type": "markdown",
   "id": "66383ebd9d96383b",
   "metadata": {},
   "source": [
    "There are no duplicate values in our dataset."
   ]
  },
  {
   "cell_type": "code",
   "execution_count": 528,
   "id": "613b55cbdc27826b",
   "metadata": {
    "ExecuteTime": {
     "end_time": "2025-08-16T15:53:19.115537Z",
     "start_time": "2025-08-16T15:53:19.108537Z"
    }
   },
   "outputs": [],
   "source": [
    "# Dropping 'Prospect ID' and 'Lead Number' since they are all uniques values and wong help in model building\n",
    "lead_data = lead_data.drop(columns = ['Prospect ID', 'Lead Number'], axis=1)"
   ]
  },
  {
   "cell_type": "code",
   "execution_count": 529,
   "id": "160c3fe43ccf1eec",
   "metadata": {
    "ExecuteTime": {
     "end_time": "2025-08-16T15:53:19.179764Z",
     "start_time": "2025-08-16T15:53:19.165760Z"
    }
   },
   "outputs": [
    {
     "data": {
      "text/plain": [
       "Lead Quality                                     4767\n",
       "Asymmetrique Activity Index                      4218\n",
       "Asymmetrique Profile Score                       4218\n",
       "Asymmetrique Profile Index                       4218\n",
       "Asymmetrique Activity Score                      4218\n",
       "Tags                                             3353\n",
       "Lead Profile                                     2709\n",
       "What matters most to you in choosing a course    2709\n",
       "What is your current occupation                  2690\n",
       "Country                                          2461\n",
       "How did you hear about X Education               2207\n",
       "Specialization                                   1438\n",
       "City                                             1420\n",
       "Page Views Per Visit                              137\n",
       "TotalVisits                                       137\n",
       "Last Activity                                     103\n",
       "Lead Source                                        36\n",
       "I agree to pay the amount through cheque            0\n",
       "A free copy of Mastering The Interview              0\n",
       "Get updates on DM Content                           0\n",
       "Update me on Supply Chain Content                   0\n",
       "Lead Origin                                         0\n",
       "X Education Forums                                  0\n",
       "Receive More Updates About Our Courses              0\n",
       "Through Recommendations                             0\n",
       "Digital Advertisement                               0\n",
       "Newspaper                                           0\n",
       "Newspaper Article                                   0\n",
       "Magazine                                            0\n",
       "Search                                              0\n",
       "Total Time Spent on Website                         0\n",
       "Converted                                           0\n",
       "Do Not Call                                         0\n",
       "Do Not Email                                        0\n",
       "Last Notable Activity                               0\n",
       "dtype: int64"
      ]
     },
     "execution_count": 529,
     "metadata": {},
     "output_type": "execute_result"
    }
   ],
   "source": [
    "# Checking Null Values\n",
    "lead_data.isnull().sum().sort_values(ascending=False)"
   ]
  },
  {
   "cell_type": "code",
   "execution_count": 530,
   "id": "8216b47e46f65ab1",
   "metadata": {
    "ExecuteTime": {
     "end_time": "2025-08-16T15:53:19.296244Z",
     "start_time": "2025-08-16T15:53:19.280125Z"
    }
   },
   "outputs": [
    {
     "data": {
      "text/plain": [
       "Lead Quality                                     51.59\n",
       "Asymmetrique Activity Index                      45.65\n",
       "Asymmetrique Profile Score                       45.65\n",
       "Asymmetrique Profile Index                       45.65\n",
       "Asymmetrique Activity Score                      45.65\n",
       "Tags                                             36.29\n",
       "Lead Profile                                     29.32\n",
       "What matters most to you in choosing a course    29.32\n",
       "What is your current occupation                  29.11\n",
       "Country                                          26.63\n",
       "How did you hear about X Education               23.89\n",
       "Specialization                                   15.56\n",
       "City                                             15.37\n",
       "Page Views Per Visit                              1.48\n",
       "TotalVisits                                       1.48\n",
       "Last Activity                                     1.11\n",
       "Lead Source                                       0.39\n",
       "I agree to pay the amount through cheque          0.00\n",
       "A free copy of Mastering The Interview            0.00\n",
       "Get updates on DM Content                         0.00\n",
       "Update me on Supply Chain Content                 0.00\n",
       "Lead Origin                                       0.00\n",
       "X Education Forums                                0.00\n",
       "Receive More Updates About Our Courses            0.00\n",
       "Through Recommendations                           0.00\n",
       "Digital Advertisement                             0.00\n",
       "Newspaper                                         0.00\n",
       "Newspaper Article                                 0.00\n",
       "Magazine                                          0.00\n",
       "Search                                            0.00\n",
       "Total Time Spent on Website                       0.00\n",
       "Converted                                         0.00\n",
       "Do Not Call                                       0.00\n",
       "Do Not Email                                      0.00\n",
       "Last Notable Activity                             0.00\n",
       "dtype: float64"
      ]
     },
     "execution_count": 530,
     "metadata": {},
     "output_type": "execute_result"
    }
   ],
   "source": [
    "# Null count in percentage\n",
    "round(100*lead_data.isnull().sum()/len(lead_data),2).sort_values(ascending=False)"
   ]
  },
  {
   "cell_type": "markdown",
   "id": "71b5f75722f24be0",
   "metadata": {},
   "source": [
    "Dropping 'Lead Quality', 'Asymmetrique Activity Index', 'Asymmetrique Profile Score','Asymmetrique Profile Index','Asymmetrique Activity Score' and 'Tags', Since they contains large number of null values are also wont be help in our analysis\n"
   ]
  },
  {
   "cell_type": "code",
   "execution_count": 531,
   "id": "84631efeee2ee77b",
   "metadata": {
    "ExecuteTime": {
     "end_time": "2025-08-16T15:53:19.388Z",
     "start_time": "2025-08-16T15:53:19.380840Z"
    }
   },
   "outputs": [],
   "source": [
    "# dropping columns with more than 35% null values\n",
    "lead_data = lead_data.drop(columns = ['Lead Quality', 'Asymmetrique Activity Index', 'Asymmetrique Profile Score','Asymmetrique Profile Index','Asymmetrique Activity Score', 'Tags'], axis=1)\n"
   ]
  },
  {
   "cell_type": "code",
   "execution_count": 532,
   "id": "18b823c1d7fad59b",
   "metadata": {
    "ExecuteTime": {
     "end_time": "2025-08-16T15:53:19.475021Z",
     "start_time": "2025-08-16T15:53:19.460862Z"
    }
   },
   "outputs": [
    {
     "data": {
      "text/plain": [
       "Lead Profile                                     29.32\n",
       "What matters most to you in choosing a course    29.32\n",
       "What is your current occupation                  29.11\n",
       "Country                                          26.63\n",
       "How did you hear about X Education               23.89\n",
       "Specialization                                   15.56\n",
       "City                                             15.37\n",
       "TotalVisits                                       1.48\n",
       "Page Views Per Visit                              1.48\n",
       "Last Activity                                     1.11\n",
       "Lead Source                                       0.39\n",
       "Receive More Updates About Our Courses            0.00\n",
       "Update me on Supply Chain Content                 0.00\n",
       "Get updates on DM Content                         0.00\n",
       "Lead Origin                                       0.00\n",
       "Digital Advertisement                             0.00\n",
       "I agree to pay the amount through cheque          0.00\n",
       "A free copy of Mastering The Interview            0.00\n",
       "Through Recommendations                           0.00\n",
       "Search                                            0.00\n",
       "Newspaper                                         0.00\n",
       "X Education Forums                                0.00\n",
       "Newspaper Article                                 0.00\n",
       "Magazine                                          0.00\n",
       "Total Time Spent on Website                       0.00\n",
       "Converted                                         0.00\n",
       "Do Not Call                                       0.00\n",
       "Do Not Email                                      0.00\n",
       "Last Notable Activity                             0.00\n",
       "dtype: float64"
      ]
     },
     "execution_count": 532,
     "metadata": {},
     "output_type": "execute_result"
    }
   ],
   "source": [
    "# Null count in percentage after dropping columns\n",
    "round(100*lead_data.isnull().sum()/len(lead_data),2).sort_values(ascending=False)"
   ]
  },
  {
   "cell_type": "markdown",
   "id": "f19e7e3cfaa46fe3",
   "metadata": {},
   "source": [
    "Dropping 'Country' and 'City' since our business in online, we won't be needed country or state in our analysis"
   ]
  },
  {
   "cell_type": "code",
   "execution_count": 533,
   "id": "c9e7380562a53cf4",
   "metadata": {
    "ExecuteTime": {
     "end_time": "2025-08-16T15:53:19.626009Z",
     "start_time": "2025-08-16T15:53:19.619877Z"
    }
   },
   "outputs": [],
   "source": [
    "lead_data = lead_data.drop(columns = [ 'Country', 'City'], axis=1)\n"
   ]
  },
  {
   "cell_type": "code",
   "execution_count": 534,
   "id": "844db607ca08a612",
   "metadata": {
    "ExecuteTime": {
     "end_time": "2025-08-16T15:53:19.723875Z",
     "start_time": "2025-08-16T15:53:19.710490Z"
    }
   },
   "outputs": [
    {
     "data": {
      "text/plain": [
       "Lead Profile                                     29.32\n",
       "What matters most to you in choosing a course    29.32\n",
       "What is your current occupation                  29.11\n",
       "How did you hear about X Education               23.89\n",
       "Specialization                                   15.56\n",
       "TotalVisits                                       1.48\n",
       "Page Views Per Visit                              1.48\n",
       "Last Activity                                     1.11\n",
       "Lead Source                                       0.39\n",
       "Receive More Updates About Our Courses            0.00\n",
       "Update me on Supply Chain Content                 0.00\n",
       "Lead Origin                                       0.00\n",
       "Digital Advertisement                             0.00\n",
       "Get updates on DM Content                         0.00\n",
       "I agree to pay the amount through cheque          0.00\n",
       "A free copy of Mastering The Interview            0.00\n",
       "Through Recommendations                           0.00\n",
       "Search                                            0.00\n",
       "Newspaper                                         0.00\n",
       "X Education Forums                                0.00\n",
       "Newspaper Article                                 0.00\n",
       "Magazine                                          0.00\n",
       "Total Time Spent on Website                       0.00\n",
       "Converted                                         0.00\n",
       "Do Not Call                                       0.00\n",
       "Do Not Email                                      0.00\n",
       "Last Notable Activity                             0.00\n",
       "dtype: float64"
      ]
     },
     "execution_count": 534,
     "metadata": {},
     "output_type": "execute_result"
    }
   ],
   "source": [
    "# Null count in percentage after dropping Country and City\n",
    "round(100*lead_data.isnull().sum()/len(lead_data),2).sort_values(ascending=False)"
   ]
  },
  {
   "cell_type": "code",
   "execution_count": 535,
   "id": "ce97de8ac025a390",
   "metadata": {
    "ExecuteTime": {
     "end_time": "2025-08-16T15:53:19.832115Z",
     "start_time": "2025-08-16T15:53:19.815813Z"
    }
   },
   "outputs": [
    {
     "data": {
      "text/plain": [
       "Lead Origin                                         5\n",
       "Lead Source                                        21\n",
       "Do Not Email                                        2\n",
       "Do Not Call                                         2\n",
       "Converted                                           2\n",
       "TotalVisits                                        41\n",
       "Total Time Spent on Website                      1731\n",
       "Page Views Per Visit                              114\n",
       "Last Activity                                      17\n",
       "Specialization                                     19\n",
       "How did you hear about X Education                 10\n",
       "What is your current occupation                     6\n",
       "What matters most to you in choosing a course       3\n",
       "Search                                              2\n",
       "Magazine                                            1\n",
       "Newspaper Article                                   2\n",
       "X Education Forums                                  2\n",
       "Newspaper                                           2\n",
       "Digital Advertisement                               2\n",
       "Through Recommendations                             2\n",
       "Receive More Updates About Our Courses              1\n",
       "Update me on Supply Chain Content                   1\n",
       "Get updates on DM Content                           1\n",
       "Lead Profile                                        6\n",
       "I agree to pay the amount through cheque            1\n",
       "A free copy of Mastering The Interview              2\n",
       "Last Notable Activity                              16\n",
       "dtype: int64"
      ]
     },
     "execution_count": 535,
     "metadata": {},
     "output_type": "execute_result"
    }
   ],
   "source": [
    "# Checking number of unique values in each column\n",
    "lead_data.nunique()"
   ]
  },
  {
   "cell_type": "markdown",
   "id": "d1436f3fb0cba1d8",
   "metadata": {},
   "source": [
    "The columns 'Magazine', 'Receive More Updates About Our Courses', 'Update me on Supply Chain Content', 'Get updates on DM Content', and 'I agree to pay the amount through cheque' each contain only a single unique value across all rows.\n",
    "Since these columns do not provide any variability, they do not contribute any meaningful information to the model. Therefore, we will remove them from the dataset."
   ]
  },
  {
   "cell_type": "code",
   "execution_count": 536,
   "id": "8e3c400b70bdb868",
   "metadata": {
    "ExecuteTime": {
     "end_time": "2025-08-16T15:53:19.925135Z",
     "start_time": "2025-08-16T15:53:19.918342Z"
    }
   },
   "outputs": [],
   "source": [
    "lead_data = lead_data.drop(columns = [ 'Magazine', 'Receive More Updates About Our Courses', 'Update me on Supply Chain Content', 'Get updates on DM Content', 'I agree to pay the amount through cheque'], axis=1)"
   ]
  },
  {
   "cell_type": "code",
   "execution_count": 537,
   "id": "1421d853ff052789",
   "metadata": {
    "ExecuteTime": {
     "end_time": "2025-08-16T15:53:20.137560Z",
     "start_time": "2025-08-16T15:53:20.124245Z"
    }
   },
   "outputs": [
    {
     "data": {
      "text/plain": [
       "Lead Profile                                     29.32\n",
       "What matters most to you in choosing a course    29.32\n",
       "What is your current occupation                  29.11\n",
       "How did you hear about X Education               23.89\n",
       "Specialization                                   15.56\n",
       "TotalVisits                                       1.48\n",
       "Page Views Per Visit                              1.48\n",
       "Last Activity                                     1.11\n",
       "Lead Source                                       0.39\n",
       "X Education Forums                                0.00\n",
       "A free copy of Mastering The Interview            0.00\n",
       "Through Recommendations                           0.00\n",
       "Digital Advertisement                             0.00\n",
       "Newspaper                                         0.00\n",
       "Lead Origin                                       0.00\n",
       "Newspaper Article                                 0.00\n",
       "Search                                            0.00\n",
       "Total Time Spent on Website                       0.00\n",
       "Converted                                         0.00\n",
       "Do Not Call                                       0.00\n",
       "Do Not Email                                      0.00\n",
       "Last Notable Activity                             0.00\n",
       "dtype: float64"
      ]
     },
     "execution_count": 537,
     "metadata": {},
     "output_type": "execute_result"
    }
   ],
   "source": [
    "round(100*lead_data.isnull().sum()/len(lead_data),2).sort_values(ascending=False)"
   ]
  },
  {
   "cell_type": "markdown",
   "id": "ab60b2e3b4d6f358",
   "metadata": {},
   "source": [
    "#### Checking value counts in each column"
   ]
  },
  {
   "cell_type": "code",
   "execution_count": 538,
   "id": "f84911fe5add4ac",
   "metadata": {
    "ExecuteTime": {
     "end_time": "2025-08-16T15:53:20.259650Z",
     "start_time": "2025-08-16T15:53:20.240007Z"
    }
   },
   "outputs": [
    {
     "name": "stdout",
     "output_type": "stream",
     "text": [
      "Lead Origin\n",
      "Landing Page Submission    4886\n",
      "API                        3580\n",
      "Lead Add Form               718\n",
      "Lead Import                  55\n",
      "Quick Add Form                1\n",
      "Name: count, dtype: int64\n",
      "------------------\n",
      "Lead Source\n",
      "Google               2868\n",
      "Direct Traffic       2543\n",
      "Olark Chat           1755\n",
      "Organic Search       1154\n",
      "Reference             534\n",
      "Welingak Website      142\n",
      "Referral Sites        125\n",
      "Facebook               55\n",
      "bing                    6\n",
      "google                  5\n",
      "Click2call              4\n",
      "Press_Release           2\n",
      "Social Media            2\n",
      "Live Chat               2\n",
      "youtubechannel          1\n",
      "testone                 1\n",
      "Pay per Click Ads       1\n",
      "welearnblog_Home        1\n",
      "WeLearn                 1\n",
      "blog                    1\n",
      "NC_EDM                  1\n",
      "Name: count, dtype: int64\n",
      "------------------\n",
      "Do Not Email\n",
      "No     8506\n",
      "Yes     734\n",
      "Name: count, dtype: int64\n",
      "------------------\n",
      "Do Not Call\n",
      "No     9238\n",
      "Yes       2\n",
      "Name: count, dtype: int64\n",
      "------------------\n",
      "Last Activity\n",
      "Email Opened                    3437\n",
      "SMS Sent                        2745\n",
      "Olark Chat Conversation          973\n",
      "Page Visited on Website          640\n",
      "Converted to Lead                428\n",
      "Email Bounced                    326\n",
      "Email Link Clicked               267\n",
      "Form Submitted on Website        116\n",
      "Unreachable                       93\n",
      "Unsubscribed                      61\n",
      "Had a Phone Conversation          30\n",
      "Approached upfront                 9\n",
      "View in browser link Clicked       6\n",
      "Email Received                     2\n",
      "Email Marked Spam                  2\n",
      "Visited Booth in Tradeshow         1\n",
      "Resubscribed to emails             1\n",
      "Name: count, dtype: int64\n",
      "------------------\n",
      "Specialization\n",
      "Select                               1942\n",
      "Finance Management                    976\n",
      "Human Resource Management             848\n",
      "Marketing Management                  838\n",
      "Operations Management                 503\n",
      "Business Administration               403\n",
      "IT Projects Management                366\n",
      "Supply Chain Management               349\n",
      "Banking, Investment And Insurance     338\n",
      "Travel and Tourism                    203\n",
      "Media and Advertising                 203\n",
      "International Business                178\n",
      "Healthcare Management                 159\n",
      "Hospitality Management                114\n",
      "E-COMMERCE                            112\n",
      "Retail Management                     100\n",
      "Rural and Agribusiness                 73\n",
      "E-Business                             57\n",
      "Services Excellence                    40\n",
      "Name: count, dtype: int64\n",
      "------------------\n",
      "How did you hear about X Education\n",
      "Select                   5043\n",
      "Online Search             808\n",
      "Word Of Mouth             348\n",
      "Student of SomeSchool     310\n",
      "Other                     186\n",
      "Multiple Sources          152\n",
      "Advertisements             70\n",
      "Social Media               67\n",
      "Email                      26\n",
      "SMS                        23\n",
      "Name: count, dtype: int64\n",
      "------------------\n",
      "What is your current occupation\n",
      "Unemployed              5600\n",
      "Working Professional     706\n",
      "Student                  210\n",
      "Other                     16\n",
      "Housewife                 10\n",
      "Businessman                8\n",
      "Name: count, dtype: int64\n",
      "------------------\n",
      "What matters most to you in choosing a course\n",
      "Better Career Prospects      6528\n",
      "Flexibility & Convenience       2\n",
      "Other                           1\n",
      "Name: count, dtype: int64\n",
      "------------------\n",
      "Search\n",
      "No     9226\n",
      "Yes      14\n",
      "Name: count, dtype: int64\n",
      "------------------\n",
      "Newspaper Article\n",
      "No     9238\n",
      "Yes       2\n",
      "Name: count, dtype: int64\n",
      "------------------\n",
      "X Education Forums\n",
      "No     9239\n",
      "Yes       1\n",
      "Name: count, dtype: int64\n",
      "------------------\n",
      "Newspaper\n",
      "No     9239\n",
      "Yes       1\n",
      "Name: count, dtype: int64\n",
      "------------------\n",
      "Digital Advertisement\n",
      "No     9236\n",
      "Yes       4\n",
      "Name: count, dtype: int64\n",
      "------------------\n",
      "Through Recommendations\n",
      "No     9233\n",
      "Yes       7\n",
      "Name: count, dtype: int64\n",
      "------------------\n",
      "Lead Profile\n",
      "Select                         4146\n",
      "Potential Lead                 1613\n",
      "Other Leads                     487\n",
      "Student of SomeSchool           241\n",
      "Lateral Student                  24\n",
      "Dual Specialization Student      20\n",
      "Name: count, dtype: int64\n",
      "------------------\n",
      "A free copy of Mastering The Interview\n",
      "No     6352\n",
      "Yes    2888\n",
      "Name: count, dtype: int64\n",
      "------------------\n",
      "Last Notable Activity\n",
      "Modified                        3407\n",
      "Email Opened                    2827\n",
      "SMS Sent                        2172\n",
      "Page Visited on Website          318\n",
      "Olark Chat Conversation          183\n",
      "Email Link Clicked               173\n",
      "Email Bounced                     60\n",
      "Unsubscribed                      47\n",
      "Unreachable                       32\n",
      "Had a Phone Conversation          14\n",
      "Email Marked Spam                  2\n",
      "Approached upfront                 1\n",
      "Resubscribed to emails             1\n",
      "View in browser link Clicked       1\n",
      "Form Submitted on Website          1\n",
      "Email Received                     1\n",
      "Name: count, dtype: int64\n",
      "------------------\n"
     ]
    }
   ],
   "source": [
    "for col in lead_data.select_dtypes(include='object').columns:\n",
    "    print(lead_data[col].value_counts())\n",
    "    print('------------------')"
   ]
  },
  {
   "cell_type": "markdown",
   "id": "202dd79e044e9c63",
   "metadata": {},
   "source": [
    "The columns 'How did you hear about X Education', 'Lead Profile', and 'Specialization' contain the value 'Select', which likely indicates that the respondent did not choose any option.\n",
    "To ensure consistency and accurate handling of missing data, we will replace all occurrences of 'Select' with null (NaN)."
   ]
  },
  {
   "cell_type": "code",
   "execution_count": 539,
   "id": "2d924fb798c88501",
   "metadata": {
    "ExecuteTime": {
     "end_time": "2025-08-16T15:53:20.572762Z",
     "start_time": "2025-08-16T15:53:20.565765Z"
    }
   },
   "outputs": [],
   "source": [
    "lead_data[['How did you hear about X Education', 'Lead Profile']] = lead_data[['How did you hear about X Education', 'Lead Profile']].replace('Select',np.nan)"
   ]
  },
  {
   "cell_type": "markdown",
   "id": "164a529b2b8b0111",
   "metadata": {},
   "source": [
    "We will not be changing Select from Specialization since it is an important column and we can lose a significant amount of data."
   ]
  },
  {
   "cell_type": "code",
   "execution_count": 540,
   "id": "e60590ef3a86485c",
   "metadata": {
    "ExecuteTime": {
     "end_time": "2025-08-16T15:53:20.749123Z",
     "start_time": "2025-08-16T15:53:20.734188Z"
    }
   },
   "outputs": [
    {
     "data": {
      "text/plain": [
       "How did you hear about X Education               78.46\n",
       "Lead Profile                                     74.19\n",
       "What matters most to you in choosing a course    29.32\n",
       "What is your current occupation                  29.11\n",
       "Specialization                                   15.56\n",
       "TotalVisits                                       1.48\n",
       "Page Views Per Visit                              1.48\n",
       "Last Activity                                     1.11\n",
       "Lead Source                                       0.39\n",
       "X Education Forums                                0.00\n",
       "A free copy of Mastering The Interview            0.00\n",
       "Through Recommendations                           0.00\n",
       "Digital Advertisement                             0.00\n",
       "Newspaper                                         0.00\n",
       "Lead Origin                                       0.00\n",
       "Newspaper Article                                 0.00\n",
       "Search                                            0.00\n",
       "Total Time Spent on Website                       0.00\n",
       "Converted                                         0.00\n",
       "Do Not Call                                       0.00\n",
       "Do Not Email                                      0.00\n",
       "Last Notable Activity                             0.00\n",
       "dtype: float64"
      ]
     },
     "execution_count": 540,
     "metadata": {},
     "output_type": "execute_result"
    }
   ],
   "source": [
    "# Check null values again\n",
    "round(100*lead_data.isnull().sum()/len(lead_data),2).sort_values(ascending=False)"
   ]
  },
  {
   "cell_type": "markdown",
   "id": "8686d254729ac424",
   "metadata": {},
   "source": [
    "Removing columns with more than 70% null values"
   ]
  },
  {
   "cell_type": "code",
   "execution_count": 541,
   "id": "40288f0675dc7976",
   "metadata": {
    "ExecuteTime": {
     "end_time": "2025-08-16T15:53:20.853024Z",
     "start_time": "2025-08-16T15:53:20.821040Z"
    }
   },
   "outputs": [],
   "source": [
    "lead_data = lead_data.drop(columns = ['How did you hear about X Education','Lead Profile'], axis=1)"
   ]
  },
  {
   "cell_type": "code",
   "execution_count": 542,
   "id": "cf39a7a6d40be5b2",
   "metadata": {
    "ExecuteTime": {
     "end_time": "2025-08-16T15:53:21.020350Z",
     "start_time": "2025-08-16T15:53:20.955352Z"
    }
   },
   "outputs": [
    {
     "data": {
      "text/plain": [
       "What matters most to you in choosing a course    29.32\n",
       "What is your current occupation                  29.11\n",
       "Specialization                                   15.56\n",
       "TotalVisits                                       1.48\n",
       "Page Views Per Visit                              1.48\n",
       "Last Activity                                     1.11\n",
       "Lead Source                                       0.39\n",
       "Newspaper Article                                 0.00\n",
       "A free copy of Mastering The Interview            0.00\n",
       "Through Recommendations                           0.00\n",
       "Digital Advertisement                             0.00\n",
       "Newspaper                                         0.00\n",
       "X Education Forums                                0.00\n",
       "Lead Origin                                       0.00\n",
       "Search                                            0.00\n",
       "Total Time Spent on Website                       0.00\n",
       "Converted                                         0.00\n",
       "Do Not Call                                       0.00\n",
       "Do Not Email                                      0.00\n",
       "Last Notable Activity                             0.00\n",
       "dtype: float64"
      ]
     },
     "execution_count": 542,
     "metadata": {},
     "output_type": "execute_result"
    }
   ],
   "source": [
    "# Check null values again\n",
    "round(100*lead_data.isnull().sum()/len(lead_data),2).sort_values(ascending=False)"
   ]
  },
  {
   "cell_type": "code",
   "execution_count": 543,
   "id": "612c740e27f16fbd",
   "metadata": {
    "ExecuteTime": {
     "end_time": "2025-08-16T15:53:21.159710Z",
     "start_time": "2025-08-16T15:53:21.132709Z"
    }
   },
   "outputs": [
    {
     "name": "stdout",
     "output_type": "stream",
     "text": [
      "Lead Origin\n",
      "Landing Page Submission    4886\n",
      "API                        3580\n",
      "Lead Add Form               718\n",
      "Lead Import                  55\n",
      "Quick Add Form                1\n",
      "Name: count, dtype: int64\n",
      "------------------\n",
      "Lead Source\n",
      "Google               2868\n",
      "Direct Traffic       2543\n",
      "Olark Chat           1755\n",
      "Organic Search       1154\n",
      "Reference             534\n",
      "Welingak Website      142\n",
      "Referral Sites        125\n",
      "Facebook               55\n",
      "bing                    6\n",
      "google                  5\n",
      "Click2call              4\n",
      "Press_Release           2\n",
      "Social Media            2\n",
      "Live Chat               2\n",
      "youtubechannel          1\n",
      "testone                 1\n",
      "Pay per Click Ads       1\n",
      "welearnblog_Home        1\n",
      "WeLearn                 1\n",
      "blog                    1\n",
      "NC_EDM                  1\n",
      "Name: count, dtype: int64\n",
      "------------------\n",
      "Do Not Email\n",
      "No     8506\n",
      "Yes     734\n",
      "Name: count, dtype: int64\n",
      "------------------\n",
      "Do Not Call\n",
      "No     9238\n",
      "Yes       2\n",
      "Name: count, dtype: int64\n",
      "------------------\n",
      "Last Activity\n",
      "Email Opened                    3437\n",
      "SMS Sent                        2745\n",
      "Olark Chat Conversation          973\n",
      "Page Visited on Website          640\n",
      "Converted to Lead                428\n",
      "Email Bounced                    326\n",
      "Email Link Clicked               267\n",
      "Form Submitted on Website        116\n",
      "Unreachable                       93\n",
      "Unsubscribed                      61\n",
      "Had a Phone Conversation          30\n",
      "Approached upfront                 9\n",
      "View in browser link Clicked       6\n",
      "Email Received                     2\n",
      "Email Marked Spam                  2\n",
      "Visited Booth in Tradeshow         1\n",
      "Resubscribed to emails             1\n",
      "Name: count, dtype: int64\n",
      "------------------\n",
      "Specialization\n",
      "Select                               1942\n",
      "Finance Management                    976\n",
      "Human Resource Management             848\n",
      "Marketing Management                  838\n",
      "Operations Management                 503\n",
      "Business Administration               403\n",
      "IT Projects Management                366\n",
      "Supply Chain Management               349\n",
      "Banking, Investment And Insurance     338\n",
      "Travel and Tourism                    203\n",
      "Media and Advertising                 203\n",
      "International Business                178\n",
      "Healthcare Management                 159\n",
      "Hospitality Management                114\n",
      "E-COMMERCE                            112\n",
      "Retail Management                     100\n",
      "Rural and Agribusiness                 73\n",
      "E-Business                             57\n",
      "Services Excellence                    40\n",
      "Name: count, dtype: int64\n",
      "------------------\n",
      "What is your current occupation\n",
      "Unemployed              5600\n",
      "Working Professional     706\n",
      "Student                  210\n",
      "Other                     16\n",
      "Housewife                 10\n",
      "Businessman                8\n",
      "Name: count, dtype: int64\n",
      "------------------\n",
      "What matters most to you in choosing a course\n",
      "Better Career Prospects      6528\n",
      "Flexibility & Convenience       2\n",
      "Other                           1\n",
      "Name: count, dtype: int64\n",
      "------------------\n",
      "Search\n",
      "No     9226\n",
      "Yes      14\n",
      "Name: count, dtype: int64\n",
      "------------------\n",
      "Newspaper Article\n",
      "No     9238\n",
      "Yes       2\n",
      "Name: count, dtype: int64\n",
      "------------------\n",
      "X Education Forums\n",
      "No     9239\n",
      "Yes       1\n",
      "Name: count, dtype: int64\n",
      "------------------\n",
      "Newspaper\n",
      "No     9239\n",
      "Yes       1\n",
      "Name: count, dtype: int64\n",
      "------------------\n",
      "Digital Advertisement\n",
      "No     9236\n",
      "Yes       4\n",
      "Name: count, dtype: int64\n",
      "------------------\n",
      "Through Recommendations\n",
      "No     9233\n",
      "Yes       7\n",
      "Name: count, dtype: int64\n",
      "------------------\n",
      "A free copy of Mastering The Interview\n",
      "No     6352\n",
      "Yes    2888\n",
      "Name: count, dtype: int64\n",
      "------------------\n",
      "Last Notable Activity\n",
      "Modified                        3407\n",
      "Email Opened                    2827\n",
      "SMS Sent                        2172\n",
      "Page Visited on Website          318\n",
      "Olark Chat Conversation          183\n",
      "Email Link Clicked               173\n",
      "Email Bounced                     60\n",
      "Unsubscribed                      47\n",
      "Unreachable                       32\n",
      "Had a Phone Conversation          14\n",
      "Email Marked Spam                  2\n",
      "Approached upfront                 1\n",
      "Resubscribed to emails             1\n",
      "View in browser link Clicked       1\n",
      "Form Submitted on Website          1\n",
      "Email Received                     1\n",
      "Name: count, dtype: int64\n",
      "------------------\n"
     ]
    }
   ],
   "source": [
    "# Checking Value count again\n",
    "for col in lead_data.select_dtypes(include='object').columns:\n",
    "    print(lead_data[col].value_counts())\n",
    "    print('------------------')"
   ]
  },
  {
   "cell_type": "markdown",
   "id": "c0dd24a449d13c17",
   "metadata": {},
   "source": [
    "Column 'Lead Source' contains both 'Google' and 'google'. We need to change 'google' to 'Google'"
   ]
  },
  {
   "cell_type": "code",
   "execution_count": 544,
   "id": "632cf80221bb1837",
   "metadata": {
    "ExecuteTime": {
     "end_time": "2025-08-16T15:53:21.297455Z",
     "start_time": "2025-08-16T15:53:21.292587Z"
    }
   },
   "outputs": [],
   "source": [
    "lead_data['Lead Source'] = lead_data['Lead Source'].replace('google','Google')"
   ]
  },
  {
   "cell_type": "code",
   "execution_count": 545,
   "id": "6962b074a0432e0f",
   "metadata": {
    "ExecuteTime": {
     "end_time": "2025-08-16T15:53:21.467496Z",
     "start_time": "2025-08-16T15:53:21.442483Z"
    }
   },
   "outputs": [
    {
     "name": "stdout",
     "output_type": "stream",
     "text": [
      "Lead Origin\n",
      "Landing Page Submission    4886\n",
      "API                        3580\n",
      "Lead Add Form               718\n",
      "Lead Import                  55\n",
      "Quick Add Form                1\n",
      "Name: count, dtype: int64\n",
      "--------------------------------------------------\n",
      "Lead Source\n",
      "Google               2873\n",
      "Direct Traffic       2543\n",
      "Olark Chat           1755\n",
      "Organic Search       1154\n",
      "Reference             534\n",
      "Welingak Website      142\n",
      "Referral Sites        125\n",
      "Facebook               55\n",
      "bing                    6\n",
      "Click2call              4\n",
      "Social Media            2\n",
      "Live Chat               2\n",
      "Press_Release           2\n",
      "Pay per Click Ads       1\n",
      "blog                    1\n",
      "WeLearn                 1\n",
      "welearnblog_Home        1\n",
      "youtubechannel          1\n",
      "testone                 1\n",
      "NC_EDM                  1\n",
      "Name: count, dtype: int64\n",
      "--------------------------------------------------\n",
      "Do Not Email\n",
      "No     8506\n",
      "Yes     734\n",
      "Name: count, dtype: int64\n",
      "--------------------------------------------------\n",
      "Do Not Call\n",
      "No     9238\n",
      "Yes       2\n",
      "Name: count, dtype: int64\n",
      "--------------------------------------------------\n",
      "Last Activity\n",
      "Email Opened                    3437\n",
      "SMS Sent                        2745\n",
      "Olark Chat Conversation          973\n",
      "Page Visited on Website          640\n",
      "Converted to Lead                428\n",
      "Email Bounced                    326\n",
      "Email Link Clicked               267\n",
      "Form Submitted on Website        116\n",
      "Unreachable                       93\n",
      "Unsubscribed                      61\n",
      "Had a Phone Conversation          30\n",
      "Approached upfront                 9\n",
      "View in browser link Clicked       6\n",
      "Email Received                     2\n",
      "Email Marked Spam                  2\n",
      "Visited Booth in Tradeshow         1\n",
      "Resubscribed to emails             1\n",
      "Name: count, dtype: int64\n",
      "--------------------------------------------------\n",
      "Specialization\n",
      "Select                               1942\n",
      "Finance Management                    976\n",
      "Human Resource Management             848\n",
      "Marketing Management                  838\n",
      "Operations Management                 503\n",
      "Business Administration               403\n",
      "IT Projects Management                366\n",
      "Supply Chain Management               349\n",
      "Banking, Investment And Insurance     338\n",
      "Travel and Tourism                    203\n",
      "Media and Advertising                 203\n",
      "International Business                178\n",
      "Healthcare Management                 159\n",
      "Hospitality Management                114\n",
      "E-COMMERCE                            112\n",
      "Retail Management                     100\n",
      "Rural and Agribusiness                 73\n",
      "E-Business                             57\n",
      "Services Excellence                    40\n",
      "Name: count, dtype: int64\n",
      "--------------------------------------------------\n",
      "What is your current occupation\n",
      "Unemployed              5600\n",
      "Working Professional     706\n",
      "Student                  210\n",
      "Other                     16\n",
      "Housewife                 10\n",
      "Businessman                8\n",
      "Name: count, dtype: int64\n",
      "--------------------------------------------------\n",
      "What matters most to you in choosing a course\n",
      "Better Career Prospects      6528\n",
      "Flexibility & Convenience       2\n",
      "Other                           1\n",
      "Name: count, dtype: int64\n",
      "--------------------------------------------------\n",
      "Search\n",
      "No     9226\n",
      "Yes      14\n",
      "Name: count, dtype: int64\n",
      "--------------------------------------------------\n",
      "Newspaper Article\n",
      "No     9238\n",
      "Yes       2\n",
      "Name: count, dtype: int64\n",
      "--------------------------------------------------\n",
      "X Education Forums\n",
      "No     9239\n",
      "Yes       1\n",
      "Name: count, dtype: int64\n",
      "--------------------------------------------------\n",
      "Newspaper\n",
      "No     9239\n",
      "Yes       1\n",
      "Name: count, dtype: int64\n",
      "--------------------------------------------------\n",
      "Digital Advertisement\n",
      "No     9236\n",
      "Yes       4\n",
      "Name: count, dtype: int64\n",
      "--------------------------------------------------\n",
      "Through Recommendations\n",
      "No     9233\n",
      "Yes       7\n",
      "Name: count, dtype: int64\n",
      "--------------------------------------------------\n",
      "A free copy of Mastering The Interview\n",
      "No     6352\n",
      "Yes    2888\n",
      "Name: count, dtype: int64\n",
      "--------------------------------------------------\n",
      "Last Notable Activity\n",
      "Modified                        3407\n",
      "Email Opened                    2827\n",
      "SMS Sent                        2172\n",
      "Page Visited on Website          318\n",
      "Olark Chat Conversation          183\n",
      "Email Link Clicked               173\n",
      "Email Bounced                     60\n",
      "Unsubscribed                      47\n",
      "Unreachable                       32\n",
      "Had a Phone Conversation          14\n",
      "Email Marked Spam                  2\n",
      "Approached upfront                 1\n",
      "Resubscribed to emails             1\n",
      "View in browser link Clicked       1\n",
      "Form Submitted on Website          1\n",
      "Email Received                     1\n",
      "Name: count, dtype: int64\n",
      "--------------------------------------------------\n"
     ]
    }
   ],
   "source": [
    "# Checking Value count again\n",
    "for col in lead_data.select_dtypes(include='object').columns:\n",
    "    print(lead_data[col].value_counts())\n",
    "    print('-'*50)"
   ]
  },
  {
   "cell_type": "markdown",
   "id": "8a7f269a5a78710b",
   "metadata": {},
   "source": [
    "Columns with significant data imbalance were removed, as they contribute little meaningful information to the analysis."
   ]
  },
  {
   "cell_type": "code",
   "execution_count": 546,
   "id": "ea2711f2290e52f6",
   "metadata": {
    "ExecuteTime": {
     "end_time": "2025-08-16T15:53:21.538924Z",
     "start_time": "2025-08-16T15:53:21.533823Z"
    }
   },
   "outputs": [],
   "source": [
    "lead_data = lead_data.drop(columns = ['Do Not Call','What matters most to you in choosing a course','Search','Newspaper Article','X Education Forums','Newspaper','Digital Advertisement','Through Recommendations'], axis=1)"
   ]
  },
  {
   "cell_type": "code",
   "execution_count": 547,
   "id": "dff6afe9bf600be5",
   "metadata": {
    "ExecuteTime": {
     "end_time": "2025-08-16T15:53:21.634392Z",
     "start_time": "2025-08-16T15:53:21.621251Z"
    }
   },
   "outputs": [
    {
     "name": "stdout",
     "output_type": "stream",
     "text": [
      "Lead Origin\n",
      "Landing Page Submission    4886\n",
      "API                        3580\n",
      "Lead Add Form               718\n",
      "Lead Import                  55\n",
      "Quick Add Form                1\n",
      "Name: count, dtype: int64\n",
      "------------------\n",
      "Lead Source\n",
      "Google               2873\n",
      "Direct Traffic       2543\n",
      "Olark Chat           1755\n",
      "Organic Search       1154\n",
      "Reference             534\n",
      "Welingak Website      142\n",
      "Referral Sites        125\n",
      "Facebook               55\n",
      "bing                    6\n",
      "Click2call              4\n",
      "Social Media            2\n",
      "Live Chat               2\n",
      "Press_Release           2\n",
      "Pay per Click Ads       1\n",
      "blog                    1\n",
      "WeLearn                 1\n",
      "welearnblog_Home        1\n",
      "youtubechannel          1\n",
      "testone                 1\n",
      "NC_EDM                  1\n",
      "Name: count, dtype: int64\n",
      "------------------\n",
      "Do Not Email\n",
      "No     8506\n",
      "Yes     734\n",
      "Name: count, dtype: int64\n",
      "------------------\n",
      "Last Activity\n",
      "Email Opened                    3437\n",
      "SMS Sent                        2745\n",
      "Olark Chat Conversation          973\n",
      "Page Visited on Website          640\n",
      "Converted to Lead                428\n",
      "Email Bounced                    326\n",
      "Email Link Clicked               267\n",
      "Form Submitted on Website        116\n",
      "Unreachable                       93\n",
      "Unsubscribed                      61\n",
      "Had a Phone Conversation          30\n",
      "Approached upfront                 9\n",
      "View in browser link Clicked       6\n",
      "Email Received                     2\n",
      "Email Marked Spam                  2\n",
      "Visited Booth in Tradeshow         1\n",
      "Resubscribed to emails             1\n",
      "Name: count, dtype: int64\n",
      "------------------\n",
      "Specialization\n",
      "Select                               1942\n",
      "Finance Management                    976\n",
      "Human Resource Management             848\n",
      "Marketing Management                  838\n",
      "Operations Management                 503\n",
      "Business Administration               403\n",
      "IT Projects Management                366\n",
      "Supply Chain Management               349\n",
      "Banking, Investment And Insurance     338\n",
      "Travel and Tourism                    203\n",
      "Media and Advertising                 203\n",
      "International Business                178\n",
      "Healthcare Management                 159\n",
      "Hospitality Management                114\n",
      "E-COMMERCE                            112\n",
      "Retail Management                     100\n",
      "Rural and Agribusiness                 73\n",
      "E-Business                             57\n",
      "Services Excellence                    40\n",
      "Name: count, dtype: int64\n",
      "------------------\n",
      "What is your current occupation\n",
      "Unemployed              5600\n",
      "Working Professional     706\n",
      "Student                  210\n",
      "Other                     16\n",
      "Housewife                 10\n",
      "Businessman                8\n",
      "Name: count, dtype: int64\n",
      "------------------\n",
      "A free copy of Mastering The Interview\n",
      "No     6352\n",
      "Yes    2888\n",
      "Name: count, dtype: int64\n",
      "------------------\n",
      "Last Notable Activity\n",
      "Modified                        3407\n",
      "Email Opened                    2827\n",
      "SMS Sent                        2172\n",
      "Page Visited on Website          318\n",
      "Olark Chat Conversation          183\n",
      "Email Link Clicked               173\n",
      "Email Bounced                     60\n",
      "Unsubscribed                      47\n",
      "Unreachable                       32\n",
      "Had a Phone Conversation          14\n",
      "Email Marked Spam                  2\n",
      "Approached upfront                 1\n",
      "Resubscribed to emails             1\n",
      "View in browser link Clicked       1\n",
      "Form Submitted on Website          1\n",
      "Email Received                     1\n",
      "Name: count, dtype: int64\n",
      "------------------\n"
     ]
    }
   ],
   "source": [
    "# Checking Value count again\n",
    "for col in lead_data.select_dtypes(include='object').columns:\n",
    "    print(lead_data[col].value_counts())\n",
    "    print('------------------')"
   ]
  },
  {
   "cell_type": "code",
   "execution_count": 548,
   "id": "e1a6814d2f75c0c0",
   "metadata": {
    "ExecuteTime": {
     "end_time": "2025-08-16T15:53:21.662398Z",
     "start_time": "2025-08-16T15:53:21.651399Z"
    }
   },
   "outputs": [
    {
     "data": {
      "text/plain": [
       "What is your current occupation           29.11\n",
       "Specialization                            15.56\n",
       "TotalVisits                                1.48\n",
       "Page Views Per Visit                       1.48\n",
       "Last Activity                              1.11\n",
       "Lead Source                                0.39\n",
       "Lead Origin                                0.00\n",
       "Do Not Email                               0.00\n",
       "Converted                                  0.00\n",
       "Total Time Spent on Website                0.00\n",
       "A free copy of Mastering The Interview     0.00\n",
       "Last Notable Activity                      0.00\n",
       "dtype: float64"
      ]
     },
     "execution_count": 548,
     "metadata": {},
     "output_type": "execute_result"
    }
   ],
   "source": [
    "# Check null values again\n",
    "round(100*lead_data.isnull().sum()/len(lead_data),2).sort_values(ascending=False)"
   ]
  },
  {
   "cell_type": "markdown",
   "id": "b251ce4344ffd7a",
   "metadata": {},
   "source": [
    "Columns such as ‘Specialization’, ‘What is your current occupation’, ‘TotalVisits’, ‘Page Views Per Visit’, ‘Last Activity’, and ‘Lead Source’ are considered important from a business perspective. Therefore, instead of dropping these columns, rows containing null values in these fields were removed.\n"
   ]
  },
  {
   "cell_type": "code",
   "execution_count": 549,
   "id": "8df1c204e58417a4",
   "metadata": {
    "ExecuteTime": {
     "end_time": "2025-08-16T15:53:21.747875Z",
     "start_time": "2025-08-16T15:53:21.740875Z"
    }
   },
   "outputs": [],
   "source": [
    "# Dropping rows with null values\n",
    "lead_data = lead_data.dropna()"
   ]
  },
  {
   "cell_type": "code",
   "execution_count": 550,
   "id": "54429a9dd67c87c7",
   "metadata": {
    "ExecuteTime": {
     "end_time": "2025-08-16T15:53:21.805214Z",
     "start_time": "2025-08-16T15:53:21.796214Z"
    }
   },
   "outputs": [
    {
     "data": {
      "text/plain": [
       "Lead Origin                               0.0\n",
       "Lead Source                               0.0\n",
       "Do Not Email                              0.0\n",
       "Converted                                 0.0\n",
       "TotalVisits                               0.0\n",
       "Total Time Spent on Website               0.0\n",
       "Page Views Per Visit                      0.0\n",
       "Last Activity                             0.0\n",
       "Specialization                            0.0\n",
       "What is your current occupation           0.0\n",
       "A free copy of Mastering The Interview    0.0\n",
       "Last Notable Activity                     0.0\n",
       "dtype: float64"
      ]
     },
     "execution_count": 550,
     "metadata": {},
     "output_type": "execute_result"
    }
   ],
   "source": [
    "# Check null values again\n",
    "round(100*lead_data.isnull().sum()/len(lead_data),2).sort_values(ascending=False)"
   ]
  },
  {
   "cell_type": "markdown",
   "id": "b1ceb96da4640f97",
   "metadata": {},
   "source": [
    "Now we don't have any null values."
   ]
  },
  {
   "cell_type": "markdown",
   "id": "1a4f27dde9c49d0f",
   "metadata": {},
   "source": [
    "Lets see how much data we are left with after data cleaning.\n"
   ]
  },
  {
   "cell_type": "code",
   "execution_count": 551,
   "id": "767ab0e88a3b1caa",
   "metadata": {
    "ExecuteTime": {
     "end_time": "2025-08-16T15:53:21.898430Z",
     "start_time": "2025-08-16T15:53:21.893054Z"
    }
   },
   "outputs": [
    {
     "data": {
      "text/plain": [
       "(6373, 12)"
      ]
     },
     "execution_count": 551,
     "metadata": {},
     "output_type": "execute_result"
    }
   ],
   "source": [
    "lead_data.shape"
   ]
  },
  {
   "cell_type": "code",
   "execution_count": 552,
   "id": "9f4f2fc6",
   "metadata": {},
   "outputs": [
    {
     "name": "stdout",
     "output_type": "stream",
     "text": [
      "68.97186147186147\n"
     ]
    }
   ],
   "source": [
    "print(len(lead_data.index)*100/9240)"
   ]
  },
  {
   "cell_type": "markdown",
   "id": "7e771fd149d5e942",
   "metadata": {},
   "source": [
    "We still have around 69% of rows which seems good enough."
   ]
  },
  {
   "cell_type": "markdown",
   "id": "b5d29a405cfa4bd5",
   "metadata": {},
   "source": [
    "# Data Preparation"
   ]
  },
  {
   "cell_type": "code",
   "execution_count": 553,
   "id": "db43c347",
   "metadata": {},
   "outputs": [
    {
     "data": {
      "text/html": [
       "<div>\n",
       "<style scoped>\n",
       "    .dataframe tbody tr th:only-of-type {\n",
       "        vertical-align: middle;\n",
       "    }\n",
       "\n",
       "    .dataframe tbody tr th {\n",
       "        vertical-align: top;\n",
       "    }\n",
       "\n",
       "    .dataframe thead th {\n",
       "        text-align: right;\n",
       "    }\n",
       "</style>\n",
       "<table border=\"1\" class=\"dataframe\">\n",
       "  <thead>\n",
       "    <tr style=\"text-align: right;\">\n",
       "      <th></th>\n",
       "      <th>Lead Origin</th>\n",
       "      <th>Lead Source</th>\n",
       "      <th>Do Not Email</th>\n",
       "      <th>Converted</th>\n",
       "      <th>TotalVisits</th>\n",
       "      <th>Total Time Spent on Website</th>\n",
       "      <th>Page Views Per Visit</th>\n",
       "      <th>Last Activity</th>\n",
       "      <th>Specialization</th>\n",
       "      <th>What is your current occupation</th>\n",
       "      <th>A free copy of Mastering The Interview</th>\n",
       "      <th>Last Notable Activity</th>\n",
       "    </tr>\n",
       "  </thead>\n",
       "  <tbody>\n",
       "    <tr>\n",
       "      <th>0</th>\n",
       "      <td>API</td>\n",
       "      <td>Olark Chat</td>\n",
       "      <td>No</td>\n",
       "      <td>0</td>\n",
       "      <td>0.0</td>\n",
       "      <td>0</td>\n",
       "      <td>0.0</td>\n",
       "      <td>Page Visited on Website</td>\n",
       "      <td>Select</td>\n",
       "      <td>Unemployed</td>\n",
       "      <td>No</td>\n",
       "      <td>Modified</td>\n",
       "    </tr>\n",
       "    <tr>\n",
       "      <th>1</th>\n",
       "      <td>API</td>\n",
       "      <td>Organic Search</td>\n",
       "      <td>No</td>\n",
       "      <td>0</td>\n",
       "      <td>5.0</td>\n",
       "      <td>674</td>\n",
       "      <td>2.5</td>\n",
       "      <td>Email Opened</td>\n",
       "      <td>Select</td>\n",
       "      <td>Unemployed</td>\n",
       "      <td>No</td>\n",
       "      <td>Email Opened</td>\n",
       "    </tr>\n",
       "    <tr>\n",
       "      <th>2</th>\n",
       "      <td>Landing Page Submission</td>\n",
       "      <td>Direct Traffic</td>\n",
       "      <td>No</td>\n",
       "      <td>1</td>\n",
       "      <td>2.0</td>\n",
       "      <td>1532</td>\n",
       "      <td>2.0</td>\n",
       "      <td>Email Opened</td>\n",
       "      <td>Business Administration</td>\n",
       "      <td>Student</td>\n",
       "      <td>Yes</td>\n",
       "      <td>Email Opened</td>\n",
       "    </tr>\n",
       "    <tr>\n",
       "      <th>3</th>\n",
       "      <td>Landing Page Submission</td>\n",
       "      <td>Direct Traffic</td>\n",
       "      <td>No</td>\n",
       "      <td>0</td>\n",
       "      <td>1.0</td>\n",
       "      <td>305</td>\n",
       "      <td>1.0</td>\n",
       "      <td>Unreachable</td>\n",
       "      <td>Media and Advertising</td>\n",
       "      <td>Unemployed</td>\n",
       "      <td>No</td>\n",
       "      <td>Modified</td>\n",
       "    </tr>\n",
       "    <tr>\n",
       "      <th>4</th>\n",
       "      <td>Landing Page Submission</td>\n",
       "      <td>Google</td>\n",
       "      <td>No</td>\n",
       "      <td>1</td>\n",
       "      <td>2.0</td>\n",
       "      <td>1428</td>\n",
       "      <td>1.0</td>\n",
       "      <td>Converted to Lead</td>\n",
       "      <td>Select</td>\n",
       "      <td>Unemployed</td>\n",
       "      <td>No</td>\n",
       "      <td>Modified</td>\n",
       "    </tr>\n",
       "  </tbody>\n",
       "</table>\n",
       "</div>"
      ],
      "text/plain": [
       "               Lead Origin     Lead Source Do Not Email  Converted  \\\n",
       "0                      API      Olark Chat           No          0   \n",
       "1                      API  Organic Search           No          0   \n",
       "2  Landing Page Submission  Direct Traffic           No          1   \n",
       "3  Landing Page Submission  Direct Traffic           No          0   \n",
       "4  Landing Page Submission          Google           No          1   \n",
       "\n",
       "   TotalVisits  Total Time Spent on Website  Page Views Per Visit  \\\n",
       "0          0.0                            0                   0.0   \n",
       "1          5.0                          674                   2.5   \n",
       "2          2.0                         1532                   2.0   \n",
       "3          1.0                          305                   1.0   \n",
       "4          2.0                         1428                   1.0   \n",
       "\n",
       "             Last Activity           Specialization  \\\n",
       "0  Page Visited on Website                   Select   \n",
       "1             Email Opened                   Select   \n",
       "2             Email Opened  Business Administration   \n",
       "3              Unreachable    Media and Advertising   \n",
       "4        Converted to Lead                   Select   \n",
       "\n",
       "  What is your current occupation A free copy of Mastering The Interview  \\\n",
       "0                      Unemployed                                     No   \n",
       "1                      Unemployed                                     No   \n",
       "2                         Student                                    Yes   \n",
       "3                      Unemployed                                     No   \n",
       "4                      Unemployed                                     No   \n",
       "\n",
       "  Last Notable Activity  \n",
       "0              Modified  \n",
       "1          Email Opened  \n",
       "2          Email Opened  \n",
       "3              Modified  \n",
       "4              Modified  "
      ]
     },
     "execution_count": 553,
     "metadata": {},
     "output_type": "execute_result"
    }
   ],
   "source": [
    "# Let's take a look\n",
    "lead_data.head()"
   ]
  },
  {
   "cell_type": "markdown",
   "id": "38b59220784039bd",
   "metadata": {},
   "source": [
    "## Creating Dummy Variables"
   ]
  },
  {
   "cell_type": "markdown",
   "id": "40b0832d39171235",
   "metadata": {},
   "source": [
    "Creating dummy variables of categorical columns"
   ]
  },
  {
   "cell_type": "code",
   "execution_count": 554,
   "id": "4a42692f98c49248",
   "metadata": {
    "ExecuteTime": {
     "end_time": "2025-08-16T15:53:21.961890Z",
     "start_time": "2025-08-16T15:53:21.955445Z"
    }
   },
   "outputs": [
    {
     "data": {
      "text/plain": [
       "Index(['Lead Origin', 'Lead Source', 'Do Not Email', 'Last Activity',\n",
       "       'Specialization', 'What is your current occupation',\n",
       "       'A free copy of Mastering The Interview', 'Last Notable Activity'],\n",
       "      dtype='object')"
      ]
     },
     "execution_count": 554,
     "metadata": {},
     "output_type": "execute_result"
    }
   ],
   "source": [
    "# Getting all the categorical columns\n",
    "cat_cols = lead_data.select_dtypes(include='object')\n",
    "cat_cols.columns"
   ]
  },
  {
   "cell_type": "code",
   "execution_count": 555,
   "id": "437c37b26fe37688",
   "metadata": {
    "ExecuteTime": {
     "end_time": "2025-08-16T15:53:22.057313Z",
     "start_time": "2025-08-16T15:53:22.042896Z"
    }
   },
   "outputs": [],
   "source": [
    "# Creating dummy variables\n",
    "dummy = pd.get_dummies(lead_data[['Lead Origin', 'Lead Source', 'Do Not Email', 'Last Activity',\n",
    "                              'What is your current occupation','A free copy of Mastering The Interview',\n",
    "                              'Last Notable Activity']], drop_first=True).astype(int)\n",
    "\n",
    "# Add the results to the master dataframe\n",
    "lead_data = pd.concat([lead_data, dummy], axis=1)"
   ]
  },
  {
   "cell_type": "markdown",
   "id": "6a0231fe41d04673",
   "metadata": {},
   "source": [
    "Since 'Specialization column contains 'Select', we will create its dummy variables separately and remove 'Specialization_Select' column from our table."
   ]
  },
  {
   "cell_type": "code",
   "execution_count": 556,
   "id": "d18b956477bcd943",
   "metadata": {
    "ExecuteTime": {
     "end_time": "2025-08-16T15:53:22.116485Z",
     "start_time": "2025-08-16T15:53:22.108264Z"
    }
   },
   "outputs": [],
   "source": [
    "dummy1 = pd.get_dummies(lead_data['Specialization'], prefix='Specialization').astype(int)\n",
    "dummy1.drop('Specialization_Select', axis=1, inplace=True)\n",
    "lead_data = pd.concat([lead_data, dummy1], axis=1)"
   ]
  },
  {
   "cell_type": "markdown",
   "id": "8a28aaedea0ee5bc",
   "metadata": {},
   "source": [
    "Dropping those variables whose dummy variables we have already created"
   ]
  },
  {
   "cell_type": "code",
   "execution_count": 557,
   "id": "899e833eb3278fa1",
   "metadata": {
    "ExecuteTime": {
     "end_time": "2025-08-16T15:53:22.184061Z",
     "start_time": "2025-08-16T15:53:22.178052Z"
    }
   },
   "outputs": [],
   "source": [
    "lead_data = lead_data.drop(columns=['Lead Origin', 'Lead Source', 'Do Not Email', 'Last Activity',\n",
    "       'Specialization', 'What is your current occupation',\n",
    "       'A free copy of Mastering The Interview', 'Last Notable Activity'], axis = 1)"
   ]
  },
  {
   "cell_type": "code",
   "execution_count": 558,
   "id": "47cd55ab38106f21",
   "metadata": {
    "ExecuteTime": {
     "end_time": "2025-08-16T15:53:22.298596Z",
     "start_time": "2025-08-16T15:53:22.285942Z"
    }
   },
   "outputs": [
    {
     "data": {
      "text/html": [
       "<div>\n",
       "<style scoped>\n",
       "    .dataframe tbody tr th:only-of-type {\n",
       "        vertical-align: middle;\n",
       "    }\n",
       "\n",
       "    .dataframe tbody tr th {\n",
       "        vertical-align: top;\n",
       "    }\n",
       "\n",
       "    .dataframe thead th {\n",
       "        text-align: right;\n",
       "    }\n",
       "</style>\n",
       "<table border=\"1\" class=\"dataframe\">\n",
       "  <thead>\n",
       "    <tr style=\"text-align: right;\">\n",
       "      <th></th>\n",
       "      <th>Converted</th>\n",
       "      <th>TotalVisits</th>\n",
       "      <th>Total Time Spent on Website</th>\n",
       "      <th>Page Views Per Visit</th>\n",
       "      <th>Lead Origin_Landing Page Submission</th>\n",
       "      <th>Lead Origin_Lead Add Form</th>\n",
       "      <th>Lead Origin_Lead Import</th>\n",
       "      <th>Lead Source_Direct Traffic</th>\n",
       "      <th>Lead Source_Facebook</th>\n",
       "      <th>Lead Source_Google</th>\n",
       "      <th>...</th>\n",
       "      <th>Specialization_IT Projects Management</th>\n",
       "      <th>Specialization_International Business</th>\n",
       "      <th>Specialization_Marketing Management</th>\n",
       "      <th>Specialization_Media and Advertising</th>\n",
       "      <th>Specialization_Operations Management</th>\n",
       "      <th>Specialization_Retail Management</th>\n",
       "      <th>Specialization_Rural and Agribusiness</th>\n",
       "      <th>Specialization_Services Excellence</th>\n",
       "      <th>Specialization_Supply Chain Management</th>\n",
       "      <th>Specialization_Travel and Tourism</th>\n",
       "    </tr>\n",
       "  </thead>\n",
       "  <tbody>\n",
       "    <tr>\n",
       "      <th>0</th>\n",
       "      <td>0</td>\n",
       "      <td>0.0</td>\n",
       "      <td>0</td>\n",
       "      <td>0.0</td>\n",
       "      <td>0</td>\n",
       "      <td>0</td>\n",
       "      <td>0</td>\n",
       "      <td>0</td>\n",
       "      <td>0</td>\n",
       "      <td>0</td>\n",
       "      <td>...</td>\n",
       "      <td>0</td>\n",
       "      <td>0</td>\n",
       "      <td>0</td>\n",
       "      <td>0</td>\n",
       "      <td>0</td>\n",
       "      <td>0</td>\n",
       "      <td>0</td>\n",
       "      <td>0</td>\n",
       "      <td>0</td>\n",
       "      <td>0</td>\n",
       "    </tr>\n",
       "    <tr>\n",
       "      <th>1</th>\n",
       "      <td>0</td>\n",
       "      <td>5.0</td>\n",
       "      <td>674</td>\n",
       "      <td>2.5</td>\n",
       "      <td>0</td>\n",
       "      <td>0</td>\n",
       "      <td>0</td>\n",
       "      <td>0</td>\n",
       "      <td>0</td>\n",
       "      <td>0</td>\n",
       "      <td>...</td>\n",
       "      <td>0</td>\n",
       "      <td>0</td>\n",
       "      <td>0</td>\n",
       "      <td>0</td>\n",
       "      <td>0</td>\n",
       "      <td>0</td>\n",
       "      <td>0</td>\n",
       "      <td>0</td>\n",
       "      <td>0</td>\n",
       "      <td>0</td>\n",
       "    </tr>\n",
       "    <tr>\n",
       "      <th>2</th>\n",
       "      <td>1</td>\n",
       "      <td>2.0</td>\n",
       "      <td>1532</td>\n",
       "      <td>2.0</td>\n",
       "      <td>1</td>\n",
       "      <td>0</td>\n",
       "      <td>0</td>\n",
       "      <td>1</td>\n",
       "      <td>0</td>\n",
       "      <td>0</td>\n",
       "      <td>...</td>\n",
       "      <td>0</td>\n",
       "      <td>0</td>\n",
       "      <td>0</td>\n",
       "      <td>0</td>\n",
       "      <td>0</td>\n",
       "      <td>0</td>\n",
       "      <td>0</td>\n",
       "      <td>0</td>\n",
       "      <td>0</td>\n",
       "      <td>0</td>\n",
       "    </tr>\n",
       "    <tr>\n",
       "      <th>3</th>\n",
       "      <td>0</td>\n",
       "      <td>1.0</td>\n",
       "      <td>305</td>\n",
       "      <td>1.0</td>\n",
       "      <td>1</td>\n",
       "      <td>0</td>\n",
       "      <td>0</td>\n",
       "      <td>1</td>\n",
       "      <td>0</td>\n",
       "      <td>0</td>\n",
       "      <td>...</td>\n",
       "      <td>0</td>\n",
       "      <td>0</td>\n",
       "      <td>0</td>\n",
       "      <td>1</td>\n",
       "      <td>0</td>\n",
       "      <td>0</td>\n",
       "      <td>0</td>\n",
       "      <td>0</td>\n",
       "      <td>0</td>\n",
       "      <td>0</td>\n",
       "    </tr>\n",
       "    <tr>\n",
       "      <th>4</th>\n",
       "      <td>1</td>\n",
       "      <td>2.0</td>\n",
       "      <td>1428</td>\n",
       "      <td>1.0</td>\n",
       "      <td>1</td>\n",
       "      <td>0</td>\n",
       "      <td>0</td>\n",
       "      <td>0</td>\n",
       "      <td>0</td>\n",
       "      <td>1</td>\n",
       "      <td>...</td>\n",
       "      <td>0</td>\n",
       "      <td>0</td>\n",
       "      <td>0</td>\n",
       "      <td>0</td>\n",
       "      <td>0</td>\n",
       "      <td>0</td>\n",
       "      <td>0</td>\n",
       "      <td>0</td>\n",
       "      <td>0</td>\n",
       "      <td>0</td>\n",
       "    </tr>\n",
       "  </tbody>\n",
       "</table>\n",
       "<p>5 rows × 75 columns</p>\n",
       "</div>"
      ],
      "text/plain": [
       "   Converted  TotalVisits  Total Time Spent on Website  Page Views Per Visit  \\\n",
       "0          0          0.0                            0                   0.0   \n",
       "1          0          5.0                          674                   2.5   \n",
       "2          1          2.0                         1532                   2.0   \n",
       "3          0          1.0                          305                   1.0   \n",
       "4          1          2.0                         1428                   1.0   \n",
       "\n",
       "   Lead Origin_Landing Page Submission  Lead Origin_Lead Add Form  \\\n",
       "0                                    0                          0   \n",
       "1                                    0                          0   \n",
       "2                                    1                          0   \n",
       "3                                    1                          0   \n",
       "4                                    1                          0   \n",
       "\n",
       "   Lead Origin_Lead Import  Lead Source_Direct Traffic  Lead Source_Facebook  \\\n",
       "0                        0                           0                     0   \n",
       "1                        0                           0                     0   \n",
       "2                        0                           1                     0   \n",
       "3                        0                           1                     0   \n",
       "4                        0                           0                     0   \n",
       "\n",
       "   Lead Source_Google  ...  Specialization_IT Projects Management  \\\n",
       "0                   0  ...                                      0   \n",
       "1                   0  ...                                      0   \n",
       "2                   0  ...                                      0   \n",
       "3                   0  ...                                      0   \n",
       "4                   1  ...                                      0   \n",
       "\n",
       "   Specialization_International Business  Specialization_Marketing Management  \\\n",
       "0                                      0                                    0   \n",
       "1                                      0                                    0   \n",
       "2                                      0                                    0   \n",
       "3                                      0                                    0   \n",
       "4                                      0                                    0   \n",
       "\n",
       "   Specialization_Media and Advertising  Specialization_Operations Management  \\\n",
       "0                                     0                                     0   \n",
       "1                                     0                                     0   \n",
       "2                                     0                                     0   \n",
       "3                                     1                                     0   \n",
       "4                                     0                                     0   \n",
       "\n",
       "   Specialization_Retail Management  Specialization_Rural and Agribusiness  \\\n",
       "0                                 0                                      0   \n",
       "1                                 0                                      0   \n",
       "2                                 0                                      0   \n",
       "3                                 0                                      0   \n",
       "4                                 0                                      0   \n",
       "\n",
       "   Specialization_Services Excellence  Specialization_Supply Chain Management  \\\n",
       "0                                   0                                       0   \n",
       "1                                   0                                       0   \n",
       "2                                   0                                       0   \n",
       "3                                   0                                       0   \n",
       "4                                   0                                       0   \n",
       "\n",
       "   Specialization_Travel and Tourism  \n",
       "0                                  0  \n",
       "1                                  0  \n",
       "2                                  0  \n",
       "3                                  0  \n",
       "4                                  0  \n",
       "\n",
       "[5 rows x 75 columns]"
      ]
     },
     "execution_count": 558,
     "metadata": {},
     "output_type": "execute_result"
    }
   ],
   "source": [
    "lead_data.head()"
   ]
  },
  {
   "cell_type": "markdown",
   "id": "86bcef983dd7ddd8",
   "metadata": {},
   "source": [
    "## Train-Test Split"
   ]
  },
  {
   "cell_type": "markdown",
   "id": "c49a8b9e48639e3b",
   "metadata": {},
   "source": [
    "We will split the data into two parts in 70:30:\n",
    "1. Train - To train our model\n",
    "2. Test - to test our model performance"
   ]
  },
  {
   "cell_type": "markdown",
   "id": "474075237119c6da",
   "metadata": {},
   "source": [
    "First we will divide our columns as target variable an d predictor variables"
   ]
  },
  {
   "cell_type": "code",
   "execution_count": 559,
   "id": "6d6496a3b49d211c",
   "metadata": {
    "ExecuteTime": {
     "end_time": "2025-08-16T15:53:22.353901Z",
     "start_time": "2025-08-16T15:53:22.337111Z"
    }
   },
   "outputs": [
    {
     "data": {
      "text/html": [
       "<div>\n",
       "<style scoped>\n",
       "    .dataframe tbody tr th:only-of-type {\n",
       "        vertical-align: middle;\n",
       "    }\n",
       "\n",
       "    .dataframe tbody tr th {\n",
       "        vertical-align: top;\n",
       "    }\n",
       "\n",
       "    .dataframe thead th {\n",
       "        text-align: right;\n",
       "    }\n",
       "</style>\n",
       "<table border=\"1\" class=\"dataframe\">\n",
       "  <thead>\n",
       "    <tr style=\"text-align: right;\">\n",
       "      <th></th>\n",
       "      <th>TotalVisits</th>\n",
       "      <th>Total Time Spent on Website</th>\n",
       "      <th>Page Views Per Visit</th>\n",
       "      <th>Lead Origin_Landing Page Submission</th>\n",
       "      <th>Lead Origin_Lead Add Form</th>\n",
       "      <th>Lead Origin_Lead Import</th>\n",
       "      <th>Lead Source_Direct Traffic</th>\n",
       "      <th>Lead Source_Facebook</th>\n",
       "      <th>Lead Source_Google</th>\n",
       "      <th>Lead Source_Live Chat</th>\n",
       "      <th>...</th>\n",
       "      <th>Specialization_IT Projects Management</th>\n",
       "      <th>Specialization_International Business</th>\n",
       "      <th>Specialization_Marketing Management</th>\n",
       "      <th>Specialization_Media and Advertising</th>\n",
       "      <th>Specialization_Operations Management</th>\n",
       "      <th>Specialization_Retail Management</th>\n",
       "      <th>Specialization_Rural and Agribusiness</th>\n",
       "      <th>Specialization_Services Excellence</th>\n",
       "      <th>Specialization_Supply Chain Management</th>\n",
       "      <th>Specialization_Travel and Tourism</th>\n",
       "    </tr>\n",
       "  </thead>\n",
       "  <tbody>\n",
       "    <tr>\n",
       "      <th>0</th>\n",
       "      <td>0.0</td>\n",
       "      <td>0</td>\n",
       "      <td>0.0</td>\n",
       "      <td>0</td>\n",
       "      <td>0</td>\n",
       "      <td>0</td>\n",
       "      <td>0</td>\n",
       "      <td>0</td>\n",
       "      <td>0</td>\n",
       "      <td>0</td>\n",
       "      <td>...</td>\n",
       "      <td>0</td>\n",
       "      <td>0</td>\n",
       "      <td>0</td>\n",
       "      <td>0</td>\n",
       "      <td>0</td>\n",
       "      <td>0</td>\n",
       "      <td>0</td>\n",
       "      <td>0</td>\n",
       "      <td>0</td>\n",
       "      <td>0</td>\n",
       "    </tr>\n",
       "  </tbody>\n",
       "</table>\n",
       "<p>1 rows × 74 columns</p>\n",
       "</div>"
      ],
      "text/plain": [
       "   TotalVisits  Total Time Spent on Website  Page Views Per Visit  \\\n",
       "0          0.0                            0                   0.0   \n",
       "\n",
       "   Lead Origin_Landing Page Submission  Lead Origin_Lead Add Form  \\\n",
       "0                                    0                          0   \n",
       "\n",
       "   Lead Origin_Lead Import  Lead Source_Direct Traffic  Lead Source_Facebook  \\\n",
       "0                        0                           0                     0   \n",
       "\n",
       "   Lead Source_Google  Lead Source_Live Chat  ...  \\\n",
       "0                   0                      0  ...   \n",
       "\n",
       "   Specialization_IT Projects Management  \\\n",
       "0                                      0   \n",
       "\n",
       "   Specialization_International Business  Specialization_Marketing Management  \\\n",
       "0                                      0                                    0   \n",
       "\n",
       "   Specialization_Media and Advertising  Specialization_Operations Management  \\\n",
       "0                                     0                                     0   \n",
       "\n",
       "   Specialization_Retail Management  Specialization_Rural and Agribusiness  \\\n",
       "0                                 0                                      0   \n",
       "\n",
       "   Specialization_Services Excellence  Specialization_Supply Chain Management  \\\n",
       "0                                   0                                       0   \n",
       "\n",
       "   Specialization_Travel and Tourism  \n",
       "0                                  0  \n",
       "\n",
       "[1 rows x 74 columns]"
      ]
     },
     "execution_count": 559,
     "metadata": {},
     "output_type": "execute_result"
    }
   ],
   "source": [
    "# Storing predictable variables\n",
    "X = lead_data.drop('Converted', axis=1)\n",
    "X.head(1)"
   ]
  },
  {
   "cell_type": "code",
   "execution_count": 560,
   "id": "964e5080a51a06bc",
   "metadata": {
    "ExecuteTime": {
     "end_time": "2025-08-16T15:53:22.431196Z",
     "start_time": "2025-08-16T15:53:22.425730Z"
    }
   },
   "outputs": [
    {
     "data": {
      "text/plain": [
       "0    0\n",
       "1    0\n",
       "2    1\n",
       "3    0\n",
       "4    1\n",
       "Name: Converted, dtype: int64"
      ]
     },
     "execution_count": 560,
     "metadata": {},
     "output_type": "execute_result"
    }
   ],
   "source": [
    "# Storing target variable\n",
    "y = lead_data['Converted']\n",
    "y.head()"
   ]
  },
  {
   "cell_type": "code",
   "execution_count": 561,
   "id": "8338064efc272b3f",
   "metadata": {
    "ExecuteTime": {
     "end_time": "2025-08-16T15:53:23.102824Z",
     "start_time": "2025-08-16T15:53:23.095823Z"
    }
   },
   "outputs": [],
   "source": [
    "# Now splitting data into train and test set\n",
    "X_train, X_test, y_train, y_test = train_test_split(X, y, test_size = 0.3, random_state = 100)"
   ]
  },
  {
   "cell_type": "markdown",
   "id": "fe9af0df37a69363",
   "metadata": {},
   "source": [
    "## Scaling Data\n",
    "We also need to scale the continuous variables present in our dataset before building model."
   ]
  },
  {
   "cell_type": "code",
   "execution_count": 562,
   "id": "a5b9b3c1bd3c8e71",
   "metadata": {
    "ExecuteTime": {
     "end_time": "2025-08-16T15:53:23.242617Z",
     "start_time": "2025-08-16T15:53:23.186141Z"
    }
   },
   "outputs": [
    {
     "data": {
      "text/html": [
       "<div>\n",
       "<style scoped>\n",
       "    .dataframe tbody tr th:only-of-type {\n",
       "        vertical-align: middle;\n",
       "    }\n",
       "\n",
       "    .dataframe tbody tr th {\n",
       "        vertical-align: top;\n",
       "    }\n",
       "\n",
       "    .dataframe thead th {\n",
       "        text-align: right;\n",
       "    }\n",
       "</style>\n",
       "<table border=\"1\" class=\"dataframe\">\n",
       "  <thead>\n",
       "    <tr style=\"text-align: right;\">\n",
       "      <th></th>\n",
       "      <th>TotalVisits</th>\n",
       "      <th>Total Time Spent on Website</th>\n",
       "      <th>Page Views Per Visit</th>\n",
       "      <th>Lead Origin_Landing Page Submission</th>\n",
       "      <th>Lead Origin_Lead Add Form</th>\n",
       "      <th>Lead Origin_Lead Import</th>\n",
       "      <th>Lead Source_Direct Traffic</th>\n",
       "      <th>Lead Source_Facebook</th>\n",
       "      <th>Lead Source_Google</th>\n",
       "      <th>Lead Source_Live Chat</th>\n",
       "      <th>...</th>\n",
       "      <th>Specialization_IT Projects Management</th>\n",
       "      <th>Specialization_International Business</th>\n",
       "      <th>Specialization_Marketing Management</th>\n",
       "      <th>Specialization_Media and Advertising</th>\n",
       "      <th>Specialization_Operations Management</th>\n",
       "      <th>Specialization_Retail Management</th>\n",
       "      <th>Specialization_Rural and Agribusiness</th>\n",
       "      <th>Specialization_Services Excellence</th>\n",
       "      <th>Specialization_Supply Chain Management</th>\n",
       "      <th>Specialization_Travel and Tourism</th>\n",
       "    </tr>\n",
       "  </thead>\n",
       "  <tbody>\n",
       "    <tr>\n",
       "      <th>8003</th>\n",
       "      <td>0.015936</td>\n",
       "      <td>0.029489</td>\n",
       "      <td>0.125</td>\n",
       "      <td>1</td>\n",
       "      <td>0</td>\n",
       "      <td>0</td>\n",
       "      <td>1</td>\n",
       "      <td>0</td>\n",
       "      <td>0</td>\n",
       "      <td>0</td>\n",
       "      <td>...</td>\n",
       "      <td>1</td>\n",
       "      <td>0</td>\n",
       "      <td>0</td>\n",
       "      <td>0</td>\n",
       "      <td>0</td>\n",
       "      <td>0</td>\n",
       "      <td>0</td>\n",
       "      <td>0</td>\n",
       "      <td>0</td>\n",
       "      <td>0</td>\n",
       "    </tr>\n",
       "    <tr>\n",
       "      <th>218</th>\n",
       "      <td>0.015936</td>\n",
       "      <td>0.082306</td>\n",
       "      <td>0.250</td>\n",
       "      <td>1</td>\n",
       "      <td>0</td>\n",
       "      <td>0</td>\n",
       "      <td>1</td>\n",
       "      <td>0</td>\n",
       "      <td>0</td>\n",
       "      <td>0</td>\n",
       "      <td>...</td>\n",
       "      <td>0</td>\n",
       "      <td>0</td>\n",
       "      <td>0</td>\n",
       "      <td>0</td>\n",
       "      <td>0</td>\n",
       "      <td>0</td>\n",
       "      <td>0</td>\n",
       "      <td>0</td>\n",
       "      <td>0</td>\n",
       "      <td>0</td>\n",
       "    </tr>\n",
       "    <tr>\n",
       "      <th>4171</th>\n",
       "      <td>0.023904</td>\n",
       "      <td>0.034331</td>\n",
       "      <td>0.375</td>\n",
       "      <td>1</td>\n",
       "      <td>0</td>\n",
       "      <td>0</td>\n",
       "      <td>1</td>\n",
       "      <td>0</td>\n",
       "      <td>0</td>\n",
       "      <td>0</td>\n",
       "      <td>...</td>\n",
       "      <td>0</td>\n",
       "      <td>0</td>\n",
       "      <td>0</td>\n",
       "      <td>0</td>\n",
       "      <td>0</td>\n",
       "      <td>0</td>\n",
       "      <td>0</td>\n",
       "      <td>0</td>\n",
       "      <td>0</td>\n",
       "      <td>1</td>\n",
       "    </tr>\n",
       "    <tr>\n",
       "      <th>4037</th>\n",
       "      <td>0.000000</td>\n",
       "      <td>0.000000</td>\n",
       "      <td>0.000</td>\n",
       "      <td>0</td>\n",
       "      <td>0</td>\n",
       "      <td>0</td>\n",
       "      <td>0</td>\n",
       "      <td>0</td>\n",
       "      <td>0</td>\n",
       "      <td>0</td>\n",
       "      <td>...</td>\n",
       "      <td>0</td>\n",
       "      <td>0</td>\n",
       "      <td>0</td>\n",
       "      <td>0</td>\n",
       "      <td>0</td>\n",
       "      <td>0</td>\n",
       "      <td>0</td>\n",
       "      <td>0</td>\n",
       "      <td>0</td>\n",
       "      <td>0</td>\n",
       "    </tr>\n",
       "    <tr>\n",
       "      <th>3660</th>\n",
       "      <td>0.000000</td>\n",
       "      <td>0.000000</td>\n",
       "      <td>0.000</td>\n",
       "      <td>0</td>\n",
       "      <td>1</td>\n",
       "      <td>0</td>\n",
       "      <td>0</td>\n",
       "      <td>0</td>\n",
       "      <td>0</td>\n",
       "      <td>0</td>\n",
       "      <td>...</td>\n",
       "      <td>0</td>\n",
       "      <td>0</td>\n",
       "      <td>0</td>\n",
       "      <td>0</td>\n",
       "      <td>0</td>\n",
       "      <td>0</td>\n",
       "      <td>0</td>\n",
       "      <td>0</td>\n",
       "      <td>0</td>\n",
       "      <td>0</td>\n",
       "    </tr>\n",
       "  </tbody>\n",
       "</table>\n",
       "<p>5 rows × 74 columns</p>\n",
       "</div>"
      ],
      "text/plain": [
       "      TotalVisits  Total Time Spent on Website  Page Views Per Visit  \\\n",
       "8003     0.015936                     0.029489                 0.125   \n",
       "218      0.015936                     0.082306                 0.250   \n",
       "4171     0.023904                     0.034331                 0.375   \n",
       "4037     0.000000                     0.000000                 0.000   \n",
       "3660     0.000000                     0.000000                 0.000   \n",
       "\n",
       "      Lead Origin_Landing Page Submission  Lead Origin_Lead Add Form  \\\n",
       "8003                                    1                          0   \n",
       "218                                     1                          0   \n",
       "4171                                    1                          0   \n",
       "4037                                    0                          0   \n",
       "3660                                    0                          1   \n",
       "\n",
       "      Lead Origin_Lead Import  Lead Source_Direct Traffic  \\\n",
       "8003                        0                           1   \n",
       "218                         0                           1   \n",
       "4171                        0                           1   \n",
       "4037                        0                           0   \n",
       "3660                        0                           0   \n",
       "\n",
       "      Lead Source_Facebook  Lead Source_Google  Lead Source_Live Chat  ...  \\\n",
       "8003                     0                   0                      0  ...   \n",
       "218                      0                   0                      0  ...   \n",
       "4171                     0                   0                      0  ...   \n",
       "4037                     0                   0                      0  ...   \n",
       "3660                     0                   0                      0  ...   \n",
       "\n",
       "      Specialization_IT Projects Management  \\\n",
       "8003                                      1   \n",
       "218                                       0   \n",
       "4171                                      0   \n",
       "4037                                      0   \n",
       "3660                                      0   \n",
       "\n",
       "      Specialization_International Business  \\\n",
       "8003                                      0   \n",
       "218                                       0   \n",
       "4171                                      0   \n",
       "4037                                      0   \n",
       "3660                                      0   \n",
       "\n",
       "      Specialization_Marketing Management  \\\n",
       "8003                                    0   \n",
       "218                                     0   \n",
       "4171                                    0   \n",
       "4037                                    0   \n",
       "3660                                    0   \n",
       "\n",
       "      Specialization_Media and Advertising  \\\n",
       "8003                                     0   \n",
       "218                                      0   \n",
       "4171                                     0   \n",
       "4037                                     0   \n",
       "3660                                     0   \n",
       "\n",
       "      Specialization_Operations Management  Specialization_Retail Management  \\\n",
       "8003                                     0                                 0   \n",
       "218                                      0                                 0   \n",
       "4171                                     0                                 0   \n",
       "4037                                     0                                 0   \n",
       "3660                                     0                                 0   \n",
       "\n",
       "      Specialization_Rural and Agribusiness  \\\n",
       "8003                                      0   \n",
       "218                                       0   \n",
       "4171                                      0   \n",
       "4037                                      0   \n",
       "3660                                      0   \n",
       "\n",
       "      Specialization_Services Excellence  \\\n",
       "8003                                   0   \n",
       "218                                    0   \n",
       "4171                                   0   \n",
       "4037                                   0   \n",
       "3660                                   0   \n",
       "\n",
       "      Specialization_Supply Chain Management  \\\n",
       "8003                                       0   \n",
       "218                                        0   \n",
       "4171                                       0   \n",
       "4037                                       0   \n",
       "3660                                       0   \n",
       "\n",
       "      Specialization_Travel and Tourism  \n",
       "8003                                  0  \n",
       "218                                   0  \n",
       "4171                                  1  \n",
       "4037                                  0  \n",
       "3660                                  0  \n",
       "\n",
       "[5 rows x 74 columns]"
      ]
     },
     "execution_count": 562,
     "metadata": {},
     "output_type": "execute_result"
    }
   ],
   "source": [
    "# Scaling on x_train\n",
    "scaler = MinMaxScaler()\n",
    "\n",
    "X_train[['TotalVisits', 'Page Views Per Visit', 'Total Time Spent on Website']] = scaler.fit_transform(X_train[['TotalVisits', 'Page Views Per Visit', 'Total Time Spent on Website']])\n",
    "\n",
    "X_train.head()"
   ]
  },
  {
   "cell_type": "markdown",
   "id": "b88afef598519087",
   "metadata": {},
   "source": [
    "## Checking Correlation"
   ]
  },
  {
   "cell_type": "code",
   "execution_count": 563,
   "id": "4b4908e7c945787d",
   "metadata": {
    "ExecuteTime": {
     "end_time": "2025-08-16T15:53:23.450002Z",
     "start_time": "2025-08-16T15:53:23.321852Z"
    }
   },
   "outputs": [
    {
     "data": {
      "text/html": [
       "<div>\n",
       "<style scoped>\n",
       "    .dataframe tbody tr th:only-of-type {\n",
       "        vertical-align: middle;\n",
       "    }\n",
       "\n",
       "    .dataframe tbody tr th {\n",
       "        vertical-align: top;\n",
       "    }\n",
       "\n",
       "    .dataframe thead th {\n",
       "        text-align: right;\n",
       "    }\n",
       "</style>\n",
       "<table border=\"1\" class=\"dataframe\">\n",
       "  <thead>\n",
       "    <tr style=\"text-align: right;\">\n",
       "      <th></th>\n",
       "      <th>TotalVisits</th>\n",
       "      <th>Total Time Spent on Website</th>\n",
       "      <th>Page Views Per Visit</th>\n",
       "      <th>Lead Origin_Landing Page Submission</th>\n",
       "      <th>Lead Origin_Lead Add Form</th>\n",
       "      <th>Lead Origin_Lead Import</th>\n",
       "      <th>Lead Source_Direct Traffic</th>\n",
       "      <th>Lead Source_Facebook</th>\n",
       "      <th>Lead Source_Google</th>\n",
       "      <th>Lead Source_Live Chat</th>\n",
       "      <th>...</th>\n",
       "      <th>Specialization_IT Projects Management</th>\n",
       "      <th>Specialization_International Business</th>\n",
       "      <th>Specialization_Marketing Management</th>\n",
       "      <th>Specialization_Media and Advertising</th>\n",
       "      <th>Specialization_Operations Management</th>\n",
       "      <th>Specialization_Retail Management</th>\n",
       "      <th>Specialization_Rural and Agribusiness</th>\n",
       "      <th>Specialization_Services Excellence</th>\n",
       "      <th>Specialization_Supply Chain Management</th>\n",
       "      <th>Specialization_Travel and Tourism</th>\n",
       "    </tr>\n",
       "  </thead>\n",
       "  <tbody>\n",
       "    <tr>\n",
       "      <th>TotalVisits</th>\n",
       "      <td>1.000000</td>\n",
       "      <td>0.180396</td>\n",
       "      <td>0.435633</td>\n",
       "      <td>0.253439</td>\n",
       "      <td>-0.201371</td>\n",
       "      <td>-0.040149</td>\n",
       "      <td>0.069662</td>\n",
       "      <td>-0.040149</td>\n",
       "      <td>0.079346</td>\n",
       "      <td>-0.014172</td>\n",
       "      <td>...</td>\n",
       "      <td>0.018576</td>\n",
       "      <td>0.029421</td>\n",
       "      <td>-0.005065</td>\n",
       "      <td>0.041375</td>\n",
       "      <td>0.013192</td>\n",
       "      <td>0.004456</td>\n",
       "      <td>0.076798</td>\n",
       "      <td>0.026402</td>\n",
       "      <td>0.081599</td>\n",
       "      <td>0.053059</td>\n",
       "    </tr>\n",
       "    <tr>\n",
       "      <th>Total Time Spent on Website</th>\n",
       "      <td>0.180396</td>\n",
       "      <td>1.000000</td>\n",
       "      <td>0.317382</td>\n",
       "      <td>0.271853</td>\n",
       "      <td>-0.254398</td>\n",
       "      <td>-0.056578</td>\n",
       "      <td>0.112708</td>\n",
       "      <td>-0.056578</td>\n",
       "      <td>0.232249</td>\n",
       "      <td>-0.019972</td>\n",
       "      <td>...</td>\n",
       "      <td>0.020717</td>\n",
       "      <td>0.013033</td>\n",
       "      <td>0.054701</td>\n",
       "      <td>0.050156</td>\n",
       "      <td>0.054325</td>\n",
       "      <td>0.032314</td>\n",
       "      <td>0.017783</td>\n",
       "      <td>0.013438</td>\n",
       "      <td>0.036675</td>\n",
       "      <td>0.034180</td>\n",
       "    </tr>\n",
       "    <tr>\n",
       "      <th>Page Views Per Visit</th>\n",
       "      <td>0.435633</td>\n",
       "      <td>0.317382</td>\n",
       "      <td>1.000000</td>\n",
       "      <td>0.481898</td>\n",
       "      <td>-0.367005</td>\n",
       "      <td>-0.072056</td>\n",
       "      <td>0.103034</td>\n",
       "      <td>-0.072056</td>\n",
       "      <td>0.206739</td>\n",
       "      <td>-0.025436</td>\n",
       "      <td>...</td>\n",
       "      <td>0.063053</td>\n",
       "      <td>0.064399</td>\n",
       "      <td>0.029195</td>\n",
       "      <td>0.077295</td>\n",
       "      <td>0.040201</td>\n",
       "      <td>0.023451</td>\n",
       "      <td>0.027137</td>\n",
       "      <td>0.029267</td>\n",
       "      <td>0.052635</td>\n",
       "      <td>0.101226</td>\n",
       "    </tr>\n",
       "    <tr>\n",
       "      <th>Lead Origin_Landing Page Submission</th>\n",
       "      <td>0.253439</td>\n",
       "      <td>0.271853</td>\n",
       "      <td>0.481898</td>\n",
       "      <td>1.000000</td>\n",
       "      <td>-0.367172</td>\n",
       "      <td>-0.068330</td>\n",
       "      <td>0.504456</td>\n",
       "      <td>-0.068330</td>\n",
       "      <td>0.077192</td>\n",
       "      <td>-0.024120</td>\n",
       "      <td>...</td>\n",
       "      <td>0.143126</td>\n",
       "      <td>0.089828</td>\n",
       "      <td>0.087931</td>\n",
       "      <td>0.096703</td>\n",
       "      <td>0.093663</td>\n",
       "      <td>0.072809</td>\n",
       "      <td>0.053317</td>\n",
       "      <td>0.045601</td>\n",
       "      <td>0.108103</td>\n",
       "      <td>0.089308</td>\n",
       "    </tr>\n",
       "    <tr>\n",
       "      <th>Lead Origin_Lead Add Form</th>\n",
       "      <td>-0.201371</td>\n",
       "      <td>-0.254398</td>\n",
       "      <td>-0.367005</td>\n",
       "      <td>-0.367172</td>\n",
       "      <td>1.000000</td>\n",
       "      <td>-0.019342</td>\n",
       "      <td>-0.206074</td>\n",
       "      <td>-0.019342</td>\n",
       "      <td>-0.219566</td>\n",
       "      <td>0.065693</td>\n",
       "      <td>...</td>\n",
       "      <td>-0.043389</td>\n",
       "      <td>-0.039341</td>\n",
       "      <td>0.013114</td>\n",
       "      <td>-0.044722</td>\n",
       "      <td>-0.031309</td>\n",
       "      <td>-0.026390</td>\n",
       "      <td>-0.030276</td>\n",
       "      <td>-0.016743</td>\n",
       "      <td>-0.030714</td>\n",
       "      <td>-0.043358</td>\n",
       "    </tr>\n",
       "    <tr>\n",
       "      <th>...</th>\n",
       "      <td>...</td>\n",
       "      <td>...</td>\n",
       "      <td>...</td>\n",
       "      <td>...</td>\n",
       "      <td>...</td>\n",
       "      <td>...</td>\n",
       "      <td>...</td>\n",
       "      <td>...</td>\n",
       "      <td>...</td>\n",
       "      <td>...</td>\n",
       "      <td>...</td>\n",
       "      <td>...</td>\n",
       "      <td>...</td>\n",
       "      <td>...</td>\n",
       "      <td>...</td>\n",
       "      <td>...</td>\n",
       "      <td>...</td>\n",
       "      <td>...</td>\n",
       "      <td>...</td>\n",
       "      <td>...</td>\n",
       "      <td>...</td>\n",
       "    </tr>\n",
       "    <tr>\n",
       "      <th>Specialization_Retail Management</th>\n",
       "      <td>0.004456</td>\n",
       "      <td>0.032314</td>\n",
       "      <td>0.023451</td>\n",
       "      <td>0.072809</td>\n",
       "      <td>-0.026390</td>\n",
       "      <td>-0.007295</td>\n",
       "      <td>0.021212</td>\n",
       "      <td>-0.007295</td>\n",
       "      <td>0.020824</td>\n",
       "      <td>-0.002575</td>\n",
       "      <td>...</td>\n",
       "      <td>-0.026206</td>\n",
       "      <td>-0.018694</td>\n",
       "      <td>-0.041480</td>\n",
       "      <td>-0.018787</td>\n",
       "      <td>-0.030313</td>\n",
       "      <td>1.000000</td>\n",
       "      <td>-0.011420</td>\n",
       "      <td>-0.006315</td>\n",
       "      <td>-0.024862</td>\n",
       "      <td>-0.018319</td>\n",
       "    </tr>\n",
       "    <tr>\n",
       "      <th>Specialization_Rural and Agribusiness</th>\n",
       "      <td>0.076798</td>\n",
       "      <td>0.017783</td>\n",
       "      <td>0.027137</td>\n",
       "      <td>0.053317</td>\n",
       "      <td>-0.030276</td>\n",
       "      <td>-0.005634</td>\n",
       "      <td>0.035485</td>\n",
       "      <td>-0.005634</td>\n",
       "      <td>-0.033469</td>\n",
       "      <td>-0.001989</td>\n",
       "      <td>...</td>\n",
       "      <td>-0.020239</td>\n",
       "      <td>-0.014438</td>\n",
       "      <td>-0.032036</td>\n",
       "      <td>-0.014509</td>\n",
       "      <td>-0.023411</td>\n",
       "      <td>-0.011420</td>\n",
       "      <td>1.000000</td>\n",
       "      <td>-0.004877</td>\n",
       "      <td>-0.019201</td>\n",
       "      <td>-0.014148</td>\n",
       "    </tr>\n",
       "    <tr>\n",
       "      <th>Specialization_Services Excellence</th>\n",
       "      <td>0.026402</td>\n",
       "      <td>0.013438</td>\n",
       "      <td>0.029267</td>\n",
       "      <td>0.045601</td>\n",
       "      <td>-0.016743</td>\n",
       "      <td>-0.003116</td>\n",
       "      <td>0.043100</td>\n",
       "      <td>-0.003116</td>\n",
       "      <td>-0.026359</td>\n",
       "      <td>-0.001100</td>\n",
       "      <td>...</td>\n",
       "      <td>-0.011193</td>\n",
       "      <td>-0.007984</td>\n",
       "      <td>-0.017716</td>\n",
       "      <td>-0.008024</td>\n",
       "      <td>-0.012947</td>\n",
       "      <td>-0.006315</td>\n",
       "      <td>-0.004877</td>\n",
       "      <td>1.000000</td>\n",
       "      <td>-0.010618</td>\n",
       "      <td>-0.007824</td>\n",
       "    </tr>\n",
       "    <tr>\n",
       "      <th>Specialization_Supply Chain Management</th>\n",
       "      <td>0.081599</td>\n",
       "      <td>0.036675</td>\n",
       "      <td>0.052635</td>\n",
       "      <td>0.108103</td>\n",
       "      <td>-0.030714</td>\n",
       "      <td>0.006840</td>\n",
       "      <td>0.078224</td>\n",
       "      <td>0.006840</td>\n",
       "      <td>-0.015423</td>\n",
       "      <td>-0.004330</td>\n",
       "      <td>...</td>\n",
       "      <td>-0.044063</td>\n",
       "      <td>-0.031432</td>\n",
       "      <td>-0.069746</td>\n",
       "      <td>-0.031588</td>\n",
       "      <td>-0.050968</td>\n",
       "      <td>-0.024862</td>\n",
       "      <td>-0.019201</td>\n",
       "      <td>-0.010618</td>\n",
       "      <td>1.000000</td>\n",
       "      <td>-0.030802</td>\n",
       "    </tr>\n",
       "    <tr>\n",
       "      <th>Specialization_Travel and Tourism</th>\n",
       "      <td>0.053059</td>\n",
       "      <td>0.034180</td>\n",
       "      <td>0.101226</td>\n",
       "      <td>0.089308</td>\n",
       "      <td>-0.043358</td>\n",
       "      <td>-0.009039</td>\n",
       "      <td>0.024423</td>\n",
       "      <td>-0.009039</td>\n",
       "      <td>-0.054443</td>\n",
       "      <td>-0.003191</td>\n",
       "      <td>...</td>\n",
       "      <td>-0.032468</td>\n",
       "      <td>-0.023161</td>\n",
       "      <td>-0.051391</td>\n",
       "      <td>-0.023275</td>\n",
       "      <td>-0.037555</td>\n",
       "      <td>-0.018319</td>\n",
       "      <td>-0.014148</td>\n",
       "      <td>-0.007824</td>\n",
       "      <td>-0.030802</td>\n",
       "      <td>1.000000</td>\n",
       "    </tr>\n",
       "  </tbody>\n",
       "</table>\n",
       "<p>74 rows × 74 columns</p>\n",
       "</div>"
      ],
      "text/plain": [
       "                                        TotalVisits  \\\n",
       "TotalVisits                                1.000000   \n",
       "Total Time Spent on Website                0.180396   \n",
       "Page Views Per Visit                       0.435633   \n",
       "Lead Origin_Landing Page Submission        0.253439   \n",
       "Lead Origin_Lead Add Form                 -0.201371   \n",
       "...                                             ...   \n",
       "Specialization_Retail Management           0.004456   \n",
       "Specialization_Rural and Agribusiness      0.076798   \n",
       "Specialization_Services Excellence         0.026402   \n",
       "Specialization_Supply Chain Management     0.081599   \n",
       "Specialization_Travel and Tourism          0.053059   \n",
       "\n",
       "                                        Total Time Spent on Website  \\\n",
       "TotalVisits                                                0.180396   \n",
       "Total Time Spent on Website                                1.000000   \n",
       "Page Views Per Visit                                       0.317382   \n",
       "Lead Origin_Landing Page Submission                        0.271853   \n",
       "Lead Origin_Lead Add Form                                 -0.254398   \n",
       "...                                                             ...   \n",
       "Specialization_Retail Management                           0.032314   \n",
       "Specialization_Rural and Agribusiness                      0.017783   \n",
       "Specialization_Services Excellence                         0.013438   \n",
       "Specialization_Supply Chain Management                     0.036675   \n",
       "Specialization_Travel and Tourism                          0.034180   \n",
       "\n",
       "                                        Page Views Per Visit  \\\n",
       "TotalVisits                                         0.435633   \n",
       "Total Time Spent on Website                         0.317382   \n",
       "Page Views Per Visit                                1.000000   \n",
       "Lead Origin_Landing Page Submission                 0.481898   \n",
       "Lead Origin_Lead Add Form                          -0.367005   \n",
       "...                                                      ...   \n",
       "Specialization_Retail Management                    0.023451   \n",
       "Specialization_Rural and Agribusiness               0.027137   \n",
       "Specialization_Services Excellence                  0.029267   \n",
       "Specialization_Supply Chain Management              0.052635   \n",
       "Specialization_Travel and Tourism                   0.101226   \n",
       "\n",
       "                                        Lead Origin_Landing Page Submission  \\\n",
       "TotalVisits                                                        0.253439   \n",
       "Total Time Spent on Website                                        0.271853   \n",
       "Page Views Per Visit                                               0.481898   \n",
       "Lead Origin_Landing Page Submission                                1.000000   \n",
       "Lead Origin_Lead Add Form                                         -0.367172   \n",
       "...                                                                     ...   \n",
       "Specialization_Retail Management                                   0.072809   \n",
       "Specialization_Rural and Agribusiness                              0.053317   \n",
       "Specialization_Services Excellence                                 0.045601   \n",
       "Specialization_Supply Chain Management                             0.108103   \n",
       "Specialization_Travel and Tourism                                  0.089308   \n",
       "\n",
       "                                        Lead Origin_Lead Add Form  \\\n",
       "TotalVisits                                             -0.201371   \n",
       "Total Time Spent on Website                             -0.254398   \n",
       "Page Views Per Visit                                    -0.367005   \n",
       "Lead Origin_Landing Page Submission                     -0.367172   \n",
       "Lead Origin_Lead Add Form                                1.000000   \n",
       "...                                                           ...   \n",
       "Specialization_Retail Management                        -0.026390   \n",
       "Specialization_Rural and Agribusiness                   -0.030276   \n",
       "Specialization_Services Excellence                      -0.016743   \n",
       "Specialization_Supply Chain Management                  -0.030714   \n",
       "Specialization_Travel and Tourism                       -0.043358   \n",
       "\n",
       "                                        Lead Origin_Lead Import  \\\n",
       "TotalVisits                                           -0.040149   \n",
       "Total Time Spent on Website                           -0.056578   \n",
       "Page Views Per Visit                                  -0.072056   \n",
       "Lead Origin_Landing Page Submission                   -0.068330   \n",
       "Lead Origin_Lead Add Form                             -0.019342   \n",
       "...                                                         ...   \n",
       "Specialization_Retail Management                      -0.007295   \n",
       "Specialization_Rural and Agribusiness                 -0.005634   \n",
       "Specialization_Services Excellence                    -0.003116   \n",
       "Specialization_Supply Chain Management                 0.006840   \n",
       "Specialization_Travel and Tourism                     -0.009039   \n",
       "\n",
       "                                        Lead Source_Direct Traffic  \\\n",
       "TotalVisits                                               0.069662   \n",
       "Total Time Spent on Website                               0.112708   \n",
       "Page Views Per Visit                                      0.103034   \n",
       "Lead Origin_Landing Page Submission                       0.504456   \n",
       "Lead Origin_Lead Add Form                                -0.206074   \n",
       "...                                                            ...   \n",
       "Specialization_Retail Management                          0.021212   \n",
       "Specialization_Rural and Agribusiness                     0.035485   \n",
       "Specialization_Services Excellence                        0.043100   \n",
       "Specialization_Supply Chain Management                    0.078224   \n",
       "Specialization_Travel and Tourism                         0.024423   \n",
       "\n",
       "                                        Lead Source_Facebook  \\\n",
       "TotalVisits                                        -0.040149   \n",
       "Total Time Spent on Website                        -0.056578   \n",
       "Page Views Per Visit                               -0.072056   \n",
       "Lead Origin_Landing Page Submission                -0.068330   \n",
       "Lead Origin_Lead Add Form                          -0.019342   \n",
       "...                                                      ...   \n",
       "Specialization_Retail Management                   -0.007295   \n",
       "Specialization_Rural and Agribusiness              -0.005634   \n",
       "Specialization_Services Excellence                 -0.003116   \n",
       "Specialization_Supply Chain Management              0.006840   \n",
       "Specialization_Travel and Tourism                  -0.009039   \n",
       "\n",
       "                                        Lead Source_Google  \\\n",
       "TotalVisits                                       0.079346   \n",
       "Total Time Spent on Website                       0.232249   \n",
       "Page Views Per Visit                              0.206739   \n",
       "Lead Origin_Landing Page Submission               0.077192   \n",
       "Lead Origin_Lead Add Form                        -0.219566   \n",
       "...                                                    ...   \n",
       "Specialization_Retail Management                  0.020824   \n",
       "Specialization_Rural and Agribusiness            -0.033469   \n",
       "Specialization_Services Excellence               -0.026359   \n",
       "Specialization_Supply Chain Management           -0.015423   \n",
       "Specialization_Travel and Tourism                -0.054443   \n",
       "\n",
       "                                        Lead Source_Live Chat  ...  \\\n",
       "TotalVisits                                         -0.014172  ...   \n",
       "Total Time Spent on Website                         -0.019972  ...   \n",
       "Page Views Per Visit                                -0.025436  ...   \n",
       "Lead Origin_Landing Page Submission                 -0.024120  ...   \n",
       "Lead Origin_Lead Add Form                            0.065693  ...   \n",
       "...                                                       ...  ...   \n",
       "Specialization_Retail Management                    -0.002575  ...   \n",
       "Specialization_Rural and Agribusiness               -0.001989  ...   \n",
       "Specialization_Services Excellence                  -0.001100  ...   \n",
       "Specialization_Supply Chain Management              -0.004330  ...   \n",
       "Specialization_Travel and Tourism                   -0.003191  ...   \n",
       "\n",
       "                                        Specialization_IT Projects Management  \\\n",
       "TotalVisits                                                          0.018576   \n",
       "Total Time Spent on Website                                          0.020717   \n",
       "Page Views Per Visit                                                 0.063053   \n",
       "Lead Origin_Landing Page Submission                                  0.143126   \n",
       "Lead Origin_Lead Add Form                                           -0.043389   \n",
       "...                                                                       ...   \n",
       "Specialization_Retail Management                                    -0.026206   \n",
       "Specialization_Rural and Agribusiness                               -0.020239   \n",
       "Specialization_Services Excellence                                  -0.011193   \n",
       "Specialization_Supply Chain Management                              -0.044063   \n",
       "Specialization_Travel and Tourism                                   -0.032468   \n",
       "\n",
       "                                        Specialization_International Business  \\\n",
       "TotalVisits                                                          0.029421   \n",
       "Total Time Spent on Website                                          0.013033   \n",
       "Page Views Per Visit                                                 0.064399   \n",
       "Lead Origin_Landing Page Submission                                  0.089828   \n",
       "Lead Origin_Lead Add Form                                           -0.039341   \n",
       "...                                                                       ...   \n",
       "Specialization_Retail Management                                    -0.018694   \n",
       "Specialization_Rural and Agribusiness                               -0.014438   \n",
       "Specialization_Services Excellence                                  -0.007984   \n",
       "Specialization_Supply Chain Management                              -0.031432   \n",
       "Specialization_Travel and Tourism                                   -0.023161   \n",
       "\n",
       "                                        Specialization_Marketing Management  \\\n",
       "TotalVisits                                                       -0.005065   \n",
       "Total Time Spent on Website                                        0.054701   \n",
       "Page Views Per Visit                                               0.029195   \n",
       "Lead Origin_Landing Page Submission                                0.087931   \n",
       "Lead Origin_Lead Add Form                                          0.013114   \n",
       "...                                                                     ...   \n",
       "Specialization_Retail Management                                  -0.041480   \n",
       "Specialization_Rural and Agribusiness                             -0.032036   \n",
       "Specialization_Services Excellence                                -0.017716   \n",
       "Specialization_Supply Chain Management                            -0.069746   \n",
       "Specialization_Travel and Tourism                                 -0.051391   \n",
       "\n",
       "                                        Specialization_Media and Advertising  \\\n",
       "TotalVisits                                                         0.041375   \n",
       "Total Time Spent on Website                                         0.050156   \n",
       "Page Views Per Visit                                                0.077295   \n",
       "Lead Origin_Landing Page Submission                                 0.096703   \n",
       "Lead Origin_Lead Add Form                                          -0.044722   \n",
       "...                                                                      ...   \n",
       "Specialization_Retail Management                                   -0.018787   \n",
       "Specialization_Rural and Agribusiness                              -0.014509   \n",
       "Specialization_Services Excellence                                 -0.008024   \n",
       "Specialization_Supply Chain Management                             -0.031588   \n",
       "Specialization_Travel and Tourism                                  -0.023275   \n",
       "\n",
       "                                        Specialization_Operations Management  \\\n",
       "TotalVisits                                                         0.013192   \n",
       "Total Time Spent on Website                                         0.054325   \n",
       "Page Views Per Visit                                                0.040201   \n",
       "Lead Origin_Landing Page Submission                                 0.093663   \n",
       "Lead Origin_Lead Add Form                                          -0.031309   \n",
       "...                                                                      ...   \n",
       "Specialization_Retail Management                                   -0.030313   \n",
       "Specialization_Rural and Agribusiness                              -0.023411   \n",
       "Specialization_Services Excellence                                 -0.012947   \n",
       "Specialization_Supply Chain Management                             -0.050968   \n",
       "Specialization_Travel and Tourism                                  -0.037555   \n",
       "\n",
       "                                        Specialization_Retail Management  \\\n",
       "TotalVisits                                                     0.004456   \n",
       "Total Time Spent on Website                                     0.032314   \n",
       "Page Views Per Visit                                            0.023451   \n",
       "Lead Origin_Landing Page Submission                             0.072809   \n",
       "Lead Origin_Lead Add Form                                      -0.026390   \n",
       "...                                                                  ...   \n",
       "Specialization_Retail Management                                1.000000   \n",
       "Specialization_Rural and Agribusiness                          -0.011420   \n",
       "Specialization_Services Excellence                             -0.006315   \n",
       "Specialization_Supply Chain Management                         -0.024862   \n",
       "Specialization_Travel and Tourism                              -0.018319   \n",
       "\n",
       "                                        Specialization_Rural and Agribusiness  \\\n",
       "TotalVisits                                                          0.076798   \n",
       "Total Time Spent on Website                                          0.017783   \n",
       "Page Views Per Visit                                                 0.027137   \n",
       "Lead Origin_Landing Page Submission                                  0.053317   \n",
       "Lead Origin_Lead Add Form                                           -0.030276   \n",
       "...                                                                       ...   \n",
       "Specialization_Retail Management                                    -0.011420   \n",
       "Specialization_Rural and Agribusiness                                1.000000   \n",
       "Specialization_Services Excellence                                  -0.004877   \n",
       "Specialization_Supply Chain Management                              -0.019201   \n",
       "Specialization_Travel and Tourism                                   -0.014148   \n",
       "\n",
       "                                        Specialization_Services Excellence  \\\n",
       "TotalVisits                                                       0.026402   \n",
       "Total Time Spent on Website                                       0.013438   \n",
       "Page Views Per Visit                                              0.029267   \n",
       "Lead Origin_Landing Page Submission                               0.045601   \n",
       "Lead Origin_Lead Add Form                                        -0.016743   \n",
       "...                                                                    ...   \n",
       "Specialization_Retail Management                                 -0.006315   \n",
       "Specialization_Rural and Agribusiness                            -0.004877   \n",
       "Specialization_Services Excellence                                1.000000   \n",
       "Specialization_Supply Chain Management                           -0.010618   \n",
       "Specialization_Travel and Tourism                                -0.007824   \n",
       "\n",
       "                                        Specialization_Supply Chain Management  \\\n",
       "TotalVisits                                                           0.081599   \n",
       "Total Time Spent on Website                                           0.036675   \n",
       "Page Views Per Visit                                                  0.052635   \n",
       "Lead Origin_Landing Page Submission                                   0.108103   \n",
       "Lead Origin_Lead Add Form                                            -0.030714   \n",
       "...                                                                        ...   \n",
       "Specialization_Retail Management                                     -0.024862   \n",
       "Specialization_Rural and Agribusiness                                -0.019201   \n",
       "Specialization_Services Excellence                                   -0.010618   \n",
       "Specialization_Supply Chain Management                                1.000000   \n",
       "Specialization_Travel and Tourism                                    -0.030802   \n",
       "\n",
       "                                        Specialization_Travel and Tourism  \n",
       "TotalVisits                                                      0.053059  \n",
       "Total Time Spent on Website                                      0.034180  \n",
       "Page Views Per Visit                                             0.101226  \n",
       "Lead Origin_Landing Page Submission                              0.089308  \n",
       "Lead Origin_Lead Add Form                                       -0.043358  \n",
       "...                                                                   ...  \n",
       "Specialization_Retail Management                                -0.018319  \n",
       "Specialization_Rural and Agribusiness                           -0.014148  \n",
       "Specialization_Services Excellence                              -0.007824  \n",
       "Specialization_Supply Chain Management                          -0.030802  \n",
       "Specialization_Travel and Tourism                                1.000000  \n",
       "\n",
       "[74 rows x 74 columns]"
      ]
     },
     "execution_count": 563,
     "metadata": {},
     "output_type": "execute_result"
    }
   ],
   "source": [
    "X_train.corr()"
   ]
  },
  {
   "cell_type": "markdown",
   "id": "57d970827ab21573",
   "metadata": {},
   "source": [
    "With this our Data Preparation is finished. Now our data is ready for model building."
   ]
  },
  {
   "cell_type": "markdown",
   "id": "40c38a6786be231f",
   "metadata": {},
   "source": [
    "# Model Building\n",
    "Let's now move to model building. As you can see that there are a lot of variables present in the dataset which we cannot deal with. So the best way to approach this is to select a small set of features from this pool of variables using RFE."
   ]
  },
  {
   "cell_type": "markdown",
   "id": "c5df91f83b8f4f71",
   "metadata": {},
   "source": [
    "### Running First Model"
   ]
  },
  {
   "cell_type": "markdown",
   "id": "893f543ce73dc40a",
   "metadata": {},
   "source": [
    "### Selecting features using RFE"
   ]
  },
  {
   "cell_type": "code",
   "execution_count": 564,
   "id": "563a57cbdb0b23ab",
   "metadata": {
    "ExecuteTime": {
     "end_time": "2025-08-16T15:53:29.670582Z",
     "start_time": "2025-08-16T15:53:29.666321Z"
    }
   },
   "outputs": [],
   "source": [
    "# Creating instance for logistic regression\n",
    "logreg = LogisticRegression(class_weight='balanced', random_state=100)"
   ]
  },
  {
   "cell_type": "code",
   "execution_count": 565,
   "id": "df5202cec5a20dcb",
   "metadata": {
    "ExecuteTime": {
     "end_time": "2025-08-16T15:53:31.330341Z",
     "start_time": "2025-08-16T15:53:29.727713Z"
    }
   },
   "outputs": [],
   "source": [
    "# running RFE with 15 variables as output\n",
    "rfe = RFE(logreg,n_features_to_select= 15)\n",
    "\n",
    "# Fitting data into model\n",
    "rfe = rfe.fit(X_train, y_train)"
   ]
  },
  {
   "cell_type": "code",
   "execution_count": 566,
   "id": "f2b8417785fc7e99",
   "metadata": {
    "ExecuteTime": {
     "end_time": "2025-08-16T15:53:31.390090Z",
     "start_time": "2025-08-16T15:53:31.381986Z"
    }
   },
   "outputs": [
    {
     "data": {
      "text/plain": [
       "[('TotalVisits', True, 1),\n",
       " ('Total Time Spent on Website', True, 1),\n",
       " ('Page Views Per Visit', False, 21),\n",
       " ('Lead Origin_Landing Page Submission', False, 8),\n",
       " ('Lead Origin_Lead Add Form', True, 1),\n",
       " ('Lead Origin_Lead Import', False, 54),\n",
       " ('Lead Source_Direct Traffic', False, 23),\n",
       " ('Lead Source_Facebook', False, 48),\n",
       " ('Lead Source_Google', False, 37),\n",
       " ('Lead Source_Live Chat', False, 45),\n",
       " ('Lead Source_Olark Chat', True, 1),\n",
       " ('Lead Source_Organic Search', False, 36),\n",
       " ('Lead Source_Pay per Click Ads', False, 42),\n",
       " ('Lead Source_Press_Release', False, 53),\n",
       " ('Lead Source_Reference', True, 1),\n",
       " ('Lead Source_Referral Sites', False, 38),\n",
       " ('Lead Source_Social Media', False, 58),\n",
       " ('Lead Source_WeLearn', False, 43),\n",
       " ('Lead Source_Welingak Website', True, 1),\n",
       " ('Lead Source_bing', False, 34),\n",
       " ('Lead Source_testone', False, 39),\n",
       " ('Do Not Email_Yes', True, 1),\n",
       " ('Last Activity_Converted to Lead', False, 22),\n",
       " ('Last Activity_Email Bounced', False, 4),\n",
       " ('Last Activity_Email Link Clicked', False, 51),\n",
       " ('Last Activity_Email Marked Spam', False, 57),\n",
       " ('Last Activity_Email Opened', False, 41),\n",
       " ('Last Activity_Email Received', False, 55),\n",
       " ('Last Activity_Form Submitted on Website', False, 28),\n",
       " ('Last Activity_Had a Phone Conversation', True, 1),\n",
       " ('Last Activity_Olark Chat Conversation', False, 5),\n",
       " ('Last Activity_Page Visited on Website', False, 24),\n",
       " ('Last Activity_SMS Sent', True, 1),\n",
       " ('Last Activity_Unreachable', False, 47),\n",
       " ('Last Activity_Unsubscribed', False, 40),\n",
       " ('Last Activity_View in browser link Clicked', False, 30),\n",
       " ('Last Activity_Visited Booth in Tradeshow', False, 50),\n",
       " ('What is your current occupation_Housewife', True, 1),\n",
       " ('What is your current occupation_Other', False, 46),\n",
       " ('What is your current occupation_Student', True, 1),\n",
       " ('What is your current occupation_Unemployed', True, 1),\n",
       " ('What is your current occupation_Working Professional', True, 1),\n",
       " ('A free copy of Mastering The Interview_Yes', False, 49),\n",
       " ('Last Notable Activity_Email Bounced', False, 3),\n",
       " ('Last Notable Activity_Email Link Clicked', False, 20),\n",
       " ('Last Notable Activity_Email Marked Spam', False, 60),\n",
       " ('Last Notable Activity_Email Opened', False, 25),\n",
       " ('Last Notable Activity_Email Received', False, 59),\n",
       " ('Last Notable Activity_Had a Phone Conversation', True, 1),\n",
       " ('Last Notable Activity_Modified', False, 2),\n",
       " ('Last Notable Activity_Olark Chat Conversation', False, 33),\n",
       " ('Last Notable Activity_Page Visited on Website', False, 32),\n",
       " ('Last Notable Activity_SMS Sent', False, 44),\n",
       " ('Last Notable Activity_Unreachable', True, 1),\n",
       " ('Last Notable Activity_Unsubscribed', False, 35),\n",
       " ('Last Notable Activity_View in browser link Clicked', False, 31),\n",
       " ('Specialization_Banking, Investment And Insurance', False, 6),\n",
       " ('Specialization_Business Administration', False, 15),\n",
       " ('Specialization_E-Business', False, 11),\n",
       " ('Specialization_E-COMMERCE', False, 9),\n",
       " ('Specialization_Finance Management', False, 14),\n",
       " ('Specialization_Healthcare Management', False, 10),\n",
       " ('Specialization_Hospitality Management', False, 52),\n",
       " ('Specialization_Human Resource Management', False, 17),\n",
       " ('Specialization_IT Projects Management', False, 18),\n",
       " ('Specialization_International Business', False, 26),\n",
       " ('Specialization_Marketing Management', False, 12),\n",
       " ('Specialization_Media and Advertising', False, 27),\n",
       " ('Specialization_Operations Management', False, 19),\n",
       " ('Specialization_Retail Management', False, 29),\n",
       " ('Specialization_Rural and Agribusiness', False, 7),\n",
       " ('Specialization_Services Excellence', False, 56),\n",
       " ('Specialization_Supply Chain Management', False, 13),\n",
       " ('Specialization_Travel and Tourism', False, 16)]"
      ]
     },
     "execution_count": 566,
     "metadata": {},
     "output_type": "execute_result"
    }
   ],
   "source": [
    "# looking at the rank of each feature\n",
    "list(zip(X_train.columns, rfe.support_, rfe.ranking_))"
   ]
  },
  {
   "cell_type": "code",
   "execution_count": 567,
   "id": "c5066954",
   "metadata": {},
   "outputs": [],
   "source": [
    "X_train = X_train.loc[:, rfe.support_]"
   ]
  },
  {
   "cell_type": "markdown",
   "id": "c5a7b6c0add1abf7",
   "metadata": {},
   "source": [
    "### Assessing the model"
   ]
  },
  {
   "cell_type": "markdown",
   "id": "11eb005b",
   "metadata": {},
   "source": [
    "Now that we have all the variables selected by RFE and since we care about the statistics part, i.e. the p-values and the VIFs, let's use these variables to create a logistic regression model using statsmodels and check the p-values."
   ]
  },
  {
   "cell_type": "code",
   "execution_count": 568,
   "id": "30ce303d",
   "metadata": {},
   "outputs": [
    {
     "data": {
      "text/html": [
       "<table class=\"simpletable\">\n",
       "<caption>Generalized Linear Model Regression Results</caption>\n",
       "<tr>\n",
       "  <th>Dep. Variable:</th>       <td>Converted</td>    <th>  No. Observations:  </th>  <td>  4461</td> \n",
       "</tr>\n",
       "<tr>\n",
       "  <th>Model:</th>                  <td>GLM</td>       <th>  Df Residuals:      </th>  <td>  4445</td> \n",
       "</tr>\n",
       "<tr>\n",
       "  <th>Model Family:</th>        <td>Binomial</td>     <th>  Df Model:          </th>  <td>    15</td> \n",
       "</tr>\n",
       "<tr>\n",
       "  <th>Link Function:</th>         <td>Logit</td>      <th>  Scale:             </th> <td>  1.0000</td>\n",
       "</tr>\n",
       "<tr>\n",
       "  <th>Method:</th>                <td>IRLS</td>       <th>  Log-Likelihood:    </th> <td> -2072.8</td>\n",
       "</tr>\n",
       "<tr>\n",
       "  <th>Date:</th>            <td>Thu, 09 Oct 2025</td> <th>  Deviance:          </th> <td>  4145.5</td>\n",
       "</tr>\n",
       "<tr>\n",
       "  <th>Time:</th>                <td>13:22:45</td>     <th>  Pearson chi2:      </th> <td>4.84e+03</td>\n",
       "</tr>\n",
       "<tr>\n",
       "  <th>No. Iterations:</th>         <td>22</td>        <th>  Pseudo R-squ. (CS):</th>  <td>0.3660</td> \n",
       "</tr>\n",
       "<tr>\n",
       "  <th>Covariance Type:</th>     <td>nonrobust</td>    <th>                     </th>     <td> </td>   \n",
       "</tr>\n",
       "</table>\n",
       "<table class=\"simpletable\">\n",
       "<tr>\n",
       "                            <td></td>                              <th>coef</th>     <th>std err</th>      <th>z</th>      <th>P>|z|</th>  <th>[0.025</th>    <th>0.975]</th>  \n",
       "</tr>\n",
       "<tr>\n",
       "  <th>const</th>                                                <td>   -1.0061</td> <td>    0.600</td> <td>   -1.677</td> <td> 0.094</td> <td>   -2.182</td> <td>    0.170</td>\n",
       "</tr>\n",
       "<tr>\n",
       "  <th>TotalVisits</th>                                          <td>   11.3439</td> <td>    2.682</td> <td>    4.230</td> <td> 0.000</td> <td>    6.088</td> <td>   16.600</td>\n",
       "</tr>\n",
       "<tr>\n",
       "  <th>Total Time Spent on Website</th>                          <td>    4.4312</td> <td>    0.185</td> <td>   23.924</td> <td> 0.000</td> <td>    4.068</td> <td>    4.794</td>\n",
       "</tr>\n",
       "<tr>\n",
       "  <th>Lead Origin_Lead Add Form</th>                            <td>    2.9483</td> <td>    1.191</td> <td>    2.475</td> <td> 0.013</td> <td>    0.614</td> <td>    5.283</td>\n",
       "</tr>\n",
       "<tr>\n",
       "  <th>Lead Source_Olark Chat</th>                               <td>    1.4584</td> <td>    0.122</td> <td>   11.962</td> <td> 0.000</td> <td>    1.219</td> <td>    1.697</td>\n",
       "</tr>\n",
       "<tr>\n",
       "  <th>Lead Source_Reference</th>                                <td>    1.2994</td> <td>    1.214</td> <td>    1.070</td> <td> 0.285</td> <td>   -1.080</td> <td>    3.679</td>\n",
       "</tr>\n",
       "<tr>\n",
       "  <th>Lead Source_Welingak Website</th>                         <td>    3.4159</td> <td>    1.558</td> <td>    2.192</td> <td> 0.028</td> <td>    0.362</td> <td>    6.470</td>\n",
       "</tr>\n",
       "<tr>\n",
       "  <th>Do Not Email_Yes</th>                                     <td>   -1.5053</td> <td>    0.193</td> <td>   -7.781</td> <td> 0.000</td> <td>   -1.884</td> <td>   -1.126</td>\n",
       "</tr>\n",
       "<tr>\n",
       "  <th>Last Activity_Had a Phone Conversation</th>               <td>    1.0397</td> <td>    0.983</td> <td>    1.058</td> <td> 0.290</td> <td>   -0.887</td> <td>    2.966</td>\n",
       "</tr>\n",
       "<tr>\n",
       "  <th>Last Activity_SMS Sent</th>                               <td>    1.1827</td> <td>    0.082</td> <td>   14.362</td> <td> 0.000</td> <td>    1.021</td> <td>    1.344</td>\n",
       "</tr>\n",
       "<tr>\n",
       "  <th>What is your current occupation_Housewife</th>            <td>   22.6492</td> <td> 2.45e+04</td> <td>    0.001</td> <td> 0.999</td> <td> -4.8e+04</td> <td>  4.8e+04</td>\n",
       "</tr>\n",
       "<tr>\n",
       "  <th>What is your current occupation_Student</th>              <td>   -1.1544</td> <td>    0.630</td> <td>   -1.831</td> <td> 0.067</td> <td>   -2.390</td> <td>    0.081</td>\n",
       "</tr>\n",
       "<tr>\n",
       "  <th>What is your current occupation_Unemployed</th>           <td>   -1.3395</td> <td>    0.594</td> <td>   -2.254</td> <td> 0.024</td> <td>   -2.505</td> <td>   -0.175</td>\n",
       "</tr>\n",
       "<tr>\n",
       "  <th>What is your current occupation_Working Professional</th> <td>    1.2743</td> <td>    0.623</td> <td>    2.045</td> <td> 0.041</td> <td>    0.053</td> <td>    2.496</td>\n",
       "</tr>\n",
       "<tr>\n",
       "  <th>Last Notable Activity_Had a Phone Conversation</th>       <td>   23.1932</td> <td> 2.08e+04</td> <td>    0.001</td> <td> 0.999</td> <td>-4.08e+04</td> <td> 4.08e+04</td>\n",
       "</tr>\n",
       "<tr>\n",
       "  <th>Last Notable Activity_Unreachable</th>                    <td>    2.7868</td> <td>    0.807</td> <td>    3.453</td> <td> 0.001</td> <td>    1.205</td> <td>    4.369</td>\n",
       "</tr>\n",
       "</table>"
      ],
      "text/latex": [
       "\\begin{center}\n",
       "\\begin{tabular}{lclc}\n",
       "\\toprule\n",
       "\\textbf{Dep. Variable:}                                        &    Converted     & \\textbf{  No. Observations:  } &     4461    \\\\\n",
       "\\textbf{Model:}                                                &       GLM        & \\textbf{  Df Residuals:      } &     4445    \\\\\n",
       "\\textbf{Model Family:}                                         &     Binomial     & \\textbf{  Df Model:          } &       15    \\\\\n",
       "\\textbf{Link Function:}                                        &      Logit       & \\textbf{  Scale:             } &    1.0000   \\\\\n",
       "\\textbf{Method:}                                               &       IRLS       & \\textbf{  Log-Likelihood:    } &   -2072.8   \\\\\n",
       "\\textbf{Date:}                                                 & Thu, 09 Oct 2025 & \\textbf{  Deviance:          } &    4145.5   \\\\\n",
       "\\textbf{Time:}                                                 &     13:22:45     & \\textbf{  Pearson chi2:      } &  4.84e+03   \\\\\n",
       "\\textbf{No. Iterations:}                                       &        22        & \\textbf{  Pseudo R-squ. (CS):} &   0.3660    \\\\\n",
       "\\textbf{Covariance Type:}                                      &    nonrobust     & \\textbf{                     } &             \\\\\n",
       "\\bottomrule\n",
       "\\end{tabular}\n",
       "\\begin{tabular}{lcccccc}\n",
       "                                                               & \\textbf{coef} & \\textbf{std err} & \\textbf{z} & \\textbf{P$> |$z$|$} & \\textbf{[0.025} & \\textbf{0.975]}  \\\\\n",
       "\\midrule\n",
       "\\textbf{const}                                                 &      -1.0061  &        0.600     &    -1.677  &         0.094        &       -2.182    &        0.170     \\\\\n",
       "\\textbf{TotalVisits}                                           &      11.3439  &        2.682     &     4.230  &         0.000        &        6.088    &       16.600     \\\\\n",
       "\\textbf{Total Time Spent on Website}                           &       4.4312  &        0.185     &    23.924  &         0.000        &        4.068    &        4.794     \\\\\n",
       "\\textbf{Lead Origin\\_Lead Add Form}                            &       2.9483  &        1.191     &     2.475  &         0.013        &        0.614    &        5.283     \\\\\n",
       "\\textbf{Lead Source\\_Olark Chat}                               &       1.4584  &        0.122     &    11.962  &         0.000        &        1.219    &        1.697     \\\\\n",
       "\\textbf{Lead Source\\_Reference}                                &       1.2994  &        1.214     &     1.070  &         0.285        &       -1.080    &        3.679     \\\\\n",
       "\\textbf{Lead Source\\_Welingak Website}                         &       3.4159  &        1.558     &     2.192  &         0.028        &        0.362    &        6.470     \\\\\n",
       "\\textbf{Do Not Email\\_Yes}                                     &      -1.5053  &        0.193     &    -7.781  &         0.000        &       -1.884    &       -1.126     \\\\\n",
       "\\textbf{Last Activity\\_Had a Phone Conversation}               &       1.0397  &        0.983     &     1.058  &         0.290        &       -0.887    &        2.966     \\\\\n",
       "\\textbf{Last Activity\\_SMS Sent}                               &       1.1827  &        0.082     &    14.362  &         0.000        &        1.021    &        1.344     \\\\\n",
       "\\textbf{What is your current occupation\\_Housewife}            &      22.6492  &     2.45e+04     &     0.001  &         0.999        &     -4.8e+04    &      4.8e+04     \\\\\n",
       "\\textbf{What is your current occupation\\_Student}              &      -1.1544  &        0.630     &    -1.831  &         0.067        &       -2.390    &        0.081     \\\\\n",
       "\\textbf{What is your current occupation\\_Unemployed}           &      -1.3395  &        0.594     &    -2.254  &         0.024        &       -2.505    &       -0.175     \\\\\n",
       "\\textbf{What is your current occupation\\_Working Professional} &       1.2743  &        0.623     &     2.045  &         0.041        &        0.053    &        2.496     \\\\\n",
       "\\textbf{Last Notable Activity\\_Had a Phone Conversation}       &      23.1932  &     2.08e+04     &     0.001  &         0.999        &    -4.08e+04    &     4.08e+04     \\\\\n",
       "\\textbf{Last Notable Activity\\_Unreachable}                    &       2.7868  &        0.807     &     3.453  &         0.001        &        1.205    &        4.369     \\\\\n",
       "\\bottomrule\n",
       "\\end{tabular}\n",
       "%\\caption{Generalized Linear Model Regression Results}\n",
       "\\end{center}"
      ],
      "text/plain": [
       "<class 'statsmodels.iolib.summary.Summary'>\n",
       "\"\"\"\n",
       "                 Generalized Linear Model Regression Results                  \n",
       "==============================================================================\n",
       "Dep. Variable:              Converted   No. Observations:                 4461\n",
       "Model:                            GLM   Df Residuals:                     4445\n",
       "Model Family:                Binomial   Df Model:                           15\n",
       "Link Function:                  Logit   Scale:                          1.0000\n",
       "Method:                          IRLS   Log-Likelihood:                -2072.8\n",
       "Date:                Thu, 09 Oct 2025   Deviance:                       4145.5\n",
       "Time:                        13:22:45   Pearson chi2:                 4.84e+03\n",
       "No. Iterations:                    22   Pseudo R-squ. (CS):             0.3660\n",
       "Covariance Type:            nonrobust                                         \n",
       "========================================================================================================================\n",
       "                                                           coef    std err          z      P>|z|      [0.025      0.975]\n",
       "------------------------------------------------------------------------------------------------------------------------\n",
       "const                                                   -1.0061      0.600     -1.677      0.094      -2.182       0.170\n",
       "TotalVisits                                             11.3439      2.682      4.230      0.000       6.088      16.600\n",
       "Total Time Spent on Website                              4.4312      0.185     23.924      0.000       4.068       4.794\n",
       "Lead Origin_Lead Add Form                                2.9483      1.191      2.475      0.013       0.614       5.283\n",
       "Lead Source_Olark Chat                                   1.4584      0.122     11.962      0.000       1.219       1.697\n",
       "Lead Source_Reference                                    1.2994      1.214      1.070      0.285      -1.080       3.679\n",
       "Lead Source_Welingak Website                             3.4159      1.558      2.192      0.028       0.362       6.470\n",
       "Do Not Email_Yes                                        -1.5053      0.193     -7.781      0.000      -1.884      -1.126\n",
       "Last Activity_Had a Phone Conversation                   1.0397      0.983      1.058      0.290      -0.887       2.966\n",
       "Last Activity_SMS Sent                                   1.1827      0.082     14.362      0.000       1.021       1.344\n",
       "What is your current occupation_Housewife               22.6492   2.45e+04      0.001      0.999    -4.8e+04     4.8e+04\n",
       "What is your current occupation_Student                 -1.1544      0.630     -1.831      0.067      -2.390       0.081\n",
       "What is your current occupation_Unemployed              -1.3395      0.594     -2.254      0.024      -2.505      -0.175\n",
       "What is your current occupation_Working Professional     1.2743      0.623      2.045      0.041       0.053       2.496\n",
       "Last Notable Activity_Had a Phone Conversation          23.1932   2.08e+04      0.001      0.999   -4.08e+04    4.08e+04\n",
       "Last Notable Activity_Unreachable                        2.7868      0.807      3.453      0.001       1.205       4.369\n",
       "========================================================================================================================\n",
       "\"\"\""
      ]
     },
     "execution_count": 568,
     "metadata": {},
     "output_type": "execute_result"
    }
   ],
   "source": [
    "X_train_sm = sm.add_constant(X_train)\n",
    "logm1 = sm.GLM(y_train, X_train_sm, family = sm.families.Binomial())\n",
    "result = logm1.fit()\n",
    "result.summary() "
   ]
  },
  {
   "cell_type": "markdown",
   "id": "0c0e0e65",
   "metadata": {},
   "source": [
    "There are few values with p-values greater than 0.05, we need to take care of them. But, first let's check the VIFs."
   ]
  },
  {
   "cell_type": "code",
   "execution_count": 569,
   "id": "05d954b7",
   "metadata": {},
   "outputs": [
    {
     "name": "stdout",
     "output_type": "stream",
     "text": [
      "                                             Features    VIF\n",
      "2                           Lead Origin_Lead Add Form  84.19\n",
      "4                               Lead Source_Reference  65.18\n",
      "5                        Lead Source_Welingak Website  20.03\n",
      "11         What is your current occupation_Unemployed   3.65\n",
      "7              Last Activity_Had a Phone Conversation   2.44\n",
      "13     Last Notable Activity_Had a Phone Conversation   2.43\n",
      "1                         Total Time Spent on Website   2.38\n",
      "0                                         TotalVisits   1.62\n",
      "8                              Last Activity_SMS Sent   1.59\n",
      "12  What is your current occupation_Working Profes...   1.56\n",
      "3                              Lead Source_Olark Chat   1.44\n",
      "6                                    Do Not Email_Yes   1.09\n",
      "10            What is your current occupation_Student   1.09\n",
      "9           What is your current occupation_Housewife   1.01\n",
      "14                  Last Notable Activity_Unreachable   1.01\n"
     ]
    }
   ],
   "source": [
    "# Calculating VIF\n",
    "vif = pd.DataFrame()\n",
    "vif['Features'] = X_train.columns\n",
    "vif['VIF'] = [variance_inflation_factor(X_train.values, i) for i in range(X_train.shape[1])]\n",
    "vif['VIF'] = round(vif['VIF'], 2)\n",
    "vif = vif.sort_values(by=\"VIF\", ascending=False)\n",
    "\n",
    "# Display VIF\n",
    "print(vif)"
   ]
  },
  {
   "cell_type": "markdown",
   "id": "b84fe5c7",
   "metadata": {},
   "source": [
    "'Lead Source_Reference' has a very high vif as well as p-values, thus we will drop this column."
   ]
  },
  {
   "cell_type": "code",
   "execution_count": 570,
   "id": "17ead4f9",
   "metadata": {},
   "outputs": [],
   "source": [
    "X_train.drop('Lead Source_Reference', axis=1, inplace=True)"
   ]
  },
  {
   "cell_type": "markdown",
   "id": "f9a313b4",
   "metadata": {},
   "source": [
    "Let's again check for the p-values and vif."
   ]
  },
  {
   "cell_type": "code",
   "execution_count": 571,
   "id": "150df479",
   "metadata": {},
   "outputs": [
    {
     "data": {
      "text/html": [
       "<table class=\"simpletable\">\n",
       "<caption>Generalized Linear Model Regression Results</caption>\n",
       "<tr>\n",
       "  <th>Dep. Variable:</th>       <td>Converted</td>    <th>  No. Observations:  </th>  <td>  4461</td> \n",
       "</tr>\n",
       "<tr>\n",
       "  <th>Model:</th>                  <td>GLM</td>       <th>  Df Residuals:      </th>  <td>  4446</td> \n",
       "</tr>\n",
       "<tr>\n",
       "  <th>Model Family:</th>        <td>Binomial</td>     <th>  Df Model:          </th>  <td>    14</td> \n",
       "</tr>\n",
       "<tr>\n",
       "  <th>Link Function:</th>         <td>Logit</td>      <th>  Scale:             </th> <td>  1.0000</td>\n",
       "</tr>\n",
       "<tr>\n",
       "  <th>Method:</th>                <td>IRLS</td>       <th>  Log-Likelihood:    </th> <td> -2073.2</td>\n",
       "</tr>\n",
       "<tr>\n",
       "  <th>Date:</th>            <td>Thu, 09 Oct 2025</td> <th>  Deviance:          </th> <td>  4146.5</td>\n",
       "</tr>\n",
       "<tr>\n",
       "  <th>Time:</th>                <td>13:22:46</td>     <th>  Pearson chi2:      </th> <td>4.82e+03</td>\n",
       "</tr>\n",
       "<tr>\n",
       "  <th>No. Iterations:</th>         <td>22</td>        <th>  Pseudo R-squ. (CS):</th>  <td>0.3658</td> \n",
       "</tr>\n",
       "<tr>\n",
       "  <th>Covariance Type:</th>     <td>nonrobust</td>    <th>                     </th>     <td> </td>   \n",
       "</tr>\n",
       "</table>\n",
       "<table class=\"simpletable\">\n",
       "<tr>\n",
       "                            <td></td>                              <th>coef</th>     <th>std err</th>      <th>z</th>      <th>P>|z|</th>  <th>[0.025</th>    <th>0.975]</th>  \n",
       "</tr>\n",
       "<tr>\n",
       "  <th>const</th>                                                <td>   -1.0057</td> <td>    0.600</td> <td>   -1.677</td> <td> 0.094</td> <td>   -2.181</td> <td>    0.170</td>\n",
       "</tr>\n",
       "<tr>\n",
       "  <th>TotalVisits</th>                                          <td>   11.3428</td> <td>    2.682</td> <td>    4.229</td> <td> 0.000</td> <td>    6.086</td> <td>   16.599</td>\n",
       "</tr>\n",
       "<tr>\n",
       "  <th>Total Time Spent on Website</th>                          <td>    4.4312</td> <td>    0.185</td> <td>   23.924</td> <td> 0.000</td> <td>    4.068</td> <td>    4.794</td>\n",
       "</tr>\n",
       "<tr>\n",
       "  <th>Lead Origin_Lead Add Form</th>                            <td>    4.2084</td> <td>    0.259</td> <td>   16.277</td> <td> 0.000</td> <td>    3.702</td> <td>    4.715</td>\n",
       "</tr>\n",
       "<tr>\n",
       "  <th>Lead Source_Olark Chat</th>                               <td>    1.4583</td> <td>    0.122</td> <td>   11.960</td> <td> 0.000</td> <td>    1.219</td> <td>    1.697</td>\n",
       "</tr>\n",
       "<tr>\n",
       "  <th>Lead Source_Welingak Website</th>                         <td>    2.1557</td> <td>    1.037</td> <td>    2.079</td> <td> 0.038</td> <td>    0.124</td> <td>    4.188</td>\n",
       "</tr>\n",
       "<tr>\n",
       "  <th>Do Not Email_Yes</th>                                     <td>   -1.5036</td> <td>    0.193</td> <td>   -7.779</td> <td> 0.000</td> <td>   -1.882</td> <td>   -1.125</td>\n",
       "</tr>\n",
       "<tr>\n",
       "  <th>Last Activity_Had a Phone Conversation</th>               <td>    1.0398</td> <td>    0.983</td> <td>    1.058</td> <td> 0.290</td> <td>   -0.887</td> <td>    2.966</td>\n",
       "</tr>\n",
       "<tr>\n",
       "  <th>Last Activity_SMS Sent</th>                               <td>    1.1827</td> <td>    0.082</td> <td>   14.362</td> <td> 0.000</td> <td>    1.021</td> <td>    1.344</td>\n",
       "</tr>\n",
       "<tr>\n",
       "  <th>What is your current occupation_Housewife</th>            <td>   22.6511</td> <td> 2.45e+04</td> <td>    0.001</td> <td> 0.999</td> <td> -4.8e+04</td> <td>  4.8e+04</td>\n",
       "</tr>\n",
       "<tr>\n",
       "  <th>What is your current occupation_Student</th>              <td>   -1.1537</td> <td>    0.630</td> <td>   -1.830</td> <td> 0.067</td> <td>   -2.389</td> <td>    0.082</td>\n",
       "</tr>\n",
       "<tr>\n",
       "  <th>What is your current occupation_Unemployed</th>           <td>   -1.3401</td> <td>    0.594</td> <td>   -2.255</td> <td> 0.024</td> <td>   -2.505</td> <td>   -0.175</td>\n",
       "</tr>\n",
       "<tr>\n",
       "  <th>What is your current occupation_Working Professional</th> <td>    1.2748</td> <td>    0.623</td> <td>    2.046</td> <td> 0.041</td> <td>    0.053</td> <td>    2.496</td>\n",
       "</tr>\n",
       "<tr>\n",
       "  <th>Last Notable Activity_Had a Phone Conversation</th>       <td>   23.1934</td> <td> 2.08e+04</td> <td>    0.001</td> <td> 0.999</td> <td>-4.08e+04</td> <td> 4.08e+04</td>\n",
       "</tr>\n",
       "<tr>\n",
       "  <th>Last Notable Activity_Unreachable</th>                    <td>    2.7872</td> <td>    0.807</td> <td>    3.454</td> <td> 0.001</td> <td>    1.205</td> <td>    4.369</td>\n",
       "</tr>\n",
       "</table>"
      ],
      "text/latex": [
       "\\begin{center}\n",
       "\\begin{tabular}{lclc}\n",
       "\\toprule\n",
       "\\textbf{Dep. Variable:}                                        &    Converted     & \\textbf{  No. Observations:  } &     4461    \\\\\n",
       "\\textbf{Model:}                                                &       GLM        & \\textbf{  Df Residuals:      } &     4446    \\\\\n",
       "\\textbf{Model Family:}                                         &     Binomial     & \\textbf{  Df Model:          } &       14    \\\\\n",
       "\\textbf{Link Function:}                                        &      Logit       & \\textbf{  Scale:             } &    1.0000   \\\\\n",
       "\\textbf{Method:}                                               &       IRLS       & \\textbf{  Log-Likelihood:    } &   -2073.2   \\\\\n",
       "\\textbf{Date:}                                                 & Thu, 09 Oct 2025 & \\textbf{  Deviance:          } &    4146.5   \\\\\n",
       "\\textbf{Time:}                                                 &     13:22:46     & \\textbf{  Pearson chi2:      } &  4.82e+03   \\\\\n",
       "\\textbf{No. Iterations:}                                       &        22        & \\textbf{  Pseudo R-squ. (CS):} &   0.3658    \\\\\n",
       "\\textbf{Covariance Type:}                                      &    nonrobust     & \\textbf{                     } &             \\\\\n",
       "\\bottomrule\n",
       "\\end{tabular}\n",
       "\\begin{tabular}{lcccccc}\n",
       "                                                               & \\textbf{coef} & \\textbf{std err} & \\textbf{z} & \\textbf{P$> |$z$|$} & \\textbf{[0.025} & \\textbf{0.975]}  \\\\\n",
       "\\midrule\n",
       "\\textbf{const}                                                 &      -1.0057  &        0.600     &    -1.677  &         0.094        &       -2.181    &        0.170     \\\\\n",
       "\\textbf{TotalVisits}                                           &      11.3428  &        2.682     &     4.229  &         0.000        &        6.086    &       16.599     \\\\\n",
       "\\textbf{Total Time Spent on Website}                           &       4.4312  &        0.185     &    23.924  &         0.000        &        4.068    &        4.794     \\\\\n",
       "\\textbf{Lead Origin\\_Lead Add Form}                            &       4.2084  &        0.259     &    16.277  &         0.000        &        3.702    &        4.715     \\\\\n",
       "\\textbf{Lead Source\\_Olark Chat}                               &       1.4583  &        0.122     &    11.960  &         0.000        &        1.219    &        1.697     \\\\\n",
       "\\textbf{Lead Source\\_Welingak Website}                         &       2.1557  &        1.037     &     2.079  &         0.038        &        0.124    &        4.188     \\\\\n",
       "\\textbf{Do Not Email\\_Yes}                                     &      -1.5036  &        0.193     &    -7.779  &         0.000        &       -1.882    &       -1.125     \\\\\n",
       "\\textbf{Last Activity\\_Had a Phone Conversation}               &       1.0398  &        0.983     &     1.058  &         0.290        &       -0.887    &        2.966     \\\\\n",
       "\\textbf{Last Activity\\_SMS Sent}                               &       1.1827  &        0.082     &    14.362  &         0.000        &        1.021    &        1.344     \\\\\n",
       "\\textbf{What is your current occupation\\_Housewife}            &      22.6511  &     2.45e+04     &     0.001  &         0.999        &     -4.8e+04    &      4.8e+04     \\\\\n",
       "\\textbf{What is your current occupation\\_Student}              &      -1.1537  &        0.630     &    -1.830  &         0.067        &       -2.389    &        0.082     \\\\\n",
       "\\textbf{What is your current occupation\\_Unemployed}           &      -1.3401  &        0.594     &    -2.255  &         0.024        &       -2.505    &       -0.175     \\\\\n",
       "\\textbf{What is your current occupation\\_Working Professional} &       1.2748  &        0.623     &     2.046  &         0.041        &        0.053    &        2.496     \\\\\n",
       "\\textbf{Last Notable Activity\\_Had a Phone Conversation}       &      23.1934  &     2.08e+04     &     0.001  &         0.999        &    -4.08e+04    &     4.08e+04     \\\\\n",
       "\\textbf{Last Notable Activity\\_Unreachable}                    &       2.7872  &        0.807     &     3.454  &         0.001        &        1.205    &        4.369     \\\\\n",
       "\\bottomrule\n",
       "\\end{tabular}\n",
       "%\\caption{Generalized Linear Model Regression Results}\n",
       "\\end{center}"
      ],
      "text/plain": [
       "<class 'statsmodels.iolib.summary.Summary'>\n",
       "\"\"\"\n",
       "                 Generalized Linear Model Regression Results                  \n",
       "==============================================================================\n",
       "Dep. Variable:              Converted   No. Observations:                 4461\n",
       "Model:                            GLM   Df Residuals:                     4446\n",
       "Model Family:                Binomial   Df Model:                           14\n",
       "Link Function:                  Logit   Scale:                          1.0000\n",
       "Method:                          IRLS   Log-Likelihood:                -2073.2\n",
       "Date:                Thu, 09 Oct 2025   Deviance:                       4146.5\n",
       "Time:                        13:22:46   Pearson chi2:                 4.82e+03\n",
       "No. Iterations:                    22   Pseudo R-squ. (CS):             0.3658\n",
       "Covariance Type:            nonrobust                                         \n",
       "========================================================================================================================\n",
       "                                                           coef    std err          z      P>|z|      [0.025      0.975]\n",
       "------------------------------------------------------------------------------------------------------------------------\n",
       "const                                                   -1.0057      0.600     -1.677      0.094      -2.181       0.170\n",
       "TotalVisits                                             11.3428      2.682      4.229      0.000       6.086      16.599\n",
       "Total Time Spent on Website                              4.4312      0.185     23.924      0.000       4.068       4.794\n",
       "Lead Origin_Lead Add Form                                4.2084      0.259     16.277      0.000       3.702       4.715\n",
       "Lead Source_Olark Chat                                   1.4583      0.122     11.960      0.000       1.219       1.697\n",
       "Lead Source_Welingak Website                             2.1557      1.037      2.079      0.038       0.124       4.188\n",
       "Do Not Email_Yes                                        -1.5036      0.193     -7.779      0.000      -1.882      -1.125\n",
       "Last Activity_Had a Phone Conversation                   1.0398      0.983      1.058      0.290      -0.887       2.966\n",
       "Last Activity_SMS Sent                                   1.1827      0.082     14.362      0.000       1.021       1.344\n",
       "What is your current occupation_Housewife               22.6511   2.45e+04      0.001      0.999    -4.8e+04     4.8e+04\n",
       "What is your current occupation_Student                 -1.1537      0.630     -1.830      0.067      -2.389       0.082\n",
       "What is your current occupation_Unemployed              -1.3401      0.594     -2.255      0.024      -2.505      -0.175\n",
       "What is your current occupation_Working Professional     1.2748      0.623      2.046      0.041       0.053       2.496\n",
       "Last Notable Activity_Had a Phone Conversation          23.1934   2.08e+04      0.001      0.999   -4.08e+04    4.08e+04\n",
       "Last Notable Activity_Unreachable                        2.7872      0.807      3.454      0.001       1.205       4.369\n",
       "========================================================================================================================\n",
       "\"\"\""
      ]
     },
     "execution_count": 571,
     "metadata": {},
     "output_type": "execute_result"
    }
   ],
   "source": [
    "# Building model and checking p-values\n",
    "X_train_sm = sm.add_constant(X_train)\n",
    "logm2 = sm.GLM(y_train, X_train_sm, family = sm.families.Binomial())\n",
    "result = logm2.fit()\n",
    "result.summary() "
   ]
  },
  {
   "cell_type": "code",
   "execution_count": 572,
   "id": "edbf94c0",
   "metadata": {},
   "outputs": [
    {
     "name": "stdout",
     "output_type": "stream",
     "text": [
      "                                             Features   VIF\n",
      "10         What is your current occupation_Unemployed  3.65\n",
      "6              Last Activity_Had a Phone Conversation  2.44\n",
      "12     Last Notable Activity_Had a Phone Conversation  2.43\n",
      "1                         Total Time Spent on Website  2.38\n",
      "2                           Lead Origin_Lead Add Form  1.71\n",
      "0                                         TotalVisits  1.62\n",
      "7                              Last Activity_SMS Sent  1.59\n",
      "11  What is your current occupation_Working Profes...  1.56\n",
      "3                              Lead Source_Olark Chat  1.44\n",
      "4                        Lead Source_Welingak Website  1.33\n",
      "5                                    Do Not Email_Yes  1.09\n",
      "9             What is your current occupation_Student  1.09\n",
      "8           What is your current occupation_Housewife  1.01\n",
      "13                  Last Notable Activity_Unreachable  1.01\n"
     ]
    }
   ],
   "source": [
    "# Checking VIFs\n",
    "vif = pd.DataFrame()\n",
    "vif['Features'] = X_train.columns\n",
    "vif['VIF'] = [variance_inflation_factor(X_train.values, i) for i in range(X_train.shape[1])]\n",
    "vif['VIF'] = round(vif['VIF'], 2)\n",
    "vif = vif.sort_values(by=\"VIF\", ascending=False)\n",
    "\n",
    "# Display VIF\n",
    "print(vif)"
   ]
  },
  {
   "cell_type": "markdown",
   "id": "e4074bce",
   "metadata": {},
   "source": [
    "Now, we have every column with less than 5 VIF, but still few have p-value greater than 0.05. We need to drop them."
   ]
  },
  {
   "cell_type": "markdown",
   "id": "34688a1a",
   "metadata": {},
   "source": [
    "First, de will drop 'Last Notable Activity_Had a Phone Conversation'."
   ]
  },
  {
   "cell_type": "code",
   "execution_count": 573,
   "id": "58fb1628",
   "metadata": {},
   "outputs": [],
   "source": [
    "X_train.drop('Last Notable Activity_Had a Phone Conversation', axis=1, inplace=True)"
   ]
  },
  {
   "cell_type": "markdown",
   "id": "dd054d8b",
   "metadata": {},
   "source": [
    "Let's again check the p-values"
   ]
  },
  {
   "cell_type": "code",
   "execution_count": 574,
   "id": "689dfcae",
   "metadata": {},
   "outputs": [
    {
     "data": {
      "text/html": [
       "<table class=\"simpletable\">\n",
       "<caption>Generalized Linear Model Regression Results</caption>\n",
       "<tr>\n",
       "  <th>Dep. Variable:</th>       <td>Converted</td>    <th>  No. Observations:  </th>  <td>  4461</td> \n",
       "</tr>\n",
       "<tr>\n",
       "  <th>Model:</th>                  <td>GLM</td>       <th>  Df Residuals:      </th>  <td>  4447</td> \n",
       "</tr>\n",
       "<tr>\n",
       "  <th>Model Family:</th>        <td>Binomial</td>     <th>  Df Model:          </th>  <td>    13</td> \n",
       "</tr>\n",
       "<tr>\n",
       "  <th>Link Function:</th>         <td>Logit</td>      <th>  Scale:             </th> <td>  1.0000</td>\n",
       "</tr>\n",
       "<tr>\n",
       "  <th>Method:</th>                <td>IRLS</td>       <th>  Log-Likelihood:    </th> <td> -2076.1</td>\n",
       "</tr>\n",
       "<tr>\n",
       "  <th>Date:</th>            <td>Thu, 09 Oct 2025</td> <th>  Deviance:          </th> <td>  4152.2</td>\n",
       "</tr>\n",
       "<tr>\n",
       "  <th>Time:</th>                <td>13:22:46</td>     <th>  Pearson chi2:      </th> <td>4.82e+03</td>\n",
       "</tr>\n",
       "<tr>\n",
       "  <th>No. Iterations:</th>         <td>21</td>        <th>  Pseudo R-squ. (CS):</th>  <td>0.3650</td> \n",
       "</tr>\n",
       "<tr>\n",
       "  <th>Covariance Type:</th>     <td>nonrobust</td>    <th>                     </th>     <td> </td>   \n",
       "</tr>\n",
       "</table>\n",
       "<table class=\"simpletable\">\n",
       "<tr>\n",
       "                            <td></td>                              <th>coef</th>     <th>std err</th>      <th>z</th>      <th>P>|z|</th>  <th>[0.025</th>    <th>0.975]</th>  \n",
       "</tr>\n",
       "<tr>\n",
       "  <th>const</th>                                                <td>   -1.0069</td> <td>    0.600</td> <td>   -1.679</td> <td> 0.093</td> <td>   -2.182</td> <td>    0.168</td>\n",
       "</tr>\n",
       "<tr>\n",
       "  <th>TotalVisits</th>                                          <td>   11.4551</td> <td>    2.686</td> <td>    4.265</td> <td> 0.000</td> <td>    6.191</td> <td>   16.720</td>\n",
       "</tr>\n",
       "<tr>\n",
       "  <th>Total Time Spent on Website</th>                          <td>    4.4237</td> <td>    0.185</td> <td>   23.900</td> <td> 0.000</td> <td>    4.061</td> <td>    4.787</td>\n",
       "</tr>\n",
       "<tr>\n",
       "  <th>Lead Origin_Lead Add Form</th>                            <td>    4.2082</td> <td>    0.259</td> <td>   16.276</td> <td> 0.000</td> <td>    3.701</td> <td>    4.715</td>\n",
       "</tr>\n",
       "<tr>\n",
       "  <th>Lead Source_Olark Chat</th>                               <td>    1.4581</td> <td>    0.122</td> <td>   11.958</td> <td> 0.000</td> <td>    1.219</td> <td>    1.697</td>\n",
       "</tr>\n",
       "<tr>\n",
       "  <th>Lead Source_Welingak Website</th>                         <td>    2.1557</td> <td>    1.037</td> <td>    2.079</td> <td> 0.038</td> <td>    0.124</td> <td>    4.188</td>\n",
       "</tr>\n",
       "<tr>\n",
       "  <th>Do Not Email_Yes</th>                                     <td>   -1.5037</td> <td>    0.193</td> <td>   -7.780</td> <td> 0.000</td> <td>   -1.882</td> <td>   -1.125</td>\n",
       "</tr>\n",
       "<tr>\n",
       "  <th>Last Activity_Had a Phone Conversation</th>               <td>    2.7502</td> <td>    0.802</td> <td>    3.430</td> <td> 0.001</td> <td>    1.179</td> <td>    4.322</td>\n",
       "</tr>\n",
       "<tr>\n",
       "  <th>Last Activity_SMS Sent</th>                               <td>    1.1826</td> <td>    0.082</td> <td>   14.364</td> <td> 0.000</td> <td>    1.021</td> <td>    1.344</td>\n",
       "</tr>\n",
       "<tr>\n",
       "  <th>What is your current occupation_Housewife</th>            <td>   21.6525</td> <td> 1.49e+04</td> <td>    0.001</td> <td> 0.999</td> <td>-2.91e+04</td> <td> 2.91e+04</td>\n",
       "</tr>\n",
       "<tr>\n",
       "  <th>What is your current occupation_Student</th>              <td>   -1.1520</td> <td>    0.630</td> <td>   -1.828</td> <td> 0.068</td> <td>   -2.387</td> <td>    0.083</td>\n",
       "</tr>\n",
       "<tr>\n",
       "  <th>What is your current occupation_Unemployed</th>           <td>   -1.3385</td> <td>    0.594</td> <td>   -2.253</td> <td> 0.024</td> <td>   -2.503</td> <td>   -0.174</td>\n",
       "</tr>\n",
       "<tr>\n",
       "  <th>What is your current occupation_Working Professional</th> <td>    1.2743</td> <td>    0.623</td> <td>    2.045</td> <td> 0.041</td> <td>    0.053</td> <td>    2.495</td>\n",
       "</tr>\n",
       "<tr>\n",
       "  <th>Last Notable Activity_Unreachable</th>                    <td>    2.7862</td> <td>    0.807</td> <td>    3.453</td> <td> 0.001</td> <td>    1.205</td> <td>    4.368</td>\n",
       "</tr>\n",
       "</table>"
      ],
      "text/latex": [
       "\\begin{center}\n",
       "\\begin{tabular}{lclc}\n",
       "\\toprule\n",
       "\\textbf{Dep. Variable:}                                        &    Converted     & \\textbf{  No. Observations:  } &     4461    \\\\\n",
       "\\textbf{Model:}                                                &       GLM        & \\textbf{  Df Residuals:      } &     4447    \\\\\n",
       "\\textbf{Model Family:}                                         &     Binomial     & \\textbf{  Df Model:          } &       13    \\\\\n",
       "\\textbf{Link Function:}                                        &      Logit       & \\textbf{  Scale:             } &    1.0000   \\\\\n",
       "\\textbf{Method:}                                               &       IRLS       & \\textbf{  Log-Likelihood:    } &   -2076.1   \\\\\n",
       "\\textbf{Date:}                                                 & Thu, 09 Oct 2025 & \\textbf{  Deviance:          } &    4152.2   \\\\\n",
       "\\textbf{Time:}                                                 &     13:22:46     & \\textbf{  Pearson chi2:      } &  4.82e+03   \\\\\n",
       "\\textbf{No. Iterations:}                                       &        21        & \\textbf{  Pseudo R-squ. (CS):} &   0.3650    \\\\\n",
       "\\textbf{Covariance Type:}                                      &    nonrobust     & \\textbf{                     } &             \\\\\n",
       "\\bottomrule\n",
       "\\end{tabular}\n",
       "\\begin{tabular}{lcccccc}\n",
       "                                                               & \\textbf{coef} & \\textbf{std err} & \\textbf{z} & \\textbf{P$> |$z$|$} & \\textbf{[0.025} & \\textbf{0.975]}  \\\\\n",
       "\\midrule\n",
       "\\textbf{const}                                                 &      -1.0069  &        0.600     &    -1.679  &         0.093        &       -2.182    &        0.168     \\\\\n",
       "\\textbf{TotalVisits}                                           &      11.4551  &        2.686     &     4.265  &         0.000        &        6.191    &       16.720     \\\\\n",
       "\\textbf{Total Time Spent on Website}                           &       4.4237  &        0.185     &    23.900  &         0.000        &        4.061    &        4.787     \\\\\n",
       "\\textbf{Lead Origin\\_Lead Add Form}                            &       4.2082  &        0.259     &    16.276  &         0.000        &        3.701    &        4.715     \\\\\n",
       "\\textbf{Lead Source\\_Olark Chat}                               &       1.4581  &        0.122     &    11.958  &         0.000        &        1.219    &        1.697     \\\\\n",
       "\\textbf{Lead Source\\_Welingak Website}                         &       2.1557  &        1.037     &     2.079  &         0.038        &        0.124    &        4.188     \\\\\n",
       "\\textbf{Do Not Email\\_Yes}                                     &      -1.5037  &        0.193     &    -7.780  &         0.000        &       -1.882    &       -1.125     \\\\\n",
       "\\textbf{Last Activity\\_Had a Phone Conversation}               &       2.7502  &        0.802     &     3.430  &         0.001        &        1.179    &        4.322     \\\\\n",
       "\\textbf{Last Activity\\_SMS Sent}                               &       1.1826  &        0.082     &    14.364  &         0.000        &        1.021    &        1.344     \\\\\n",
       "\\textbf{What is your current occupation\\_Housewife}            &      21.6525  &     1.49e+04     &     0.001  &         0.999        &    -2.91e+04    &     2.91e+04     \\\\\n",
       "\\textbf{What is your current occupation\\_Student}              &      -1.1520  &        0.630     &    -1.828  &         0.068        &       -2.387    &        0.083     \\\\\n",
       "\\textbf{What is your current occupation\\_Unemployed}           &      -1.3385  &        0.594     &    -2.253  &         0.024        &       -2.503    &       -0.174     \\\\\n",
       "\\textbf{What is your current occupation\\_Working Professional} &       1.2743  &        0.623     &     2.045  &         0.041        &        0.053    &        2.495     \\\\\n",
       "\\textbf{Last Notable Activity\\_Unreachable}                    &       2.7862  &        0.807     &     3.453  &         0.001        &        1.205    &        4.368     \\\\\n",
       "\\bottomrule\n",
       "\\end{tabular}\n",
       "%\\caption{Generalized Linear Model Regression Results}\n",
       "\\end{center}"
      ],
      "text/plain": [
       "<class 'statsmodels.iolib.summary.Summary'>\n",
       "\"\"\"\n",
       "                 Generalized Linear Model Regression Results                  \n",
       "==============================================================================\n",
       "Dep. Variable:              Converted   No. Observations:                 4461\n",
       "Model:                            GLM   Df Residuals:                     4447\n",
       "Model Family:                Binomial   Df Model:                           13\n",
       "Link Function:                  Logit   Scale:                          1.0000\n",
       "Method:                          IRLS   Log-Likelihood:                -2076.1\n",
       "Date:                Thu, 09 Oct 2025   Deviance:                       4152.2\n",
       "Time:                        13:22:46   Pearson chi2:                 4.82e+03\n",
       "No. Iterations:                    21   Pseudo R-squ. (CS):             0.3650\n",
       "Covariance Type:            nonrobust                                         \n",
       "========================================================================================================================\n",
       "                                                           coef    std err          z      P>|z|      [0.025      0.975]\n",
       "------------------------------------------------------------------------------------------------------------------------\n",
       "const                                                   -1.0069      0.600     -1.679      0.093      -2.182       0.168\n",
       "TotalVisits                                             11.4551      2.686      4.265      0.000       6.191      16.720\n",
       "Total Time Spent on Website                              4.4237      0.185     23.900      0.000       4.061       4.787\n",
       "Lead Origin_Lead Add Form                                4.2082      0.259     16.276      0.000       3.701       4.715\n",
       "Lead Source_Olark Chat                                   1.4581      0.122     11.958      0.000       1.219       1.697\n",
       "Lead Source_Welingak Website                             2.1557      1.037      2.079      0.038       0.124       4.188\n",
       "Do Not Email_Yes                                        -1.5037      0.193     -7.780      0.000      -1.882      -1.125\n",
       "Last Activity_Had a Phone Conversation                   2.7502      0.802      3.430      0.001       1.179       4.322\n",
       "Last Activity_SMS Sent                                   1.1826      0.082     14.364      0.000       1.021       1.344\n",
       "What is your current occupation_Housewife               21.6525   1.49e+04      0.001      0.999   -2.91e+04    2.91e+04\n",
       "What is your current occupation_Student                 -1.1520      0.630     -1.828      0.068      -2.387       0.083\n",
       "What is your current occupation_Unemployed              -1.3385      0.594     -2.253      0.024      -2.503      -0.174\n",
       "What is your current occupation_Working Professional     1.2743      0.623      2.045      0.041       0.053       2.495\n",
       "Last Notable Activity_Unreachable                        2.7862      0.807      3.453      0.001       1.205       4.368\n",
       "========================================================================================================================\n",
       "\"\"\""
      ]
     },
     "execution_count": 574,
     "metadata": {},
     "output_type": "execute_result"
    }
   ],
   "source": [
    "# Building model and checking p-values\n",
    "X_train_sm = sm.add_constant(X_train)\n",
    "logm3 = sm.GLM(y_train, X_train_sm, family = sm.families.Binomial())\n",
    "result = logm3.fit()\n",
    "result.summary() "
   ]
  },
  {
   "cell_type": "code",
   "execution_count": 575,
   "id": "7f153538",
   "metadata": {},
   "outputs": [],
   "source": [
    "# Dropping 'What is your current occupation_Housewife'\n",
    "X_train.drop('What is your current occupation_Housewife', axis=1, inplace=True)"
   ]
  },
  {
   "cell_type": "code",
   "execution_count": 576,
   "id": "daa3cafb",
   "metadata": {},
   "outputs": [
    {
     "data": {
      "text/html": [
       "<table class=\"simpletable\">\n",
       "<caption>Generalized Linear Model Regression Results</caption>\n",
       "<tr>\n",
       "  <th>Dep. Variable:</th>       <td>Converted</td>    <th>  No. Observations:  </th>  <td>  4461</td> \n",
       "</tr>\n",
       "<tr>\n",
       "  <th>Model:</th>                  <td>GLM</td>       <th>  Df Residuals:      </th>  <td>  4448</td> \n",
       "</tr>\n",
       "<tr>\n",
       "  <th>Model Family:</th>        <td>Binomial</td>     <th>  Df Model:          </th>  <td>    12</td> \n",
       "</tr>\n",
       "<tr>\n",
       "  <th>Link Function:</th>         <td>Logit</td>      <th>  Scale:             </th> <td>  1.0000</td>\n",
       "</tr>\n",
       "<tr>\n",
       "  <th>Method:</th>                <td>IRLS</td>       <th>  Log-Likelihood:    </th> <td> -2078.3</td>\n",
       "</tr>\n",
       "<tr>\n",
       "  <th>Date:</th>            <td>Thu, 09 Oct 2025</td> <th>  Deviance:          </th> <td>  4156.7</td>\n",
       "</tr>\n",
       "<tr>\n",
       "  <th>Time:</th>                <td>13:22:46</td>     <th>  Pearson chi2:      </th> <td>4.83e+03</td>\n",
       "</tr>\n",
       "<tr>\n",
       "  <th>No. Iterations:</th>          <td>7</td>        <th>  Pseudo R-squ. (CS):</th>  <td>0.3644</td> \n",
       "</tr>\n",
       "<tr>\n",
       "  <th>Covariance Type:</th>     <td>nonrobust</td>    <th>                     </th>     <td> </td>   \n",
       "</tr>\n",
       "</table>\n",
       "<table class=\"simpletable\">\n",
       "<tr>\n",
       "                            <td></td>                              <th>coef</th>     <th>std err</th>      <th>z</th>      <th>P>|z|</th>  <th>[0.025</th>    <th>0.975]</th>  \n",
       "</tr>\n",
       "<tr>\n",
       "  <th>const</th>                                                <td>   -0.4528</td> <td>    0.554</td> <td>   -0.818</td> <td> 0.413</td> <td>   -1.538</td> <td>    0.632</td>\n",
       "</tr>\n",
       "<tr>\n",
       "  <th>TotalVisits</th>                                          <td>   11.2586</td> <td>    2.672</td> <td>    4.214</td> <td> 0.000</td> <td>    6.023</td> <td>   16.495</td>\n",
       "</tr>\n",
       "<tr>\n",
       "  <th>Total Time Spent on Website</th>                          <td>    4.4217</td> <td>    0.185</td> <td>   23.898</td> <td> 0.000</td> <td>    4.059</td> <td>    4.784</td>\n",
       "</tr>\n",
       "<tr>\n",
       "  <th>Lead Origin_Lead Add Form</th>                            <td>    4.2057</td> <td>    0.258</td> <td>   16.274</td> <td> 0.000</td> <td>    3.699</td> <td>    4.712</td>\n",
       "</tr>\n",
       "<tr>\n",
       "  <th>Lead Source_Olark Chat</th>                               <td>    1.4530</td> <td>    0.122</td> <td>   11.930</td> <td> 0.000</td> <td>    1.214</td> <td>    1.692</td>\n",
       "</tr>\n",
       "<tr>\n",
       "  <th>Lead Source_Welingak Website</th>                         <td>    2.1541</td> <td>    1.037</td> <td>    2.078</td> <td> 0.038</td> <td>    0.122</td> <td>    4.186</td>\n",
       "</tr>\n",
       "<tr>\n",
       "  <th>Do Not Email_Yes</th>                                     <td>   -1.5063</td> <td>    0.193</td> <td>   -7.785</td> <td> 0.000</td> <td>   -1.886</td> <td>   -1.127</td>\n",
       "</tr>\n",
       "<tr>\n",
       "  <th>Last Activity_Had a Phone Conversation</th>               <td>    2.7515</td> <td>    0.802</td> <td>    3.432</td> <td> 0.001</td> <td>    1.180</td> <td>    4.323</td>\n",
       "</tr>\n",
       "<tr>\n",
       "  <th>Last Activity_SMS Sent</th>                               <td>    1.1823</td> <td>    0.082</td> <td>   14.362</td> <td> 0.000</td> <td>    1.021</td> <td>    1.344</td>\n",
       "</tr>\n",
       "<tr>\n",
       "  <th>What is your current occupation_Student</th>              <td>   -1.7017</td> <td>    0.588</td> <td>   -2.893</td> <td> 0.004</td> <td>   -2.855</td> <td>   -0.549</td>\n",
       "</tr>\n",
       "<tr>\n",
       "  <th>What is your current occupation_Unemployed</th>           <td>   -1.8879</td> <td>    0.550</td> <td>   -3.435</td> <td> 0.001</td> <td>   -2.965</td> <td>   -0.811</td>\n",
       "</tr>\n",
       "<tr>\n",
       "  <th>What is your current occupation_Working Professional</th> <td>    0.7246</td> <td>    0.581</td> <td>    1.248</td> <td> 0.212</td> <td>   -0.413</td> <td>    1.862</td>\n",
       "</tr>\n",
       "<tr>\n",
       "  <th>Last Notable Activity_Unreachable</th>                    <td>    2.7834</td> <td>    0.807</td> <td>    3.448</td> <td> 0.001</td> <td>    1.201</td> <td>    4.365</td>\n",
       "</tr>\n",
       "</table>"
      ],
      "text/latex": [
       "\\begin{center}\n",
       "\\begin{tabular}{lclc}\n",
       "\\toprule\n",
       "\\textbf{Dep. Variable:}                                        &    Converted     & \\textbf{  No. Observations:  } &     4461    \\\\\n",
       "\\textbf{Model:}                                                &       GLM        & \\textbf{  Df Residuals:      } &     4448    \\\\\n",
       "\\textbf{Model Family:}                                         &     Binomial     & \\textbf{  Df Model:          } &       12    \\\\\n",
       "\\textbf{Link Function:}                                        &      Logit       & \\textbf{  Scale:             } &    1.0000   \\\\\n",
       "\\textbf{Method:}                                               &       IRLS       & \\textbf{  Log-Likelihood:    } &   -2078.3   \\\\\n",
       "\\textbf{Date:}                                                 & Thu, 09 Oct 2025 & \\textbf{  Deviance:          } &    4156.7   \\\\\n",
       "\\textbf{Time:}                                                 &     13:22:46     & \\textbf{  Pearson chi2:      } &  4.83e+03   \\\\\n",
       "\\textbf{No. Iterations:}                                       &        7         & \\textbf{  Pseudo R-squ. (CS):} &   0.3644    \\\\\n",
       "\\textbf{Covariance Type:}                                      &    nonrobust     & \\textbf{                     } &             \\\\\n",
       "\\bottomrule\n",
       "\\end{tabular}\n",
       "\\begin{tabular}{lcccccc}\n",
       "                                                               & \\textbf{coef} & \\textbf{std err} & \\textbf{z} & \\textbf{P$> |$z$|$} & \\textbf{[0.025} & \\textbf{0.975]}  \\\\\n",
       "\\midrule\n",
       "\\textbf{const}                                                 &      -0.4528  &        0.554     &    -0.818  &         0.413        &       -1.538    &        0.632     \\\\\n",
       "\\textbf{TotalVisits}                                           &      11.2586  &        2.672     &     4.214  &         0.000        &        6.023    &       16.495     \\\\\n",
       "\\textbf{Total Time Spent on Website}                           &       4.4217  &        0.185     &    23.898  &         0.000        &        4.059    &        4.784     \\\\\n",
       "\\textbf{Lead Origin\\_Lead Add Form}                            &       4.2057  &        0.258     &    16.274  &         0.000        &        3.699    &        4.712     \\\\\n",
       "\\textbf{Lead Source\\_Olark Chat}                               &       1.4530  &        0.122     &    11.930  &         0.000        &        1.214    &        1.692     \\\\\n",
       "\\textbf{Lead Source\\_Welingak Website}                         &       2.1541  &        1.037     &     2.078  &         0.038        &        0.122    &        4.186     \\\\\n",
       "\\textbf{Do Not Email\\_Yes}                                     &      -1.5063  &        0.193     &    -7.785  &         0.000        &       -1.886    &       -1.127     \\\\\n",
       "\\textbf{Last Activity\\_Had a Phone Conversation}               &       2.7515  &        0.802     &     3.432  &         0.001        &        1.180    &        4.323     \\\\\n",
       "\\textbf{Last Activity\\_SMS Sent}                               &       1.1823  &        0.082     &    14.362  &         0.000        &        1.021    &        1.344     \\\\\n",
       "\\textbf{What is your current occupation\\_Student}              &      -1.7017  &        0.588     &    -2.893  &         0.004        &       -2.855    &       -0.549     \\\\\n",
       "\\textbf{What is your current occupation\\_Unemployed}           &      -1.8879  &        0.550     &    -3.435  &         0.001        &       -2.965    &       -0.811     \\\\\n",
       "\\textbf{What is your current occupation\\_Working Professional} &       0.7246  &        0.581     &     1.248  &         0.212        &       -0.413    &        1.862     \\\\\n",
       "\\textbf{Last Notable Activity\\_Unreachable}                    &       2.7834  &        0.807     &     3.448  &         0.001        &        1.201    &        4.365     \\\\\n",
       "\\bottomrule\n",
       "\\end{tabular}\n",
       "%\\caption{Generalized Linear Model Regression Results}\n",
       "\\end{center}"
      ],
      "text/plain": [
       "<class 'statsmodels.iolib.summary.Summary'>\n",
       "\"\"\"\n",
       "                 Generalized Linear Model Regression Results                  \n",
       "==============================================================================\n",
       "Dep. Variable:              Converted   No. Observations:                 4461\n",
       "Model:                            GLM   Df Residuals:                     4448\n",
       "Model Family:                Binomial   Df Model:                           12\n",
       "Link Function:                  Logit   Scale:                          1.0000\n",
       "Method:                          IRLS   Log-Likelihood:                -2078.3\n",
       "Date:                Thu, 09 Oct 2025   Deviance:                       4156.7\n",
       "Time:                        13:22:46   Pearson chi2:                 4.83e+03\n",
       "No. Iterations:                     7   Pseudo R-squ. (CS):             0.3644\n",
       "Covariance Type:            nonrobust                                         \n",
       "========================================================================================================================\n",
       "                                                           coef    std err          z      P>|z|      [0.025      0.975]\n",
       "------------------------------------------------------------------------------------------------------------------------\n",
       "const                                                   -0.4528      0.554     -0.818      0.413      -1.538       0.632\n",
       "TotalVisits                                             11.2586      2.672      4.214      0.000       6.023      16.495\n",
       "Total Time Spent on Website                              4.4217      0.185     23.898      0.000       4.059       4.784\n",
       "Lead Origin_Lead Add Form                                4.2057      0.258     16.274      0.000       3.699       4.712\n",
       "Lead Source_Olark Chat                                   1.4530      0.122     11.930      0.000       1.214       1.692\n",
       "Lead Source_Welingak Website                             2.1541      1.037      2.078      0.038       0.122       4.186\n",
       "Do Not Email_Yes                                        -1.5063      0.193     -7.785      0.000      -1.886      -1.127\n",
       "Last Activity_Had a Phone Conversation                   2.7515      0.802      3.432      0.001       1.180       4.323\n",
       "Last Activity_SMS Sent                                   1.1823      0.082     14.362      0.000       1.021       1.344\n",
       "What is your current occupation_Student                 -1.7017      0.588     -2.893      0.004      -2.855      -0.549\n",
       "What is your current occupation_Unemployed              -1.8879      0.550     -3.435      0.001      -2.965      -0.811\n",
       "What is your current occupation_Working Professional     0.7246      0.581      1.248      0.212      -0.413       1.862\n",
       "Last Notable Activity_Unreachable                        2.7834      0.807      3.448      0.001       1.201       4.365\n",
       "========================================================================================================================\n",
       "\"\"\""
      ]
     },
     "execution_count": 576,
     "metadata": {},
     "output_type": "execute_result"
    }
   ],
   "source": [
    "# Again building model and checking p-values\n",
    "X_train_sm = sm.add_constant(X_train)\n",
    "logm4 = sm.GLM(y_train, X_train_sm, family = sm.families.Binomial())\n",
    "result = logm4.fit()\n",
    "result.summary() "
   ]
  },
  {
   "cell_type": "code",
   "execution_count": 577,
   "id": "fed826b9",
   "metadata": {},
   "outputs": [],
   "source": [
    "# Dropping 'What is your current occupation_Working Professional'\n",
    "X_train.drop('What is your current occupation_Working Professional', axis=1, inplace=True)"
   ]
  },
  {
   "cell_type": "code",
   "execution_count": 578,
   "id": "123b3a8c",
   "metadata": {},
   "outputs": [
    {
     "data": {
      "text/html": [
       "<table class=\"simpletable\">\n",
       "<caption>Generalized Linear Model Regression Results</caption>\n",
       "<tr>\n",
       "  <th>Dep. Variable:</th>       <td>Converted</td>    <th>  No. Observations:  </th>  <td>  4461</td> \n",
       "</tr>\n",
       "<tr>\n",
       "  <th>Model:</th>                  <td>GLM</td>       <th>  Df Residuals:      </th>  <td>  4449</td> \n",
       "</tr>\n",
       "<tr>\n",
       "  <th>Model Family:</th>        <td>Binomial</td>     <th>  Df Model:          </th>  <td>    11</td> \n",
       "</tr>\n",
       "<tr>\n",
       "  <th>Link Function:</th>         <td>Logit</td>      <th>  Scale:             </th> <td>  1.0000</td>\n",
       "</tr>\n",
       "<tr>\n",
       "  <th>Method:</th>                <td>IRLS</td>       <th>  Log-Likelihood:    </th> <td> -2079.1</td>\n",
       "</tr>\n",
       "<tr>\n",
       "  <th>Date:</th>            <td>Thu, 09 Oct 2025</td> <th>  Deviance:          </th> <td>  4158.1</td>\n",
       "</tr>\n",
       "<tr>\n",
       "  <th>Time:</th>                <td>13:22:46</td>     <th>  Pearson chi2:      </th> <td>4.80e+03</td>\n",
       "</tr>\n",
       "<tr>\n",
       "  <th>No. Iterations:</th>          <td>7</td>        <th>  Pseudo R-squ. (CS):</th>  <td>0.3642</td> \n",
       "</tr>\n",
       "<tr>\n",
       "  <th>Covariance Type:</th>     <td>nonrobust</td>    <th>                     </th>     <td> </td>   \n",
       "</tr>\n",
       "</table>\n",
       "<table class=\"simpletable\">\n",
       "<tr>\n",
       "                       <td></td>                         <th>coef</th>     <th>std err</th>      <th>z</th>      <th>P>|z|</th>  <th>[0.025</th>    <th>0.975]</th>  \n",
       "</tr>\n",
       "<tr>\n",
       "  <th>const</th>                                      <td>    0.2040</td> <td>    0.196</td> <td>    1.043</td> <td> 0.297</td> <td>   -0.179</td> <td>    0.587</td>\n",
       "</tr>\n",
       "<tr>\n",
       "  <th>TotalVisits</th>                                <td>   11.1489</td> <td>    2.665</td> <td>    4.184</td> <td> 0.000</td> <td>    5.926</td> <td>   16.371</td>\n",
       "</tr>\n",
       "<tr>\n",
       "  <th>Total Time Spent on Website</th>                <td>    4.4223</td> <td>    0.185</td> <td>   23.899</td> <td> 0.000</td> <td>    4.060</td> <td>    4.785</td>\n",
       "</tr>\n",
       "<tr>\n",
       "  <th>Lead Origin_Lead Add Form</th>                  <td>    4.2051</td> <td>    0.258</td> <td>   16.275</td> <td> 0.000</td> <td>    3.699</td> <td>    4.712</td>\n",
       "</tr>\n",
       "<tr>\n",
       "  <th>Lead Source_Olark Chat</th>                     <td>    1.4526</td> <td>    0.122</td> <td>   11.934</td> <td> 0.000</td> <td>    1.214</td> <td>    1.691</td>\n",
       "</tr>\n",
       "<tr>\n",
       "  <th>Lead Source_Welingak Website</th>               <td>    2.1526</td> <td>    1.037</td> <td>    2.076</td> <td> 0.038</td> <td>    0.121</td> <td>    4.185</td>\n",
       "</tr>\n",
       "<tr>\n",
       "  <th>Do Not Email_Yes</th>                           <td>   -1.5037</td> <td>    0.193</td> <td>   -7.774</td> <td> 0.000</td> <td>   -1.883</td> <td>   -1.125</td>\n",
       "</tr>\n",
       "<tr>\n",
       "  <th>Last Activity_Had a Phone Conversation</th>     <td>    2.7552</td> <td>    0.802</td> <td>    3.438</td> <td> 0.001</td> <td>    1.184</td> <td>    4.326</td>\n",
       "</tr>\n",
       "<tr>\n",
       "  <th>Last Activity_SMS Sent</th>                     <td>    1.1856</td> <td>    0.082</td> <td>   14.421</td> <td> 0.000</td> <td>    1.024</td> <td>    1.347</td>\n",
       "</tr>\n",
       "<tr>\n",
       "  <th>What is your current occupation_Student</th>    <td>   -2.3578</td> <td>    0.281</td> <td>   -8.392</td> <td> 0.000</td> <td>   -2.908</td> <td>   -1.807</td>\n",
       "</tr>\n",
       "<tr>\n",
       "  <th>What is your current occupation_Unemployed</th> <td>   -2.5445</td> <td>    0.186</td> <td>  -13.699</td> <td> 0.000</td> <td>   -2.908</td> <td>   -2.180</td>\n",
       "</tr>\n",
       "<tr>\n",
       "  <th>Last Notable Activity_Unreachable</th>          <td>    2.7846</td> <td>    0.807</td> <td>    3.449</td> <td> 0.001</td> <td>    1.202</td> <td>    4.367</td>\n",
       "</tr>\n",
       "</table>"
      ],
      "text/latex": [
       "\\begin{center}\n",
       "\\begin{tabular}{lclc}\n",
       "\\toprule\n",
       "\\textbf{Dep. Variable:}                              &    Converted     & \\textbf{  No. Observations:  } &     4461    \\\\\n",
       "\\textbf{Model:}                                      &       GLM        & \\textbf{  Df Residuals:      } &     4449    \\\\\n",
       "\\textbf{Model Family:}                               &     Binomial     & \\textbf{  Df Model:          } &       11    \\\\\n",
       "\\textbf{Link Function:}                              &      Logit       & \\textbf{  Scale:             } &    1.0000   \\\\\n",
       "\\textbf{Method:}                                     &       IRLS       & \\textbf{  Log-Likelihood:    } &   -2079.1   \\\\\n",
       "\\textbf{Date:}                                       & Thu, 09 Oct 2025 & \\textbf{  Deviance:          } &    4158.1   \\\\\n",
       "\\textbf{Time:}                                       &     13:22:46     & \\textbf{  Pearson chi2:      } &  4.80e+03   \\\\\n",
       "\\textbf{No. Iterations:}                             &        7         & \\textbf{  Pseudo R-squ. (CS):} &   0.3642    \\\\\n",
       "\\textbf{Covariance Type:}                            &    nonrobust     & \\textbf{                     } &             \\\\\n",
       "\\bottomrule\n",
       "\\end{tabular}\n",
       "\\begin{tabular}{lcccccc}\n",
       "                                                     & \\textbf{coef} & \\textbf{std err} & \\textbf{z} & \\textbf{P$> |$z$|$} & \\textbf{[0.025} & \\textbf{0.975]}  \\\\\n",
       "\\midrule\n",
       "\\textbf{const}                                       &       0.2040  &        0.196     &     1.043  &         0.297        &       -0.179    &        0.587     \\\\\n",
       "\\textbf{TotalVisits}                                 &      11.1489  &        2.665     &     4.184  &         0.000        &        5.926    &       16.371     \\\\\n",
       "\\textbf{Total Time Spent on Website}                 &       4.4223  &        0.185     &    23.899  &         0.000        &        4.060    &        4.785     \\\\\n",
       "\\textbf{Lead Origin\\_Lead Add Form}                  &       4.2051  &        0.258     &    16.275  &         0.000        &        3.699    &        4.712     \\\\\n",
       "\\textbf{Lead Source\\_Olark Chat}                     &       1.4526  &        0.122     &    11.934  &         0.000        &        1.214    &        1.691     \\\\\n",
       "\\textbf{Lead Source\\_Welingak Website}               &       2.1526  &        1.037     &     2.076  &         0.038        &        0.121    &        4.185     \\\\\n",
       "\\textbf{Do Not Email\\_Yes}                           &      -1.5037  &        0.193     &    -7.774  &         0.000        &       -1.883    &       -1.125     \\\\\n",
       "\\textbf{Last Activity\\_Had a Phone Conversation}     &       2.7552  &        0.802     &     3.438  &         0.001        &        1.184    &        4.326     \\\\\n",
       "\\textbf{Last Activity\\_SMS Sent}                     &       1.1856  &        0.082     &    14.421  &         0.000        &        1.024    &        1.347     \\\\\n",
       "\\textbf{What is your current occupation\\_Student}    &      -2.3578  &        0.281     &    -8.392  &         0.000        &       -2.908    &       -1.807     \\\\\n",
       "\\textbf{What is your current occupation\\_Unemployed} &      -2.5445  &        0.186     &   -13.699  &         0.000        &       -2.908    &       -2.180     \\\\\n",
       "\\textbf{Last Notable Activity\\_Unreachable}          &       2.7846  &        0.807     &     3.449  &         0.001        &        1.202    &        4.367     \\\\\n",
       "\\bottomrule\n",
       "\\end{tabular}\n",
       "%\\caption{Generalized Linear Model Regression Results}\n",
       "\\end{center}"
      ],
      "text/plain": [
       "<class 'statsmodels.iolib.summary.Summary'>\n",
       "\"\"\"\n",
       "                 Generalized Linear Model Regression Results                  \n",
       "==============================================================================\n",
       "Dep. Variable:              Converted   No. Observations:                 4461\n",
       "Model:                            GLM   Df Residuals:                     4449\n",
       "Model Family:                Binomial   Df Model:                           11\n",
       "Link Function:                  Logit   Scale:                          1.0000\n",
       "Method:                          IRLS   Log-Likelihood:                -2079.1\n",
       "Date:                Thu, 09 Oct 2025   Deviance:                       4158.1\n",
       "Time:                        13:22:46   Pearson chi2:                 4.80e+03\n",
       "No. Iterations:                     7   Pseudo R-squ. (CS):             0.3642\n",
       "Covariance Type:            nonrobust                                         \n",
       "==============================================================================================================\n",
       "                                                 coef    std err          z      P>|z|      [0.025      0.975]\n",
       "--------------------------------------------------------------------------------------------------------------\n",
       "const                                          0.2040      0.196      1.043      0.297      -0.179       0.587\n",
       "TotalVisits                                   11.1489      2.665      4.184      0.000       5.926      16.371\n",
       "Total Time Spent on Website                    4.4223      0.185     23.899      0.000       4.060       4.785\n",
       "Lead Origin_Lead Add Form                      4.2051      0.258     16.275      0.000       3.699       4.712\n",
       "Lead Source_Olark Chat                         1.4526      0.122     11.934      0.000       1.214       1.691\n",
       "Lead Source_Welingak Website                   2.1526      1.037      2.076      0.038       0.121       4.185\n",
       "Do Not Email_Yes                              -1.5037      0.193     -7.774      0.000      -1.883      -1.125\n",
       "Last Activity_Had a Phone Conversation         2.7552      0.802      3.438      0.001       1.184       4.326\n",
       "Last Activity_SMS Sent                         1.1856      0.082     14.421      0.000       1.024       1.347\n",
       "What is your current occupation_Student       -2.3578      0.281     -8.392      0.000      -2.908      -1.807\n",
       "What is your current occupation_Unemployed    -2.5445      0.186    -13.699      0.000      -2.908      -2.180\n",
       "Last Notable Activity_Unreachable              2.7846      0.807      3.449      0.001       1.202       4.367\n",
       "==============================================================================================================\n",
       "\"\"\""
      ]
     },
     "execution_count": 578,
     "metadata": {},
     "output_type": "execute_result"
    }
   ],
   "source": [
    "# Again building model and checking p-values\n",
    "X_train_sm = sm.add_constant(X_train)\n",
    "logm5 = sm.GLM(y_train, X_train_sm, family = sm.families.Binomial())\n",
    "result = logm5.fit()\n",
    "result.summary() "
   ]
  },
  {
   "cell_type": "markdown",
   "id": "8cbd8dd8",
   "metadata": {},
   "source": [
    "Now, each feature has a p-value less than 0.05. Let's check the VIF again one time to be sure."
   ]
  },
  {
   "cell_type": "code",
   "execution_count": 579,
   "id": "019275ed",
   "metadata": {},
   "outputs": [
    {
     "name": "stdout",
     "output_type": "stream",
     "text": [
      "                                      Features   VIF\n",
      "9   What is your current occupation_Unemployed  2.82\n",
      "1                  Total Time Spent on Website  2.00\n",
      "0                                  TotalVisits  1.54\n",
      "7                       Last Activity_SMS Sent  1.51\n",
      "2                    Lead Origin_Lead Add Form  1.45\n",
      "3                       Lead Source_Olark Chat  1.33\n",
      "4                 Lead Source_Welingak Website  1.30\n",
      "5                             Do Not Email_Yes  1.08\n",
      "8      What is your current occupation_Student  1.06\n",
      "6       Last Activity_Had a Phone Conversation  1.01\n",
      "10           Last Notable Activity_Unreachable  1.01\n"
     ]
    }
   ],
   "source": [
    "# Checking VIFs\n",
    "vif = pd.DataFrame()\n",
    "vif['Features'] = X_train.columns\n",
    "vif['VIF'] = [variance_inflation_factor(X_train.values, i) for i in range(X_train.shape[1])]\n",
    "vif['VIF'] = round(vif['VIF'], 2)\n",
    "vif = vif.sort_values(by=\"VIF\", ascending=False)\n",
    "\n",
    "# Display VIF\n",
    "print(vif)"
   ]
  },
  {
   "cell_type": "markdown",
   "id": "5bf02bb4",
   "metadata": {},
   "source": [
    "Now that we have p-values and VIFs in appropriate range, we can continue with the next step: Model Evaluation."
   ]
  },
  {
   "cell_type": "markdown",
   "id": "337ccdbc39119b87",
   "metadata": {},
   "source": [
    "## Model Evaluation"
   ]
  },
  {
   "cell_type": "code",
   "execution_count": 580,
   "id": "e722337ca287fea",
   "metadata": {
    "ExecuteTime": {
     "end_time": "2025-08-16T15:53:32.868240Z",
     "start_time": "2025-08-16T15:53:32.862100Z"
    }
   },
   "outputs": [
    {
     "data": {
      "text/plain": [
       "array([0.30011695, 0.14200165, 0.12762885, 0.29155814, 0.95479546,\n",
       "       0.19442563, 0.17807328, 0.94946006, 0.07599465, 0.98231619])"
      ]
     },
     "execution_count": 580,
     "metadata": {},
     "output_type": "execute_result"
    }
   ],
   "source": [
    "# Making predictions\n",
    "y_train_pred = result.predict(X_train_sm).values.reshape(-1)\n",
    "y_train_pred[:10]"
   ]
  },
  {
   "cell_type": "markdown",
   "id": "9bc89633c8430121",
   "metadata": {},
   "source": [
    "#### Creating a dataframe with the actual Convert flag and the predicted probabilities"
   ]
  },
  {
   "cell_type": "code",
   "execution_count": 581,
   "id": "c5bdb2a8b5484743",
   "metadata": {
    "ExecuteTime": {
     "end_time": "2025-08-16T15:53:32.929802Z",
     "start_time": "2025-08-16T15:53:32.923339Z"
    }
   },
   "outputs": [
    {
     "data": {
      "text/html": [
       "<div>\n",
       "<style scoped>\n",
       "    .dataframe tbody tr th:only-of-type {\n",
       "        vertical-align: middle;\n",
       "    }\n",
       "\n",
       "    .dataframe tbody tr th {\n",
       "        vertical-align: top;\n",
       "    }\n",
       "\n",
       "    .dataframe thead th {\n",
       "        text-align: right;\n",
       "    }\n",
       "</style>\n",
       "<table border=\"1\" class=\"dataframe\">\n",
       "  <thead>\n",
       "    <tr style=\"text-align: right;\">\n",
       "      <th></th>\n",
       "      <th>Convert</th>\n",
       "      <th>Convert_Prob</th>\n",
       "    </tr>\n",
       "  </thead>\n",
       "  <tbody>\n",
       "    <tr>\n",
       "      <th>0</th>\n",
       "      <td>0</td>\n",
       "      <td>0.300117</td>\n",
       "    </tr>\n",
       "    <tr>\n",
       "      <th>1</th>\n",
       "      <td>0</td>\n",
       "      <td>0.142002</td>\n",
       "    </tr>\n",
       "    <tr>\n",
       "      <th>2</th>\n",
       "      <td>1</td>\n",
       "      <td>0.127629</td>\n",
       "    </tr>\n",
       "    <tr>\n",
       "      <th>3</th>\n",
       "      <td>1</td>\n",
       "      <td>0.291558</td>\n",
       "    </tr>\n",
       "    <tr>\n",
       "      <th>4</th>\n",
       "      <td>1</td>\n",
       "      <td>0.954795</td>\n",
       "    </tr>\n",
       "  </tbody>\n",
       "</table>\n",
       "</div>"
      ],
      "text/plain": [
       "   Convert  Convert_Prob\n",
       "0        0      0.300117\n",
       "1        0      0.142002\n",
       "2        1      0.127629\n",
       "3        1      0.291558\n",
       "4        1      0.954795"
      ]
     },
     "execution_count": 581,
     "metadata": {},
     "output_type": "execute_result"
    }
   ],
   "source": [
    "y_train_pred_final = pd.DataFrame({'Convert':y_train.values, 'Convert_Prob':y_train_pred})\n",
    "y_train_pred_final.head()"
   ]
  },
  {
   "cell_type": "markdown",
   "id": "e1784c8a",
   "metadata": {},
   "source": [
    "Now, we need to find the optimal cutoff point of the convert probability, so we will fisrt use the 0.5 as the cutoff point and check the  "
   ]
  },
  {
   "cell_type": "markdown",
   "id": "40177a5699bea718",
   "metadata": {},
   "source": [
    "#### Let's first create new column 'predicted' with cutoff point as 0.5 as 1 if Convert_Prob > 0.5 else 0"
   ]
  },
  {
   "cell_type": "code",
   "execution_count": 582,
   "id": "cc3ee844079a76d9",
   "metadata": {
    "ExecuteTime": {
     "end_time": "2025-08-16T15:53:33.019287Z",
     "start_time": "2025-08-16T15:53:33.010908Z"
    }
   },
   "outputs": [
    {
     "data": {
      "text/html": [
       "<div>\n",
       "<style scoped>\n",
       "    .dataframe tbody tr th:only-of-type {\n",
       "        vertical-align: middle;\n",
       "    }\n",
       "\n",
       "    .dataframe tbody tr th {\n",
       "        vertical-align: top;\n",
       "    }\n",
       "\n",
       "    .dataframe thead th {\n",
       "        text-align: right;\n",
       "    }\n",
       "</style>\n",
       "<table border=\"1\" class=\"dataframe\">\n",
       "  <thead>\n",
       "    <tr style=\"text-align: right;\">\n",
       "      <th></th>\n",
       "      <th>Convert</th>\n",
       "      <th>Convert_Prob</th>\n",
       "      <th>predicted</th>\n",
       "    </tr>\n",
       "  </thead>\n",
       "  <tbody>\n",
       "    <tr>\n",
       "      <th>0</th>\n",
       "      <td>0</td>\n",
       "      <td>0.300117</td>\n",
       "      <td>0</td>\n",
       "    </tr>\n",
       "    <tr>\n",
       "      <th>1</th>\n",
       "      <td>0</td>\n",
       "      <td>0.142002</td>\n",
       "      <td>0</td>\n",
       "    </tr>\n",
       "    <tr>\n",
       "      <th>2</th>\n",
       "      <td>1</td>\n",
       "      <td>0.127629</td>\n",
       "      <td>0</td>\n",
       "    </tr>\n",
       "    <tr>\n",
       "      <th>3</th>\n",
       "      <td>1</td>\n",
       "      <td>0.291558</td>\n",
       "      <td>0</td>\n",
       "    </tr>\n",
       "    <tr>\n",
       "      <th>4</th>\n",
       "      <td>1</td>\n",
       "      <td>0.954795</td>\n",
       "      <td>1</td>\n",
       "    </tr>\n",
       "  </tbody>\n",
       "</table>\n",
       "</div>"
      ],
      "text/plain": [
       "   Convert  Convert_Prob  predicted\n",
       "0        0      0.300117          0\n",
       "1        0      0.142002          0\n",
       "2        1      0.127629          0\n",
       "3        1      0.291558          0\n",
       "4        1      0.954795          1"
      ]
     },
     "execution_count": 582,
     "metadata": {},
     "output_type": "execute_result"
    }
   ],
   "source": [
    "y_train_pred_final['predicted'] = y_train_pred_final.Convert_Prob.map(lambda x: 1 if x > 0.5 else 0)\n",
    "\n",
    "# Let's see the head\n",
    "y_train_pred_final.head()"
   ]
  },
  {
   "cell_type": "markdown",
   "id": "6c5d1e57ff3ad1",
   "metadata": {},
   "source": [
    "### Checking confusion matrix"
   ]
  },
  {
   "cell_type": "code",
   "execution_count": 583,
   "id": "94344880b07c7304",
   "metadata": {
    "ExecuteTime": {
     "end_time": "2025-08-16T15:53:33.100228Z",
     "start_time": "2025-08-16T15:53:33.093625Z"
    }
   },
   "outputs": [
    {
     "name": "stdout",
     "output_type": "stream",
     "text": [
      "[[1929  383]\n",
      " [ 560 1589]]\n"
     ]
    }
   ],
   "source": [
    "# Confusion matrix\n",
    "confusion = metrics.confusion_matrix(y_train_pred_final.Convert, y_train_pred_final.predicted )\n",
    "print(confusion)"
   ]
  },
  {
   "cell_type": "code",
   "execution_count": 584,
   "id": "29d2d383147a1e7",
   "metadata": {
    "ExecuteTime": {
     "end_time": "2025-08-16T15:53:33.240787Z",
     "start_time": "2025-08-16T15:53:33.235685Z"
    }
   },
   "outputs": [
    {
     "name": "stdout",
     "output_type": "stream",
     "text": [
      "0.7886124187401928\n"
     ]
    }
   ],
   "source": [
    "# Let's check the overall accuracy.\n",
    "print(metrics.accuracy_score(y_train_pred_final.Convert, y_train_pred_final.predicted))"
   ]
  },
  {
   "cell_type": "markdown",
   "id": "27ba89e72a392b94",
   "metadata": {},
   "source": [
    "We have got an accuracy of almost 79% which is good."
   ]
  },
  {
   "cell_type": "markdown",
   "id": "f0f62961bc0c44a7",
   "metadata": {},
   "source": [
    "## Metrics beyond simply accuracy\n",
    "There are several other aspects we should check before making the final predictions. So lets check them"
   ]
  },
  {
   "cell_type": "code",
   "execution_count": 585,
   "id": "a590e7cf6664e863",
   "metadata": {
    "ExecuteTime": {
     "end_time": "2025-08-16T15:53:33.333959Z",
     "start_time": "2025-08-16T15:53:33.330527Z"
    }
   },
   "outputs": [],
   "source": [
    "TP = confusion[1,1] # true positive\n",
    "TN = confusion[0,0] # true negatives\n",
    "FP = confusion[0,1] # false positives\n",
    "FN = confusion[1,0] # false negatives"
   ]
  },
  {
   "cell_type": "markdown",
   "id": "a511d8b50c1b1b4c",
   "metadata": {},
   "source": [
    "#### 1. Sensitivity"
   ]
  },
  {
   "cell_type": "code",
   "execution_count": 586,
   "id": "7134b515f2e46ece",
   "metadata": {
    "ExecuteTime": {
     "end_time": "2025-08-16T15:53:33.442770Z",
     "start_time": "2025-08-16T15:53:33.437773Z"
    }
   },
   "outputs": [
    {
     "data": {
      "text/plain": [
       "0.739413680781759"
      ]
     },
     "execution_count": 586,
     "metadata": {},
     "output_type": "execute_result"
    }
   ],
   "source": [
    "# Let's see the sensitivity of our logistic regression model\n",
    "TP / float(TP+FN)"
   ]
  },
  {
   "cell_type": "markdown",
   "id": "6bc1380a6a1a6759",
   "metadata": {},
   "source": [
    "#### 2. Specificity"
   ]
  },
  {
   "cell_type": "code",
   "execution_count": 587,
   "id": "8ec3fb0b32f6174b",
   "metadata": {
    "ExecuteTime": {
     "end_time": "2025-08-16T15:53:33.472002Z",
     "start_time": "2025-08-16T15:53:33.466196Z"
    }
   },
   "outputs": [
    {
     "data": {
      "text/plain": [
       "0.8343425605536332"
      ]
     },
     "execution_count": 587,
     "metadata": {},
     "output_type": "execute_result"
    }
   ],
   "source": [
    "# Let us calculate specificity\n",
    "TN / float(TN+FP)"
   ]
  },
  {
   "cell_type": "markdown",
   "id": "18f43efb97a528b7",
   "metadata": {},
   "source": [
    "#### 3. False positive rate"
   ]
  },
  {
   "cell_type": "code",
   "execution_count": 588,
   "id": "3c64bd0a8f5f8b6a",
   "metadata": {
    "ExecuteTime": {
     "end_time": "2025-08-16T15:53:33.529076Z",
     "start_time": "2025-08-16T15:53:33.524498Z"
    }
   },
   "outputs": [
    {
     "name": "stdout",
     "output_type": "stream",
     "text": [
      "0.1656574394463668\n"
     ]
    }
   ],
   "source": [
    "# Calculate false positive rate - predicting convert when customer does not have converted\n",
    "print(FP/ float(TN+FP))"
   ]
  },
  {
   "cell_type": "markdown",
   "id": "af32d18e3f76e22a",
   "metadata": {},
   "source": [
    "#### 4. Positive predictive value"
   ]
  },
  {
   "cell_type": "code",
   "execution_count": 589,
   "id": "3c54e2a312f5007e",
   "metadata": {
    "ExecuteTime": {
     "end_time": "2025-08-16T15:53:33.585545Z",
     "start_time": "2025-08-16T15:53:33.581567Z"
    }
   },
   "outputs": [
    {
     "name": "stdout",
     "output_type": "stream",
     "text": [
      "0.8057809330628803\n"
     ]
    }
   ],
   "source": [
    "# positive predictive value\n",
    "print (TP / float(TP+FP))"
   ]
  },
  {
   "cell_type": "markdown",
   "id": "19405dfc5f79fa66",
   "metadata": {},
   "source": [
    "#### 5. Negative predictive value"
   ]
  },
  {
   "cell_type": "code",
   "execution_count": 590,
   "id": "69d5a99b49d18792",
   "metadata": {
    "ExecuteTime": {
     "end_time": "2025-08-16T15:53:33.641574Z",
     "start_time": "2025-08-16T15:53:33.638175Z"
    }
   },
   "outputs": [
    {
     "name": "stdout",
     "output_type": "stream",
     "text": [
      "0.7750100441944556\n"
     ]
    }
   ],
   "source": [
    "# Negative predictive value\n",
    "print (TN / float(TN+ FN))"
   ]
  },
  {
   "cell_type": "markdown",
   "id": "e6932c6c821efdf1",
   "metadata": {},
   "source": [
    "## Plotting the ROC Curve"
   ]
  },
  {
   "cell_type": "code",
   "execution_count": 591,
   "id": "5afb7f5e74ab762",
   "metadata": {
    "ExecuteTime": {
     "end_time": "2025-08-16T15:53:33.703656Z",
     "start_time": "2025-08-16T15:53:33.699009Z"
    }
   },
   "outputs": [],
   "source": [
    "def draw_roc( actual, probs ):\n",
    "    fpr, tpr, thresholds = metrics.roc_curve( actual, probs,\n",
    "                                              drop_intermediate = False )\n",
    "    auc_score = metrics.roc_auc_score( actual, probs )\n",
    "    plt.figure(figsize=(5, 5))\n",
    "    plt.plot( fpr, tpr, label='ROC curve (area = %0.2f)' % auc_score )\n",
    "    plt.plot([0, 1], [0, 1], 'k--')\n",
    "    plt.xlim([0.0, 1.0])\n",
    "    plt.ylim([0.0, 1.05])\n",
    "    plt.xlabel('False Positive Rate or [1 - True Negative Rate]')\n",
    "    plt.ylabel('True Positive Rate')\n",
    "    plt.title('Receiver operating characteristic example')\n",
    "    plt.legend(loc=\"lower right\")\n",
    "    plt.show()\n",
    "\n",
    "    return None"
   ]
  },
  {
   "cell_type": "code",
   "execution_count": 592,
   "id": "565d09bfd9e843c6",
   "metadata": {
    "ExecuteTime": {
     "end_time": "2025-08-16T15:53:33.765285Z",
     "start_time": "2025-08-16T15:53:33.759093Z"
    }
   },
   "outputs": [],
   "source": [
    "fpr, tpr, thresholds = metrics.roc_curve( y_train_pred_final.Convert, y_train_pred_final.Convert_Prob, drop_intermediate = False )"
   ]
  },
  {
   "cell_type": "code",
   "execution_count": 593,
   "id": "18c1fc020fc82487",
   "metadata": {
    "ExecuteTime": {
     "end_time": "2025-08-16T15:53:33.933427Z",
     "start_time": "2025-08-16T15:53:33.832510Z"
    }
   },
   "outputs": [
    {
     "data": {
      "image/png": "[encoded data removed]",
      "text/plain": [
       "<Figure size 500x500 with 1 Axes>"
      ]
     },
     "metadata": {},
     "output_type": "display_data"
    }
   ],
   "source": [
    "draw_roc(y_train_pred_final.Convert, y_train_pred_final.Convert_Prob)"
   ]
  },
  {
   "cell_type": "markdown",
   "id": "f500beb629fef08b",
   "metadata": {},
   "source": [
    "## Finding Optimal Cutoff Point"
   ]
  },
  {
   "cell_type": "code",
   "execution_count": 594,
   "id": "a39c941945693046",
   "metadata": {
    "ExecuteTime": {
     "end_time": "2025-08-16T15:53:34.013605Z",
     "start_time": "2025-08-16T15:53:33.988518Z"
    }
   },
   "outputs": [
    {
     "data": {
      "text/html": [
       "<div>\n",
       "<style scoped>\n",
       "    .dataframe tbody tr th:only-of-type {\n",
       "        vertical-align: middle;\n",
       "    }\n",
       "\n",
       "    .dataframe tbody tr th {\n",
       "        vertical-align: top;\n",
       "    }\n",
       "\n",
       "    .dataframe thead th {\n",
       "        text-align: right;\n",
       "    }\n",
       "</style>\n",
       "<table border=\"1\" class=\"dataframe\">\n",
       "  <thead>\n",
       "    <tr style=\"text-align: right;\">\n",
       "      <th></th>\n",
       "      <th>Convert</th>\n",
       "      <th>Convert_Prob</th>\n",
       "      <th>predicted</th>\n",
       "      <th>0.0</th>\n",
       "      <th>0.1</th>\n",
       "      <th>0.2</th>\n",
       "      <th>0.3</th>\n",
       "      <th>0.4</th>\n",
       "      <th>0.5</th>\n",
       "      <th>0.6</th>\n",
       "      <th>0.7</th>\n",
       "      <th>0.8</th>\n",
       "      <th>0.9</th>\n",
       "    </tr>\n",
       "  </thead>\n",
       "  <tbody>\n",
       "    <tr>\n",
       "      <th>0</th>\n",
       "      <td>0</td>\n",
       "      <td>0.300117</td>\n",
       "      <td>0</td>\n",
       "      <td>1</td>\n",
       "      <td>1</td>\n",
       "      <td>1</td>\n",
       "      <td>1</td>\n",
       "      <td>0</td>\n",
       "      <td>0</td>\n",
       "      <td>0</td>\n",
       "      <td>0</td>\n",
       "      <td>0</td>\n",
       "      <td>0</td>\n",
       "    </tr>\n",
       "    <tr>\n",
       "      <th>1</th>\n",
       "      <td>0</td>\n",
       "      <td>0.142002</td>\n",
       "      <td>0</td>\n",
       "      <td>1</td>\n",
       "      <td>1</td>\n",
       "      <td>0</td>\n",
       "      <td>0</td>\n",
       "      <td>0</td>\n",
       "      <td>0</td>\n",
       "      <td>0</td>\n",
       "      <td>0</td>\n",
       "      <td>0</td>\n",
       "      <td>0</td>\n",
       "    </tr>\n",
       "    <tr>\n",
       "      <th>2</th>\n",
       "      <td>1</td>\n",
       "      <td>0.127629</td>\n",
       "      <td>0</td>\n",
       "      <td>1</td>\n",
       "      <td>1</td>\n",
       "      <td>0</td>\n",
       "      <td>0</td>\n",
       "      <td>0</td>\n",
       "      <td>0</td>\n",
       "      <td>0</td>\n",
       "      <td>0</td>\n",
       "      <td>0</td>\n",
       "      <td>0</td>\n",
       "    </tr>\n",
       "    <tr>\n",
       "      <th>3</th>\n",
       "      <td>1</td>\n",
       "      <td>0.291558</td>\n",
       "      <td>0</td>\n",
       "      <td>1</td>\n",
       "      <td>1</td>\n",
       "      <td>1</td>\n",
       "      <td>0</td>\n",
       "      <td>0</td>\n",
       "      <td>0</td>\n",
       "      <td>0</td>\n",
       "      <td>0</td>\n",
       "      <td>0</td>\n",
       "      <td>0</td>\n",
       "    </tr>\n",
       "    <tr>\n",
       "      <th>4</th>\n",
       "      <td>1</td>\n",
       "      <td>0.954795</td>\n",
       "      <td>1</td>\n",
       "      <td>1</td>\n",
       "      <td>1</td>\n",
       "      <td>1</td>\n",
       "      <td>1</td>\n",
       "      <td>1</td>\n",
       "      <td>1</td>\n",
       "      <td>1</td>\n",
       "      <td>1</td>\n",
       "      <td>1</td>\n",
       "      <td>1</td>\n",
       "    </tr>\n",
       "  </tbody>\n",
       "</table>\n",
       "</div>"
      ],
      "text/plain": [
       "   Convert  Convert_Prob  predicted  0.0  0.1  0.2  0.3  0.4  0.5  0.6  0.7  \\\n",
       "0        0      0.300117          0    1    1    1    1    0    0    0    0   \n",
       "1        0      0.142002          0    1    1    0    0    0    0    0    0   \n",
       "2        1      0.127629          0    1    1    0    0    0    0    0    0   \n",
       "3        1      0.291558          0    1    1    1    0    0    0    0    0   \n",
       "4        1      0.954795          1    1    1    1    1    1    1    1    1   \n",
       "\n",
       "   0.8  0.9  \n",
       "0    0    0  \n",
       "1    0    0  \n",
       "2    0    0  \n",
       "3    0    0  \n",
       "4    1    1  "
      ]
     },
     "execution_count": 594,
     "metadata": {},
     "output_type": "execute_result"
    }
   ],
   "source": [
    "# Let's create columns with different probability cutoffs\n",
    "numbers = [float(x)/10 for x in range(10)]\n",
    "for i in numbers:\n",
    "    y_train_pred_final[i]= y_train_pred_final.Convert_Prob.map(lambda x: 1 if x > i else 0)\n",
    "y_train_pred_final.head()"
   ]
  },
  {
   "cell_type": "code",
   "execution_count": 595,
   "id": "6db75a4b3d659203",
   "metadata": {
    "ExecuteTime": {
     "end_time": "2025-08-16T15:53:34.124819Z",
     "start_time": "2025-08-16T15:53:34.098187Z"
    }
   },
   "outputs": [
    {
     "name": "stdout",
     "output_type": "stream",
     "text": [
      "     prob  accuracy     sensi     speci\n",
      "0.0   0.0  0.481731  1.000000  0.000000\n",
      "0.1   0.1  0.527012  0.994416  0.092561\n",
      "0.2   0.2  0.698274  0.944160  0.469723\n",
      "0.3   0.3  0.767541  0.865984  0.676038\n",
      "0.4   0.4  0.791975  0.810610  0.774654\n",
      "0.5   0.5  0.788612  0.739414  0.834343\n",
      "0.6   0.6  0.757229  0.624011  0.881055\n",
      "0.7   0.7  0.735037  0.543509  0.913062\n",
      "0.8   0.8  0.711500  0.453234  0.951557\n",
      "0.9   0.9  0.644026  0.279665  0.982699\n"
     ]
    }
   ],
   "source": [
    "# Now let's calculate accuracy sensitivity and specificity for various probability cutoffs.\n",
    "cutoff_df = pd.DataFrame( columns = ['prob','accuracy','sensi','speci'])\n",
    "\n",
    "num = [0.0,0.1,0.2,0.3,0.4,0.5,0.6,0.7,0.8,0.9]\n",
    "for i in num:\n",
    "    cm1 = metrics.confusion_matrix(y_train_pred_final.Convert, y_train_pred_final[i] )\n",
    "    total1=sum(sum(cm1))\n",
    "    accuracy = (cm1[0,0]+cm1[1,1])/total1\n",
    "\n",
    "    speci = cm1[0,0]/(cm1[0,0]+cm1[0,1])\n",
    "    sensi = cm1[1,1]/(cm1[1,0]+cm1[1,1])\n",
    "    cutoff_df.loc[i] =[ i ,accuracy,sensi,speci]\n",
    "print(cutoff_df)"
   ]
  },
  {
   "cell_type": "code",
   "execution_count": 596,
   "id": "6e54b804be85aa10",
   "metadata": {
    "ExecuteTime": {
     "end_time": "2025-08-16T15:53:34.364981Z",
     "start_time": "2025-08-16T15:53:34.189074Z"
    }
   },
   "outputs": [
    {
     "data": {
      "image/png": "[encoded data removed]",
      "text/plain": [
       "<Figure size 640x480 with 1 Axes>"
      ]
     },
     "metadata": {},
     "output_type": "display_data"
    }
   ],
   "source": [
    "# Let's plot accuracy, sensitivity and specificity for various probabilities.\n",
    "cutoff_df.plot.line(x='prob', y=['accuracy','sensi','speci'])\n",
    "plt.show()"
   ]
  },
  {
   "cell_type": "markdown",
   "id": "bc2c33aaebbbc243",
   "metadata": {},
   "source": [
    "As we can see that around 0.42, we get the optimal values of the three metrics. So let's choose 0.42 as our cutoff now."
   ]
  },
  {
   "cell_type": "code",
   "execution_count": 597,
   "id": "ae653eea10ddf06",
   "metadata": {
    "ExecuteTime": {
     "end_time": "2025-08-16T15:53:34.384585Z",
     "start_time": "2025-08-16T15:53:34.373503Z"
    }
   },
   "outputs": [
    {
     "data": {
      "text/html": [
       "<div>\n",
       "<style scoped>\n",
       "    .dataframe tbody tr th:only-of-type {\n",
       "        vertical-align: middle;\n",
       "    }\n",
       "\n",
       "    .dataframe tbody tr th {\n",
       "        vertical-align: top;\n",
       "    }\n",
       "\n",
       "    .dataframe thead th {\n",
       "        text-align: right;\n",
       "    }\n",
       "</style>\n",
       "<table border=\"1\" class=\"dataframe\">\n",
       "  <thead>\n",
       "    <tr style=\"text-align: right;\">\n",
       "      <th></th>\n",
       "      <th>Convert</th>\n",
       "      <th>Convert_Prob</th>\n",
       "      <th>predicted</th>\n",
       "      <th>final_predicted</th>\n",
       "    </tr>\n",
       "  </thead>\n",
       "  <tbody>\n",
       "    <tr>\n",
       "      <th>0</th>\n",
       "      <td>0</td>\n",
       "      <td>0.300117</td>\n",
       "      <td>0</td>\n",
       "      <td>0</td>\n",
       "    </tr>\n",
       "    <tr>\n",
       "      <th>1</th>\n",
       "      <td>0</td>\n",
       "      <td>0.142002</td>\n",
       "      <td>0</td>\n",
       "      <td>0</td>\n",
       "    </tr>\n",
       "    <tr>\n",
       "      <th>2</th>\n",
       "      <td>1</td>\n",
       "      <td>0.127629</td>\n",
       "      <td>0</td>\n",
       "      <td>0</td>\n",
       "    </tr>\n",
       "    <tr>\n",
       "      <th>3</th>\n",
       "      <td>1</td>\n",
       "      <td>0.291558</td>\n",
       "      <td>0</td>\n",
       "      <td>0</td>\n",
       "    </tr>\n",
       "    <tr>\n",
       "      <th>4</th>\n",
       "      <td>1</td>\n",
       "      <td>0.954795</td>\n",
       "      <td>1</td>\n",
       "      <td>1</td>\n",
       "    </tr>\n",
       "  </tbody>\n",
       "</table>\n",
       "</div>"
      ],
      "text/plain": [
       "   Convert  Convert_Prob  predicted  final_predicted\n",
       "0        0      0.300117          0                0\n",
       "1        0      0.142002          0                0\n",
       "2        1      0.127629          0                0\n",
       "3        1      0.291558          0                0\n",
       "4        1      0.954795          1                1"
      ]
     },
     "execution_count": 597,
     "metadata": {},
     "output_type": "execute_result"
    }
   ],
   "source": [
    "y_train_pred_final['final_predicted'] = y_train_pred_final.Convert_Prob.map( lambda x: 1 if x > 0.42 else 0)\n",
    "y_train_pred_final.drop([0.0,0.1,0.2,0.3,0.4,0.5,0.6,0.7,0.8,0.9], axis =1, inplace=True )\n",
    "y_train_pred_final.head()"
   ]
  },
  {
   "cell_type": "markdown",
   "id": "ba550a0136b253ff",
   "metadata": {},
   "source": [
    "Converting Convert_prob to lead score from 0 to 100"
   ]
  },
  {
   "cell_type": "code",
   "execution_count": 598,
   "id": "df8e47dc9aae8be8",
   "metadata": {
    "ExecuteTime": {
     "end_time": "2025-08-16T15:53:34.476693Z",
     "start_time": "2025-08-16T15:53:34.467080Z"
    }
   },
   "outputs": [
    {
     "data": {
      "text/html": [
       "<div>\n",
       "<style scoped>\n",
       "    .dataframe tbody tr th:only-of-type {\n",
       "        vertical-align: middle;\n",
       "    }\n",
       "\n",
       "    .dataframe tbody tr th {\n",
       "        vertical-align: top;\n",
       "    }\n",
       "\n",
       "    .dataframe thead th {\n",
       "        text-align: right;\n",
       "    }\n",
       "</style>\n",
       "<table border=\"1\" class=\"dataframe\">\n",
       "  <thead>\n",
       "    <tr style=\"text-align: right;\">\n",
       "      <th></th>\n",
       "      <th>Convert</th>\n",
       "      <th>Convert_Prob</th>\n",
       "      <th>predicted</th>\n",
       "      <th>final_predicted</th>\n",
       "      <th>Lead Score</th>\n",
       "    </tr>\n",
       "  </thead>\n",
       "  <tbody>\n",
       "    <tr>\n",
       "      <th>0</th>\n",
       "      <td>0</td>\n",
       "      <td>0.300117</td>\n",
       "      <td>0</td>\n",
       "      <td>0</td>\n",
       "      <td>30.011695</td>\n",
       "    </tr>\n",
       "    <tr>\n",
       "      <th>1</th>\n",
       "      <td>0</td>\n",
       "      <td>0.142002</td>\n",
       "      <td>0</td>\n",
       "      <td>0</td>\n",
       "      <td>14.200165</td>\n",
       "    </tr>\n",
       "    <tr>\n",
       "      <th>2</th>\n",
       "      <td>1</td>\n",
       "      <td>0.127629</td>\n",
       "      <td>0</td>\n",
       "      <td>0</td>\n",
       "      <td>12.762885</td>\n",
       "    </tr>\n",
       "    <tr>\n",
       "      <th>3</th>\n",
       "      <td>1</td>\n",
       "      <td>0.291558</td>\n",
       "      <td>0</td>\n",
       "      <td>0</td>\n",
       "      <td>29.155814</td>\n",
       "    </tr>\n",
       "    <tr>\n",
       "      <th>4</th>\n",
       "      <td>1</td>\n",
       "      <td>0.954795</td>\n",
       "      <td>1</td>\n",
       "      <td>1</td>\n",
       "      <td>95.479546</td>\n",
       "    </tr>\n",
       "  </tbody>\n",
       "</table>\n",
       "</div>"
      ],
      "text/plain": [
       "   Convert  Convert_Prob  predicted  final_predicted  Lead Score\n",
       "0        0      0.300117          0                0   30.011695\n",
       "1        0      0.142002          0                0   14.200165\n",
       "2        1      0.127629          0                0   12.762885\n",
       "3        1      0.291558          0                0   29.155814\n",
       "4        1      0.954795          1                1   95.479546"
      ]
     },
     "execution_count": 598,
     "metadata": {},
     "output_type": "execute_result"
    }
   ],
   "source": [
    "y_train_pred_final['Lead Score'] = y_train_pred_final['Convert_Prob']*100\n",
    "y_train_pred_final.head()"
   ]
  },
  {
   "cell_type": "code",
   "execution_count": 599,
   "id": "aff8d6904c725d10",
   "metadata": {
    "ExecuteTime": {
     "end_time": "2025-08-16T15:53:34.583443Z",
     "start_time": "2025-08-16T15:53:34.577423Z"
    }
   },
   "outputs": [
    {
     "data": {
      "text/plain": [
       "0.7908540685944856"
      ]
     },
     "execution_count": 599,
     "metadata": {},
     "output_type": "execute_result"
    }
   ],
   "source": [
    "# Let's check the accuracy now\n",
    "\n",
    "metrics.accuracy_score(y_train_pred_final.Convert, y_train_pred_final.final_predicted)"
   ]
  },
  {
   "cell_type": "code",
   "execution_count": 600,
   "id": "319bcbe88230cb4e",
   "metadata": {
    "ExecuteTime": {
     "end_time": "2025-08-16T15:53:34.695116Z",
     "start_time": "2025-08-16T15:53:34.687749Z"
    }
   },
   "outputs": [
    {
     "data": {
      "text/plain": [
       "array([[1823,  489],\n",
       "       [ 444, 1705]], dtype=int64)"
      ]
     },
     "execution_count": 600,
     "metadata": {},
     "output_type": "execute_result"
    }
   ],
   "source": [
    "# Let's create the confusion matrix once again\n",
    "\n",
    "confusion2 = metrics.confusion_matrix(y_train_pred_final.Convert, y_train_pred_final.final_predicted )\n",
    "confusion2"
   ]
  },
  {
   "cell_type": "code",
   "execution_count": 601,
   "id": "fadcc29ecf940022",
   "metadata": {
    "ExecuteTime": {
     "end_time": "2025-08-16T15:53:34.835411Z",
     "start_time": "2025-08-16T15:53:34.831577Z"
    }
   },
   "outputs": [],
   "source": [
    "# Let's evaluate the other metrics as well\n",
    "\n",
    "TP = confusion2[1,1] # true positive\n",
    "TN = confusion2[0,0] # true negatives\n",
    "FP = confusion2[0,1] # false positives\n",
    "FN = confusion2[1,0] # false negatives"
   ]
  },
  {
   "cell_type": "code",
   "execution_count": 602,
   "id": "9c8a668a159d6a97",
   "metadata": {
    "ExecuteTime": {
     "end_time": "2025-08-16T15:53:34.909265Z",
     "start_time": "2025-08-16T15:53:34.904348Z"
    }
   },
   "outputs": [
    {
     "data": {
      "text/plain": [
       "0.793392275476966"
      ]
     },
     "execution_count": 602,
     "metadata": {},
     "output_type": "execute_result"
    }
   ],
   "source": [
    "# Calculate Sensitivity\n",
    "\n",
    "TP/(TP+FN)"
   ]
  },
  {
   "cell_type": "code",
   "execution_count": 603,
   "id": "1a885b408f72cc14",
   "metadata": {
    "ExecuteTime": {
     "end_time": "2025-08-16T15:53:34.995287Z",
     "start_time": "2025-08-16T15:53:34.989387Z"
    }
   },
   "outputs": [
    {
     "data": {
      "text/plain": [
       "0.7884948096885813"
      ]
     },
     "execution_count": 603,
     "metadata": {},
     "output_type": "execute_result"
    }
   ],
   "source": [
    "# Calculate Specificity\n",
    "\n",
    "TN/(TN+FP)"
   ]
  },
  {
   "cell_type": "markdown",
   "id": "588154db6adfc1c3",
   "metadata": {},
   "source": [
    "This cutoff point seems good to go!"
   ]
  },
  {
   "cell_type": "markdown",
   "id": "26e762f3c4ac718a",
   "metadata": {},
   "source": [
    "# Making Predictions on the Test Set"
   ]
  },
  {
   "cell_type": "code",
   "execution_count": 630,
   "id": "7ab6385a",
   "metadata": {},
   "outputs": [
    {
     "data": {
      "text/html": [
       "<div>\n",
       "<style scoped>\n",
       "    .dataframe tbody tr th:only-of-type {\n",
       "        vertical-align: middle;\n",
       "    }\n",
       "\n",
       "    .dataframe tbody tr th {\n",
       "        vertical-align: top;\n",
       "    }\n",
       "\n",
       "    .dataframe thead th {\n",
       "        text-align: right;\n",
       "    }\n",
       "</style>\n",
       "<table border=\"1\" class=\"dataframe\">\n",
       "  <thead>\n",
       "    <tr style=\"text-align: right;\">\n",
       "      <th></th>\n",
       "      <th>TotalVisits</th>\n",
       "      <th>Total Time Spent on Website</th>\n",
       "      <th>Lead Origin_Lead Add Form</th>\n",
       "      <th>Lead Source_Olark Chat</th>\n",
       "      <th>Lead Source_Welingak Website</th>\n",
       "      <th>Do Not Email_Yes</th>\n",
       "      <th>Last Activity_Had a Phone Conversation</th>\n",
       "      <th>Last Activity_SMS Sent</th>\n",
       "      <th>What is your current occupation_Student</th>\n",
       "      <th>What is your current occupation_Unemployed</th>\n",
       "      <th>Last Notable Activity_Unreachable</th>\n",
       "    </tr>\n",
       "  </thead>\n",
       "  <tbody>\n",
       "    <tr>\n",
       "      <th>4771</th>\n",
       "      <td>0.000000</td>\n",
       "      <td>0.000000</td>\n",
       "      <td>1</td>\n",
       "      <td>0</td>\n",
       "      <td>0</td>\n",
       "      <td>0</td>\n",
       "      <td>0</td>\n",
       "      <td>1</td>\n",
       "      <td>0</td>\n",
       "      <td>0</td>\n",
       "      <td>0</td>\n",
       "    </tr>\n",
       "    <tr>\n",
       "      <th>6122</th>\n",
       "      <td>0.027888</td>\n",
       "      <td>0.029049</td>\n",
       "      <td>0</td>\n",
       "      <td>0</td>\n",
       "      <td>0</td>\n",
       "      <td>0</td>\n",
       "      <td>0</td>\n",
       "      <td>0</td>\n",
       "      <td>0</td>\n",
       "      <td>1</td>\n",
       "      <td>0</td>\n",
       "    </tr>\n",
       "    <tr>\n",
       "      <th>9202</th>\n",
       "      <td>0.015936</td>\n",
       "      <td>0.416813</td>\n",
       "      <td>0</td>\n",
       "      <td>0</td>\n",
       "      <td>0</td>\n",
       "      <td>0</td>\n",
       "      <td>0</td>\n",
       "      <td>1</td>\n",
       "      <td>0</td>\n",
       "      <td>1</td>\n",
       "      <td>0</td>\n",
       "    </tr>\n",
       "    <tr>\n",
       "      <th>6570</th>\n",
       "      <td>0.011952</td>\n",
       "      <td>0.378961</td>\n",
       "      <td>0</td>\n",
       "      <td>0</td>\n",
       "      <td>0</td>\n",
       "      <td>1</td>\n",
       "      <td>0</td>\n",
       "      <td>1</td>\n",
       "      <td>0</td>\n",
       "      <td>1</td>\n",
       "      <td>0</td>\n",
       "    </tr>\n",
       "    <tr>\n",
       "      <th>2668</th>\n",
       "      <td>0.031873</td>\n",
       "      <td>0.395246</td>\n",
       "      <td>0</td>\n",
       "      <td>0</td>\n",
       "      <td>0</td>\n",
       "      <td>0</td>\n",
       "      <td>0</td>\n",
       "      <td>1</td>\n",
       "      <td>0</td>\n",
       "      <td>1</td>\n",
       "      <td>0</td>\n",
       "    </tr>\n",
       "  </tbody>\n",
       "</table>\n",
       "</div>"
      ],
      "text/plain": [
       "      TotalVisits  Total Time Spent on Website  Lead Origin_Lead Add Form  \\\n",
       "4771     0.000000                     0.000000                          1   \n",
       "6122     0.027888                     0.029049                          0   \n",
       "9202     0.015936                     0.416813                          0   \n",
       "6570     0.011952                     0.378961                          0   \n",
       "2668     0.031873                     0.395246                          0   \n",
       "\n",
       "      Lead Source_Olark Chat  Lead Source_Welingak Website  Do Not Email_Yes  \\\n",
       "4771                       0                             0                 0   \n",
       "6122                       0                             0                 0   \n",
       "9202                       0                             0                 0   \n",
       "6570                       0                             0                 1   \n",
       "2668                       0                             0                 0   \n",
       "\n",
       "      Last Activity_Had a Phone Conversation  Last Activity_SMS Sent  \\\n",
       "4771                                       0                       1   \n",
       "6122                                       0                       0   \n",
       "9202                                       0                       1   \n",
       "6570                                       0                       1   \n",
       "2668                                       0                       1   \n",
       "\n",
       "      What is your current occupation_Student  \\\n",
       "4771                                        0   \n",
       "6122                                        0   \n",
       "9202                                        0   \n",
       "6570                                        0   \n",
       "2668                                        0   \n",
       "\n",
       "      What is your current occupation_Unemployed  \\\n",
       "4771                                           0   \n",
       "6122                                           1   \n",
       "9202                                           1   \n",
       "6570                                           1   \n",
       "2668                                           1   \n",
       "\n",
       "      Last Notable Activity_Unreachable  \n",
       "4771                                  0  \n",
       "6122                                  0  \n",
       "9202                                  0  \n",
       "6570                                  0  \n",
       "2668                                  0  "
      ]
     },
     "execution_count": 630,
     "metadata": {},
     "output_type": "execute_result"
    }
   ],
   "source": [
    "X_test.head()"
   ]
  },
  {
   "cell_type": "code",
   "execution_count": 606,
   "id": "eca7b9271da9ba66",
   "metadata": {
    "ExecuteTime": {
     "end_time": "2025-08-16T15:53:35.052767Z",
     "start_time": "2025-08-16T15:53:35.047216Z"
    }
   },
   "outputs": [],
   "source": [
    "# Scale the test set as well using just 'transform'\n",
    "\n",
    "X_test[['TotalVisits', 'Page Views Per Visit', 'Total Time Spent on Website']] = scaler.transform(X_test[['TotalVisits', 'Page Views Per Visit', 'Total Time Spent on Website']])"
   ]
  },
  {
   "cell_type": "code",
   "execution_count": 609,
   "id": "ffc2e6d8b29005e9",
   "metadata": {
    "ExecuteTime": {
     "end_time": "2025-08-16T15:53:35.113479Z",
     "start_time": "2025-08-16T15:53:35.103203Z"
    }
   },
   "outputs": [
    {
     "data": {
      "text/html": [
       "<div>\n",
       "<style scoped>\n",
       "    .dataframe tbody tr th:only-of-type {\n",
       "        vertical-align: middle;\n",
       "    }\n",
       "\n",
       "    .dataframe tbody tr th {\n",
       "        vertical-align: top;\n",
       "    }\n",
       "\n",
       "    .dataframe thead th {\n",
       "        text-align: right;\n",
       "    }\n",
       "</style>\n",
       "<table border=\"1\" class=\"dataframe\">\n",
       "  <thead>\n",
       "    <tr style=\"text-align: right;\">\n",
       "      <th></th>\n",
       "      <th>TotalVisits</th>\n",
       "      <th>Total Time Spent on Website</th>\n",
       "      <th>Lead Origin_Lead Add Form</th>\n",
       "      <th>Lead Source_Olark Chat</th>\n",
       "      <th>Lead Source_Welingak Website</th>\n",
       "      <th>Do Not Email_Yes</th>\n",
       "      <th>Last Activity_Had a Phone Conversation</th>\n",
       "      <th>Last Activity_SMS Sent</th>\n",
       "      <th>What is your current occupation_Student</th>\n",
       "      <th>What is your current occupation_Unemployed</th>\n",
       "      <th>Last Notable Activity_Unreachable</th>\n",
       "    </tr>\n",
       "  </thead>\n",
       "  <tbody>\n",
       "    <tr>\n",
       "      <th>4771</th>\n",
       "      <td>0.000000</td>\n",
       "      <td>0.000000</td>\n",
       "      <td>1</td>\n",
       "      <td>0</td>\n",
       "      <td>0</td>\n",
       "      <td>0</td>\n",
       "      <td>0</td>\n",
       "      <td>1</td>\n",
       "      <td>0</td>\n",
       "      <td>0</td>\n",
       "      <td>0</td>\n",
       "    </tr>\n",
       "    <tr>\n",
       "      <th>6122</th>\n",
       "      <td>0.027888</td>\n",
       "      <td>0.029049</td>\n",
       "      <td>0</td>\n",
       "      <td>0</td>\n",
       "      <td>0</td>\n",
       "      <td>0</td>\n",
       "      <td>0</td>\n",
       "      <td>0</td>\n",
       "      <td>0</td>\n",
       "      <td>1</td>\n",
       "      <td>0</td>\n",
       "    </tr>\n",
       "    <tr>\n",
       "      <th>9202</th>\n",
       "      <td>0.015936</td>\n",
       "      <td>0.416813</td>\n",
       "      <td>0</td>\n",
       "      <td>0</td>\n",
       "      <td>0</td>\n",
       "      <td>0</td>\n",
       "      <td>0</td>\n",
       "      <td>1</td>\n",
       "      <td>0</td>\n",
       "      <td>1</td>\n",
       "      <td>0</td>\n",
       "    </tr>\n",
       "    <tr>\n",
       "      <th>6570</th>\n",
       "      <td>0.011952</td>\n",
       "      <td>0.378961</td>\n",
       "      <td>0</td>\n",
       "      <td>0</td>\n",
       "      <td>0</td>\n",
       "      <td>1</td>\n",
       "      <td>0</td>\n",
       "      <td>1</td>\n",
       "      <td>0</td>\n",
       "      <td>1</td>\n",
       "      <td>0</td>\n",
       "    </tr>\n",
       "    <tr>\n",
       "      <th>2668</th>\n",
       "      <td>0.031873</td>\n",
       "      <td>0.395246</td>\n",
       "      <td>0</td>\n",
       "      <td>0</td>\n",
       "      <td>0</td>\n",
       "      <td>0</td>\n",
       "      <td>0</td>\n",
       "      <td>1</td>\n",
       "      <td>0</td>\n",
       "      <td>1</td>\n",
       "      <td>0</td>\n",
       "    </tr>\n",
       "  </tbody>\n",
       "</table>\n",
       "</div>"
      ],
      "text/plain": [
       "      TotalVisits  Total Time Spent on Website  Lead Origin_Lead Add Form  \\\n",
       "4771     0.000000                     0.000000                          1   \n",
       "6122     0.027888                     0.029049                          0   \n",
       "9202     0.015936                     0.416813                          0   \n",
       "6570     0.011952                     0.378961                          0   \n",
       "2668     0.031873                     0.395246                          0   \n",
       "\n",
       "      Lead Source_Olark Chat  Lead Source_Welingak Website  Do Not Email_Yes  \\\n",
       "4771                       0                             0                 0   \n",
       "6122                       0                             0                 0   \n",
       "9202                       0                             0                 0   \n",
       "6570                       0                             0                 1   \n",
       "2668                       0                             0                 0   \n",
       "\n",
       "      Last Activity_Had a Phone Conversation  Last Activity_SMS Sent  \\\n",
       "4771                                       0                       1   \n",
       "6122                                       0                       0   \n",
       "9202                                       0                       1   \n",
       "6570                                       0                       1   \n",
       "2668                                       0                       1   \n",
       "\n",
       "      What is your current occupation_Student  \\\n",
       "4771                                        0   \n",
       "6122                                        0   \n",
       "9202                                        0   \n",
       "6570                                        0   \n",
       "2668                                        0   \n",
       "\n",
       "      What is your current occupation_Unemployed  \\\n",
       "4771                                           0   \n",
       "6122                                           1   \n",
       "9202                                           1   \n",
       "6570                                           1   \n",
       "2668                                           1   \n",
       "\n",
       "      Last Notable Activity_Unreachable  \n",
       "4771                                  0  \n",
       "6122                                  0  \n",
       "9202                                  0  \n",
       "6570                                  0  \n",
       "2668                                  0  "
      ]
     },
     "execution_count": 609,
     "metadata": {},
     "output_type": "execute_result"
    }
   ],
   "source": [
    "# Selecting the same columns in x_test as x_train\n",
    "X_test = X_test[X_train.columns]\n",
    "X_test.head()"
   ]
  },
  {
   "cell_type": "code",
   "execution_count": 611,
   "id": "8719d1a59a7abc18",
   "metadata": {
    "ExecuteTime": {
     "end_time": "2025-08-16T15:53:35.202864Z",
     "start_time": "2025-08-16T15:53:35.194406Z"
    }
   },
   "outputs": [],
   "source": [
    "# Add a constant to X_test\n",
    "\n",
    "X_test_sm = sm.add_constant(X_test[X_train.columns])"
   ]
  },
  {
   "cell_type": "markdown",
   "id": "480dedf9e3a15add",
   "metadata": {},
   "source": [
    "### Making predictions on X_test"
   ]
  },
  {
   "cell_type": "code",
   "execution_count": 612,
   "id": "4daa28a76d4f2764",
   "metadata": {
    "ExecuteTime": {
     "end_time": "2025-08-16T15:53:35.262621Z",
     "start_time": "2025-08-16T15:53:35.257549Z"
    }
   },
   "outputs": [
    {
     "name": "stdout",
     "output_type": "stream",
     "text": [
      "4771    0.996296\n",
      "6122    0.129992\n",
      "9202    0.703937\n",
      "6570    0.299564\n",
      "2668    0.720796\n",
      "4233    0.792250\n",
      "3368    0.704038\n",
      "9091    0.464521\n",
      "5972    0.282978\n",
      "3631    0.786460\n",
      "dtype: float64\n"
     ]
    }
   ],
   "source": [
    "y_test_pred = result.predict(X_test_sm)\n",
    "print(y_test_pred[:10])"
   ]
  },
  {
   "cell_type": "code",
   "execution_count": 613,
   "id": "28d4935967a98248",
   "metadata": {
    "ExecuteTime": {
     "end_time": "2025-08-16T15:53:35.357737Z",
     "start_time": "2025-08-16T15:53:35.350739Z"
    }
   },
   "outputs": [
    {
     "data": {
      "text/html": [
       "<div>\n",
       "<style scoped>\n",
       "    .dataframe tbody tr th:only-of-type {\n",
       "        vertical-align: middle;\n",
       "    }\n",
       "\n",
       "    .dataframe tbody tr th {\n",
       "        vertical-align: top;\n",
       "    }\n",
       "\n",
       "    .dataframe thead th {\n",
       "        text-align: right;\n",
       "    }\n",
       "</style>\n",
       "<table border=\"1\" class=\"dataframe\">\n",
       "  <thead>\n",
       "    <tr style=\"text-align: right;\">\n",
       "      <th></th>\n",
       "      <th>0</th>\n",
       "    </tr>\n",
       "  </thead>\n",
       "  <tbody>\n",
       "    <tr>\n",
       "      <th>4771</th>\n",
       "      <td>0.996296</td>\n",
       "    </tr>\n",
       "    <tr>\n",
       "      <th>6122</th>\n",
       "      <td>0.129992</td>\n",
       "    </tr>\n",
       "    <tr>\n",
       "      <th>9202</th>\n",
       "      <td>0.703937</td>\n",
       "    </tr>\n",
       "    <tr>\n",
       "      <th>6570</th>\n",
       "      <td>0.299564</td>\n",
       "    </tr>\n",
       "    <tr>\n",
       "      <th>2668</th>\n",
       "      <td>0.720796</td>\n",
       "    </tr>\n",
       "    <tr>\n",
       "      <th>4233</th>\n",
       "      <td>0.792250</td>\n",
       "    </tr>\n",
       "    <tr>\n",
       "      <th>3368</th>\n",
       "      <td>0.704038</td>\n",
       "    </tr>\n",
       "    <tr>\n",
       "      <th>9091</th>\n",
       "      <td>0.464521</td>\n",
       "    </tr>\n",
       "    <tr>\n",
       "      <th>5972</th>\n",
       "      <td>0.282978</td>\n",
       "    </tr>\n",
       "    <tr>\n",
       "      <th>3631</th>\n",
       "      <td>0.786460</td>\n",
       "    </tr>\n",
       "  </tbody>\n",
       "</table>\n",
       "</div>"
      ],
      "text/plain": [
       "             0\n",
       "4771  0.996296\n",
       "6122  0.129992\n",
       "9202  0.703937\n",
       "6570  0.299564\n",
       "2668  0.720796\n",
       "4233  0.792250\n",
       "3368  0.704038\n",
       "9091  0.464521\n",
       "5972  0.282978\n",
       "3631  0.786460"
      ]
     },
     "execution_count": 613,
     "metadata": {},
     "output_type": "execute_result"
    }
   ],
   "source": [
    "# Converting y_pred to a dataframe which is an array\n",
    "y_pred_1 = pd.DataFrame(y_test_pred)\n",
    "y_pred_1.head(10)"
   ]
  },
  {
   "cell_type": "code",
   "execution_count": 614,
   "id": "af75d17867c61ec7",
   "metadata": {
    "ExecuteTime": {
     "end_time": "2025-08-16T15:53:35.439218Z",
     "start_time": "2025-08-16T15:53:35.434855Z"
    }
   },
   "outputs": [],
   "source": [
    "# Converting y_test to dataframe\n",
    "y_test_df = pd.DataFrame(y_test)"
   ]
  },
  {
   "cell_type": "code",
   "execution_count": 615,
   "id": "48db8c45d392b963",
   "metadata": {
    "ExecuteTime": {
     "end_time": "2025-08-16T15:53:35.482870Z",
     "start_time": "2025-08-16T15:53:35.478729Z"
    }
   },
   "outputs": [],
   "source": [
    "# Removing index for both dataframes to append them side by side\n",
    "y_pred_1.reset_index(drop=True, inplace=True)\n",
    "y_test_df.reset_index(drop=True, inplace=True)"
   ]
  },
  {
   "cell_type": "code",
   "execution_count": 616,
   "id": "f129b29d31f62d51",
   "metadata": {
    "ExecuteTime": {
     "end_time": "2025-08-16T15:53:35.577586Z",
     "start_time": "2025-08-16T15:53:35.569482Z"
    }
   },
   "outputs": [
    {
     "data": {
      "text/html": [
       "<div>\n",
       "<style scoped>\n",
       "    .dataframe tbody tr th:only-of-type {\n",
       "        vertical-align: middle;\n",
       "    }\n",
       "\n",
       "    .dataframe tbody tr th {\n",
       "        vertical-align: top;\n",
       "    }\n",
       "\n",
       "    .dataframe thead th {\n",
       "        text-align: right;\n",
       "    }\n",
       "</style>\n",
       "<table border=\"1\" class=\"dataframe\">\n",
       "  <thead>\n",
       "    <tr style=\"text-align: right;\">\n",
       "      <th></th>\n",
       "      <th>Converted</th>\n",
       "      <th>0</th>\n",
       "    </tr>\n",
       "  </thead>\n",
       "  <tbody>\n",
       "    <tr>\n",
       "      <th>0</th>\n",
       "      <td>1</td>\n",
       "      <td>0.996296</td>\n",
       "    </tr>\n",
       "    <tr>\n",
       "      <th>1</th>\n",
       "      <td>0</td>\n",
       "      <td>0.129992</td>\n",
       "    </tr>\n",
       "    <tr>\n",
       "      <th>2</th>\n",
       "      <td>0</td>\n",
       "      <td>0.703937</td>\n",
       "    </tr>\n",
       "    <tr>\n",
       "      <th>3</th>\n",
       "      <td>1</td>\n",
       "      <td>0.299564</td>\n",
       "    </tr>\n",
       "    <tr>\n",
       "      <th>4</th>\n",
       "      <td>1</td>\n",
       "      <td>0.720796</td>\n",
       "    </tr>\n",
       "  </tbody>\n",
       "</table>\n",
       "</div>"
      ],
      "text/plain": [
       "   Converted         0\n",
       "0          1  0.996296\n",
       "1          0  0.129992\n",
       "2          0  0.703937\n",
       "3          1  0.299564\n",
       "4          1  0.720796"
      ]
     },
     "execution_count": 616,
     "metadata": {},
     "output_type": "execute_result"
    }
   ],
   "source": [
    "# Appending y_test_df and y_pred_1\n",
    "y_pred_final = pd.concat([y_test_df, y_pred_1],axis=1)\n",
    "y_pred_final.head()"
   ]
  },
  {
   "cell_type": "code",
   "execution_count": 617,
   "id": "19c916d988b0a596",
   "metadata": {
    "ExecuteTime": {
     "end_time": "2025-08-16T15:53:35.617521Z",
     "start_time": "2025-08-16T15:53:35.613323Z"
    }
   },
   "outputs": [],
   "source": [
    "# Renaming the column\n",
    "y_pred_final= y_pred_final.rename(columns={ 0 : 'Convert_Prob'})"
   ]
  },
  {
   "cell_type": "code",
   "execution_count": 618,
   "id": "189bf3619195077",
   "metadata": {
    "ExecuteTime": {
     "end_time": "2025-08-16T15:53:35.666994Z",
     "start_time": "2025-08-16T15:53:35.659995Z"
    }
   },
   "outputs": [
    {
     "data": {
      "text/html": [
       "<div>\n",
       "<style scoped>\n",
       "    .dataframe tbody tr th:only-of-type {\n",
       "        vertical-align: middle;\n",
       "    }\n",
       "\n",
       "    .dataframe tbody tr th {\n",
       "        vertical-align: top;\n",
       "    }\n",
       "\n",
       "    .dataframe thead th {\n",
       "        text-align: right;\n",
       "    }\n",
       "</style>\n",
       "<table border=\"1\" class=\"dataframe\">\n",
       "  <thead>\n",
       "    <tr style=\"text-align: right;\">\n",
       "      <th></th>\n",
       "      <th>Converted</th>\n",
       "      <th>Convert_Prob</th>\n",
       "    </tr>\n",
       "  </thead>\n",
       "  <tbody>\n",
       "    <tr>\n",
       "      <th>0</th>\n",
       "      <td>1</td>\n",
       "      <td>0.996296</td>\n",
       "    </tr>\n",
       "    <tr>\n",
       "      <th>1</th>\n",
       "      <td>0</td>\n",
       "      <td>0.129992</td>\n",
       "    </tr>\n",
       "    <tr>\n",
       "      <th>2</th>\n",
       "      <td>0</td>\n",
       "      <td>0.703937</td>\n",
       "    </tr>\n",
       "    <tr>\n",
       "      <th>3</th>\n",
       "      <td>1</td>\n",
       "      <td>0.299564</td>\n",
       "    </tr>\n",
       "    <tr>\n",
       "      <th>4</th>\n",
       "      <td>1</td>\n",
       "      <td>0.720796</td>\n",
       "    </tr>\n",
       "  </tbody>\n",
       "</table>\n",
       "</div>"
      ],
      "text/plain": [
       "   Converted  Convert_Prob\n",
       "0          1      0.996296\n",
       "1          0      0.129992\n",
       "2          0      0.703937\n",
       "3          1      0.299564\n",
       "4          1      0.720796"
      ]
     },
     "execution_count": 618,
     "metadata": {},
     "output_type": "execute_result"
    }
   ],
   "source": [
    "\n",
    "# Let's see the head of y_pred_final\n",
    "y_pred_final.head()"
   ]
  },
  {
   "cell_type": "code",
   "execution_count": 619,
   "id": "5911f8b0355515c4",
   "metadata": {
    "ExecuteTime": {
     "end_time": "2025-08-16T15:53:35.773051Z",
     "start_time": "2025-08-16T15:53:35.763823Z"
    }
   },
   "outputs": [
    {
     "data": {
      "text/html": [
       "<div>\n",
       "<style scoped>\n",
       "    .dataframe tbody tr th:only-of-type {\n",
       "        vertical-align: middle;\n",
       "    }\n",
       "\n",
       "    .dataframe tbody tr th {\n",
       "        vertical-align: top;\n",
       "    }\n",
       "\n",
       "    .dataframe thead th {\n",
       "        text-align: right;\n",
       "    }\n",
       "</style>\n",
       "<table border=\"1\" class=\"dataframe\">\n",
       "  <thead>\n",
       "    <tr style=\"text-align: right;\">\n",
       "      <th></th>\n",
       "      <th>Converted</th>\n",
       "      <th>Convert_Prob</th>\n",
       "      <th>final_predicted</th>\n",
       "    </tr>\n",
       "  </thead>\n",
       "  <tbody>\n",
       "    <tr>\n",
       "      <th>0</th>\n",
       "      <td>1</td>\n",
       "      <td>0.996296</td>\n",
       "      <td>1</td>\n",
       "    </tr>\n",
       "    <tr>\n",
       "      <th>1</th>\n",
       "      <td>0</td>\n",
       "      <td>0.129992</td>\n",
       "      <td>0</td>\n",
       "    </tr>\n",
       "    <tr>\n",
       "      <th>2</th>\n",
       "      <td>0</td>\n",
       "      <td>0.703937</td>\n",
       "      <td>1</td>\n",
       "    </tr>\n",
       "    <tr>\n",
       "      <th>3</th>\n",
       "      <td>1</td>\n",
       "      <td>0.299564</td>\n",
       "      <td>0</td>\n",
       "    </tr>\n",
       "    <tr>\n",
       "      <th>4</th>\n",
       "      <td>1</td>\n",
       "      <td>0.720796</td>\n",
       "      <td>1</td>\n",
       "    </tr>\n",
       "  </tbody>\n",
       "</table>\n",
       "</div>"
      ],
      "text/plain": [
       "   Converted  Convert_Prob  final_predicted\n",
       "0          1      0.996296                1\n",
       "1          0      0.129992                0\n",
       "2          0      0.703937                1\n",
       "3          1      0.299564                0\n",
       "4          1      0.720796                1"
      ]
     },
     "execution_count": 619,
     "metadata": {},
     "output_type": "execute_result"
    }
   ],
   "source": [
    "y_pred_final['final_predicted'] = y_pred_final.Convert_Prob.map(lambda x: 1 if x > 0.42 else 0)\n",
    "y_pred_final.head()"
   ]
  },
  {
   "cell_type": "markdown",
   "id": "71981478dbea5751",
   "metadata": {},
   "source": [
    "Converting Convert_prob to lead score from 0 to 100"
   ]
  },
  {
   "cell_type": "code",
   "execution_count": 620,
   "id": "e4335b50837df578",
   "metadata": {
    "ExecuteTime": {
     "end_time": "2025-08-16T15:53:35.871839Z",
     "start_time": "2025-08-16T15:53:35.867090Z"
    }
   },
   "outputs": [],
   "source": [
    "y_pred_final['Lead Score'] = y_pred_final['Convert_Prob']*100"
   ]
  },
  {
   "cell_type": "code",
   "execution_count": 621,
   "id": "4434b9ec37449b07",
   "metadata": {
    "ExecuteTime": {
     "end_time": "2025-08-16T15:53:35.950970Z",
     "start_time": "2025-08-16T15:53:35.944977Z"
    }
   },
   "outputs": [
    {
     "data": {
      "text/plain": [
       "0.7845188284518828"
      ]
     },
     "execution_count": 621,
     "metadata": {},
     "output_type": "execute_result"
    }
   ],
   "source": [
    "# Let's check the overall accuracy.\n",
    "metrics.accuracy_score(y_pred_final.Converted, y_pred_final.final_predicted)"
   ]
  },
  {
   "cell_type": "markdown",
   "id": "5b8b9e2f519c8dc4",
   "metadata": {},
   "source": [
    "Got an accuracy of 78.3%"
   ]
  },
  {
   "cell_type": "markdown",
   "id": "2ad124e69ab56a78",
   "metadata": {},
   "source": [
    "### Checking confusion matrix"
   ]
  },
  {
   "cell_type": "code",
   "execution_count": 622,
   "id": "36b42145db025ec6",
   "metadata": {
    "ExecuteTime": {
     "end_time": "2025-08-16T15:53:36.066744Z",
     "start_time": "2025-08-16T15:53:36.059696Z"
    }
   },
   "outputs": [
    {
     "data": {
      "text/plain": [
       "array([[786, 210],\n",
       "       [202, 714]], dtype=int64)"
      ]
     },
     "execution_count": 622,
     "metadata": {},
     "output_type": "execute_result"
    }
   ],
   "source": [
    "confusion2 = metrics.confusion_matrix(y_pred_final.Converted, y_pred_final.final_predicted )\n",
    "confusion2"
   ]
  },
  {
   "cell_type": "code",
   "execution_count": 623,
   "id": "ebf7effcf07002d3",
   "metadata": {
    "ExecuteTime": {
     "end_time": "2025-08-16T15:53:36.158850Z",
     "start_time": "2025-08-16T15:53:36.154906Z"
    }
   },
   "outputs": [],
   "source": [
    "TP = confusion2[1,1] # true positive\n",
    "TN = confusion2[0,0] # true negatives\n",
    "FP = confusion2[0,1] # false positives\n",
    "FN = confusion2[1,0] # false negatives"
   ]
  },
  {
   "cell_type": "code",
   "execution_count": 624,
   "id": "977001bd38efde5a",
   "metadata": {
    "ExecuteTime": {
     "end_time": "2025-08-16T15:53:36.207448Z",
     "start_time": "2025-08-16T15:53:36.201859Z"
    }
   },
   "outputs": [
    {
     "data": {
      "text/plain": [
       "0.7794759825327511"
      ]
     },
     "execution_count": 624,
     "metadata": {},
     "output_type": "execute_result"
    }
   ],
   "source": [
    "# Let's see the sensitivity of our logistic regression model\n",
    "TP / float(TP+FN)"
   ]
  },
  {
   "cell_type": "code",
   "execution_count": 625,
   "id": "1b2f9d8aa6a3f7ad",
   "metadata": {
    "ExecuteTime": {
     "end_time": "2025-08-16T15:53:36.304383Z",
     "start_time": "2025-08-16T15:53:36.299505Z"
    }
   },
   "outputs": [
    {
     "data": {
      "text/plain": [
       "0.7891566265060241"
      ]
     },
     "execution_count": 625,
     "metadata": {},
     "output_type": "execute_result"
    }
   ],
   "source": [
    "# Let us calculate specificity\n",
    "TN / float(TN+FP)"
   ]
  },
  {
   "cell_type": "markdown",
   "id": "8f16a95b14ea8897",
   "metadata": {},
   "source": [
    "### Checking tradeoff"
   ]
  },
  {
   "cell_type": "code",
   "execution_count": 626,
   "id": "a420273a95b456aa",
   "metadata": {
    "ExecuteTime": {
     "end_time": "2025-08-16T15:53:36.363598Z",
     "start_time": "2025-08-16T15:53:36.357363Z"
    }
   },
   "outputs": [],
   "source": [
    "p, r, thresholds = precision_recall_curve(y_train_pred_final.Convert, y_train_pred_final.Convert_Prob)"
   ]
  },
  {
   "cell_type": "code",
   "execution_count": 627,
   "id": "284a135fffa41061",
   "metadata": {
    "ExecuteTime": {
     "end_time": "2025-08-16T15:53:36.489245Z",
     "start_time": "2025-08-16T15:53:36.416316Z"
    }
   },
   "outputs": [
    {
     "data": {
      "image/png": "[encoded data removed]",
      "text/plain": [
       "<Figure size 640x480 with 1 Axes>"
      ]
     },
     "metadata": {},
     "output_type": "display_data"
    }
   ],
   "source": [
    "plt.plot(thresholds, p[:-1], \"g-\")\n",
    "plt.plot(thresholds, r[:-1], \"r-\")\n",
    "plt.show()"
   ]
  },
  {
   "cell_type": "code",
   "execution_count": 628,
   "id": "638bf629e1e46fac",
   "metadata": {
    "ExecuteTime": {
     "end_time": "2025-08-16T15:53:36.544125Z",
     "start_time": "2025-08-16T15:53:36.538815Z"
    }
   },
   "outputs": [
    {
     "data": {
      "text/plain": [
       "0.7727272727272727"
      ]
     },
     "execution_count": 628,
     "metadata": {},
     "output_type": "execute_result"
    }
   ],
   "source": [
    "# Calculate Precision\n",
    "\n",
    "TP/(TP+FP)"
   ]
  },
  {
   "cell_type": "code",
   "execution_count": 629,
   "id": "60095d24b205704d",
   "metadata": {
    "ExecuteTime": {
     "end_time": "2025-08-16T15:53:36.606018Z",
     "start_time": "2025-08-16T15:53:36.598773Z"
    }
   },
   "outputs": [
    {
     "data": {
      "text/plain": [
       "0.7794759825327511"
      ]
     },
     "execution_count": 629,
     "metadata": {},
     "output_type": "execute_result"
    }
   ],
   "source": [
    "# Calculate Recall\n",
    "\n",
    "TP/(TP+FN)"
   ]
  },
  {
   "cell_type": "markdown",
   "id": "f94bfec09104f066",
   "metadata": {},
   "source": [
    "The cutoff point looks good"
   ]
  },
  {
   "cell_type": "code",
   "execution_count": null,
   "id": "6df66fe03906920c",
   "metadata": {
    "ExecuteTime": {
     "end_time": "2025-08-16T15:53:36.664994Z",
     "start_time": "2025-08-16T15:53:36.661472Z"
    }
   },
   "outputs": [],
   "source": []
  },
  {
   "cell_type": "code",
   "execution_count": null,
   "id": "ee024953a63429c",
   "metadata": {
    "ExecuteTime": {
     "end_time": "2025-08-16T15:53:36.722618Z",
     "start_time": "2025-08-16T15:53:36.720187Z"
    }
   },
   "outputs": [],
   "source": []
  }
 ],
 "metadata": {
  "kernelspec": {
   "display_name": "base",
   "language": "python",
   "name": "python3"
  },
  "language_info": {
   "codemirror_mode": {
    "name": "ipython",
    "version": 3
   },
   "file_extension": ".py",
   "mimetype": "text/x-python",
   "name": "python",
   "nbconvert_exporter": "python",
   "pygments_lexer": "ipython3",
   "version": "3.12.7"
  }
 },
 "nbformat": 4,
 "nbformat_minor": 5
}
